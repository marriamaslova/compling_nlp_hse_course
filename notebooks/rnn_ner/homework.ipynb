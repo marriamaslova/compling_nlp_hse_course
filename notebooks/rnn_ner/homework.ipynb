{
  "cells": [
    {
      "cell_type": "markdown",
      "metadata": {
        "id": "view-in-github",
        "colab_type": "text"
      },
      "source": [
        "<a href=\"https://colab.research.google.com/github/marriamaslova/compling_nlp_hse_course/blob/master/notebooks/rnn_ner/homework.ipynb\" target=\"_parent\"><img src=\"https://colab.research.google.com/assets/colab-badge.svg\" alt=\"Open In Colab\"/></a>"
      ]
    },
    {
      "cell_type": "markdown",
      "id": "1bf6f873",
      "metadata": {
        "id": "1bf6f873"
      },
      "source": [
        "# Домашнее задание № 8"
      ]
    },
    {
      "cell_type": "code",
      "source": [
        "!pip install pandas scikit-learn matplotlib"
      ],
      "metadata": {
        "id": "m23BrkzKFm-m"
      },
      "id": "m23BrkzKFm-m",
      "execution_count": null,
      "outputs": []
    },
    {
      "cell_type": "code",
      "source": [
        "import tensorflow as tf"
      ],
      "metadata": {
        "id": "cBuPjJSrGOyT"
      },
      "id": "cBuPjJSrGOyT",
      "execution_count": null,
      "outputs": []
    },
    {
      "cell_type": "code",
      "source": [
        "import pandas as pd\n",
        "import numpy as np\n",
        "from string import punctuation\n",
        "from sklearn.model_selection import train_test_split\n",
        "from collections import Counter\n",
        "from IPython.display import Image\n",
        "from IPython.core.display import HTML \n",
        "import matplotlib.pyplot as plt\n",
        "%matplotlib inline"
      ],
      "metadata": {
        "id": "CElfbxuSGPnQ"
      },
      "id": "CElfbxuSGPnQ",
      "execution_count": null,
      "outputs": []
    },
    {
      "cell_type": "code",
      "source": [
        "from tensorflow import keras"
      ],
      "metadata": {
        "id": "IeuCTG7rLPUH"
      },
      "id": "IeuCTG7rLPUH",
      "execution_count": null,
      "outputs": []
    },
    {
      "cell_type": "code",
      "source": [
        "from sklearn.metrics import classification_report"
      ],
      "metadata": {
        "id": "rGuLdPYSS8Rx"
      },
      "id": "rGuLdPYSS8Rx",
      "execution_count": null,
      "outputs": []
    },
    {
      "cell_type": "code",
      "source": [
        "!pip install datasets"
      ],
      "metadata": {
        "id": "YXqgdFIw9KcK"
      },
      "id": "YXqgdFIw9KcK",
      "execution_count": null,
      "outputs": []
    },
    {
      "cell_type": "code",
      "source": [
        "from datasets import load_dataset"
      ],
      "metadata": {
        "id": "bdlNyXG49O20"
      },
      "id": "bdlNyXG49O20",
      "execution_count": null,
      "outputs": []
    },
    {
      "cell_type": "markdown",
      "id": "3b4bd487",
      "metadata": {
        "id": "3b4bd487"
      },
      "source": [
        "## Задание 1 (4 балла) "
      ]
    },
    {
      "cell_type": "markdown",
      "id": "bf4c4f87",
      "metadata": {
        "id": "bf4c4f87"
      },
      "source": [
        "Обучите 8 моделей для задачи классификации текста (датасет - lenta_40k ). А именно:  \n",
        "1) модель с 1 GRU слоем;   \n",
        "2) модель с 1 LSTM слоем    \n",
        "3) модель с 1 GRU и 1 LSTM слоем  \n",
        "4) модель с 1 BIGRU и 2 LSTM слоями  \n",
        "5) модель с 5 GRU слоями и 3 LSTM слоями  \n",
        "6) модель 1 BIGRU и 1 BILSTM слоями, причем так чтобы модели для forward и backward прохода отличались   \n",
        "7) модель, где последовательно идут слои: LSTM, GRU, BILSTM, BIGRU, GRU, LSTM  \n",
        "\n",
        "\n",
        "\n",
        "Параметр units и размер эмбединга можете задать любой. Оцените качество каждой модели и определите победителя."
      ]
    },
    {
      "cell_type": "code",
      "execution_count": null,
      "id": "83db6635",
      "metadata": {
        "id": "83db6635"
      },
      "outputs": [],
      "source": [
        "data = pd.read_csv('lenta_40k.csv')"
      ]
    },
    {
      "cell_type": "code",
      "execution_count": null,
      "id": "50362f6e",
      "metadata": {
        "id": "50362f6e"
      },
      "outputs": [],
      "source": [
        "def preprocess(text):\n",
        "    tokens = text.lower().split()\n",
        "    tokens = [token.strip(punctuation) for token in tokens]\n",
        "    return tokens"
      ]
    },
    {
      "cell_type": "code",
      "execution_count": null,
      "id": "b6676dab",
      "metadata": {
        "id": "b6676dab"
      },
      "outputs": [],
      "source": [
        "from keras import backend as K\n",
        "def f1(y_true, y_pred):\n",
        "    def recall(y_true, y_pred):\n",
        "        \"\"\"Recall metric.\n",
        "\n",
        "        Only computes a batch-wise average of recall.\n",
        "\n",
        "        Computes the recall, a metric for multi-label classification of\n",
        "        how many relevant items are selected.\n",
        "        \"\"\"\n",
        "        true_positives = K.sum(K.round(K.clip(y_true * y_pred, 0, 1)))\n",
        "        possible_positives = K.sum(K.round(K.clip(y_true, 0, 1)))\n",
        "        recall = true_positives / (possible_positives + K.epsilon())\n",
        "        return recall\n",
        "\n",
        "    def precision(y_true, y_pred):\n",
        "        \"\"\"Precision metric.\n",
        "\n",
        "        Only computes a batch-wise average of precision.\n",
        "\n",
        "        Computes the precision, a metric for multi-label classification of\n",
        "        how many selected items are relevant.\n",
        "        \"\"\"\n",
        "        true_positives = K.sum(K.round(K.clip(y_true * y_pred, 0, 1)))\n",
        "        predicted_positives = K.sum(K.round(K.clip(y_pred, 0, 1)))\n",
        "        precision = true_positives / (predicted_positives + K.epsilon())\n",
        "        return precision\n",
        "    precision = precision(y_true, y_pred)\n",
        "    recall = recall(y_true, y_pred)\n",
        "    return 2*((precision*recall)/(precision+recall+K.epsilon()))"
      ]
    },
    {
      "cell_type": "code",
      "source": [
        "vocab = Counter()\n",
        "\n",
        "for text in data.text:\n",
        "    vocab.update(preprocess(text))"
      ],
      "metadata": {
        "id": "cAJEfV7yKCQO"
      },
      "id": "cAJEfV7yKCQO",
      "execution_count": null,
      "outputs": []
    },
    {
      "cell_type": "code",
      "source": [
        "filtered_vocab = set()\n",
        "\n",
        "for word in vocab:\n",
        "    if vocab[word] > 30:\n",
        "        filtered_vocab.add(word)"
      ],
      "metadata": {
        "id": "nLmazGN8KCNX"
      },
      "id": "nLmazGN8KCNX",
      "execution_count": null,
      "outputs": []
    },
    {
      "cell_type": "code",
      "source": [
        "word2id = {'PAD':0, 'UNK':1}\n",
        "\n",
        "for word in filtered_vocab:\n",
        "    word2id[word] = len(word2id)"
      ],
      "metadata": {
        "id": "vM-5uA_8KCK8"
      },
      "id": "vM-5uA_8KCK8",
      "execution_count": null,
      "outputs": []
    },
    {
      "cell_type": "code",
      "source": [
        "id2word = {i:word for word, i in word2id.items()}"
      ],
      "metadata": {
        "id": "u0YVp0RcKCIi"
      },
      "id": "u0YVp0RcKCIi",
      "execution_count": null,
      "outputs": []
    },
    {
      "cell_type": "code",
      "source": [
        "X = []\n",
        "\n",
        "for text in data.text:\n",
        "    tokens = preprocess(text)\n",
        "    ids = [word2id.get(token, 1) for token in tokens]\n",
        "    X.append(ids)"
      ],
      "metadata": {
        "id": "z3x-BsURKCF2"
      },
      "id": "z3x-BsURKCF2",
      "execution_count": null,
      "outputs": []
    },
    {
      "cell_type": "code",
      "source": [
        "MAX_LEN = max(len(x) for x in X)\n",
        "MEAN_LEN = np.median([len(x) for x in X])\n",
        "MAX_LEN = int(MEAN_LEN + 30)"
      ],
      "metadata": {
        "id": "gGSevsBZKCDW"
      },
      "id": "gGSevsBZKCDW",
      "execution_count": null,
      "outputs": []
    },
    {
      "cell_type": "code",
      "source": [
        "X = tf.keras.preprocessing.sequence.pad_sequences(X, maxlen=MAX_LEN)"
      ],
      "metadata": {
        "id": "-XMfjqNlKCA1"
      },
      "id": "-XMfjqNlKCA1",
      "execution_count": null,
      "outputs": []
    },
    {
      "cell_type": "code",
      "source": [
        "id2label = {i:label for i, label in enumerate(set(data.topic.values))}\n",
        "label2id = {l:i for i, l in id2label.items()}"
      ],
      "metadata": {
        "id": "bmmHkUjqKB-q"
      },
      "id": "bmmHkUjqKB-q",
      "execution_count": null,
      "outputs": []
    },
    {
      "cell_type": "code",
      "source": [
        "y = tf.keras.utils.to_categorical([label2id[label] for label in data.topic.values])"
      ],
      "metadata": {
        "id": "7HPbGj6jKB8D"
      },
      "id": "7HPbGj6jKB8D",
      "execution_count": null,
      "outputs": []
    },
    {
      "cell_type": "code",
      "source": [
        "X_train, X_valid, y_train, y_valid = train_test_split(X, y, test_size=0.05, stratify=y)"
      ],
      "metadata": {
        "id": "_wI_3FP7KB5y"
      },
      "id": "_wI_3FP7KB5y",
      "execution_count": null,
      "outputs": []
    },
    {
      "cell_type": "markdown",
      "source": [
        "Модель с одним GRU-слоем"
      ],
      "metadata": {
        "id": "uMup4uMnNDpV"
      },
      "id": "uMup4uMnNDpV"
    },
    {
      "cell_type": "code",
      "source": [
        "inputs = tf.keras.layers.Input(shape=(MAX_LEN,))\n",
        "embeddings = tf.keras.layers.Embedding(input_dim=len(word2id), output_dim=30)(inputs, )\n",
        "\n",
        "rnn = tf.keras.layers.GRU(128, return_sequences=False)(embeddings)\n",
        "\n",
        "outputs = tf.keras.layers.Dense(len(label2id), activation='softmax')(rnn)\n",
        "\n",
        "model = tf.keras.Model(inputs=inputs, outputs=outputs)\n",
        "optimizer = tf.keras.optimizers.Adam(learning_rate=0.001)\n",
        "model.compile(optimizer=optimizer,\n",
        "              loss='categorical_crossentropy',\n",
        "              metrics=[f1, tf.keras.metrics.RecallAtPrecision(0.8, name='rec@prec')])"
      ],
      "metadata": {
        "id": "EYzeaQ-jKB3X"
      },
      "id": "EYzeaQ-jKB3X",
      "execution_count": null,
      "outputs": []
    },
    {
      "cell_type": "code",
      "source": [
        "model.fit(X_train, y_train, \n",
        "          validation_data=(X_valid, y_valid),\n",
        "          batch_size=1000,\n",
        "         epochs=20)"
      ],
      "metadata": {
        "id": "W7AEgzT9KB0o"
      },
      "id": "W7AEgzT9KB0o",
      "execution_count": null,
      "outputs": []
    },
    {
      "cell_type": "code",
      "source": [
        "print(model.history.history.keys())\n",
        "# summarize history for accuracy\n",
        "plt.plot(model.history.history['rec@prec'])\n",
        "plt.plot(model.history.history['val_rec@prec'])\n",
        "plt.title('model f1')\n",
        "plt.ylabel('f1')\n",
        "plt.xlabel('epoch')\n",
        "plt.legend(['train', 'val'], loc='upper left')\n",
        "plt.show()"
      ],
      "metadata": {
        "colab": {
          "base_uri": "https://localhost:8080/",
          "height": 312
        },
        "id": "MRGdC0mQKBya",
        "outputId": "1a3f4b3b-4826-4e7d-d60e-9abbee5b5878"
      },
      "id": "MRGdC0mQKBya",
      "execution_count": null,
      "outputs": [
        {
          "output_type": "stream",
          "name": "stdout",
          "text": [
            "dict_keys(['loss', 'f1', 'rec@prec', 'val_loss', 'val_f1', 'val_rec@prec'])\n"
          ]
        },
        {
          "output_type": "display_data",
          "data": {
            "text/plain": [
              "<Figure size 432x288 with 1 Axes>"
            ],
            "image/png": "[encoded data removed]"
          },
          "metadata": {
            "needs_background": "light"
          }
        }
      ]
    },
    {
      "cell_type": "code",
      "source": [
        "score = model.evaluate(X_valid, y_valid, verbose=0)\n",
        "print('Test loss:', score[0])\n",
        "print('Test accuracy:', score[1])"
      ],
      "metadata": {
        "colab": {
          "base_uri": "https://localhost:8080/"
        },
        "id": "g1VFV58JthUF",
        "outputId": "f0c8709d-6ba2-4178-d600-7edbb9eb8620"
      },
      "id": "g1VFV58JthUF",
      "execution_count": null,
      "outputs": [
        {
          "output_type": "stream",
          "name": "stdout",
          "text": [
            "Test loss: 1.950900673866272\n",
            "Test accuracy: 0.6167942881584167\n"
          ]
        }
      ]
    },
    {
      "cell_type": "markdown",
      "source": [
        "Модель с одним LSTM-слоем"
      ],
      "metadata": {
        "id": "C6ioV27HPpy2"
      },
      "id": "C6ioV27HPpy2"
    },
    {
      "cell_type": "code",
      "source": [
        "inputs = tf.keras.layers.Input(shape=(MAX_LEN,))\n",
        "embeddings = tf.keras.layers.Embedding(input_dim=len(word2id), output_dim=30)(inputs, )\n",
        "\n",
        "rnn = tf.keras.layers.LSTM(128, return_sequences=False)(embeddings)\n",
        "\n",
        "outputs = tf.keras.layers.Dense(len(label2id), activation='softmax')(rnn)\n",
        "\n",
        "model = tf.keras.Model(inputs=inputs, outputs=outputs)\n",
        "optimizer = tf.keras.optimizers.Adam(learning_rate=0.001)\n",
        "model.compile(optimizer=optimizer,\n",
        "              loss='categorical_crossentropy',\n",
        "              metrics=[f1, tf.keras.metrics.RecallAtPrecision(0.8, name='rec@prec')])"
      ],
      "metadata": {
        "id": "lv78C-bKKBwD"
      },
      "id": "lv78C-bKKBwD",
      "execution_count": null,
      "outputs": []
    },
    {
      "cell_type": "code",
      "source": [
        "model.fit(X_train, y_train, \n",
        "          validation_data=(X_valid, y_valid),\n",
        "          batch_size=1000,\n",
        "         epochs=20)"
      ],
      "metadata": {
        "id": "EimKh49bKBtd"
      },
      "id": "EimKh49bKBtd",
      "execution_count": null,
      "outputs": []
    },
    {
      "cell_type": "code",
      "source": [
        "print(model.history.history.keys())\n",
        "# summarize history for accuracy\n",
        "plt.plot(model.history.history['rec@prec'])\n",
        "plt.plot(model.history.history['val_rec@prec'])\n",
        "plt.title('model f1')\n",
        "plt.ylabel('f1')\n",
        "plt.xlabel('epoch')\n",
        "plt.legend(['train', 'val'], loc='upper left')\n",
        "plt.show()"
      ],
      "metadata": {
        "colab": {
          "base_uri": "https://localhost:8080/",
          "height": 312
        },
        "id": "GMp06_XYKBq8",
        "outputId": "b675bdf4-4d6b-4154-cf0f-ead77741def8"
      },
      "id": "GMp06_XYKBq8",
      "execution_count": null,
      "outputs": [
        {
          "output_type": "stream",
          "name": "stdout",
          "text": [
            "dict_keys(['loss', 'f1', 'rec@prec', 'val_loss', 'val_f1', 'val_rec@prec'])\n"
          ]
        },
        {
          "output_type": "display_data",
          "data": {
            "text/plain": [
              "<Figure size 432x288 with 1 Axes>"
            ],
            "image/png": "[encoded data removed]"
          },
          "metadata": {
            "needs_background": "light"
          }
        }
      ]
    },
    {
      "cell_type": "code",
      "source": [
        "score = model.evaluate(X_valid, y_valid, verbose=0)\n",
        "print('Test loss:', score[0])\n",
        "print('Test accuracy:', score[1])"
      ],
      "metadata": {
        "colab": {
          "base_uri": "https://localhost:8080/"
        },
        "id": "U3a-49kAuLH6",
        "outputId": "3604c146-a3e3-452f-f816-9b4d79ef173f"
      },
      "id": "U3a-49kAuLH6",
      "execution_count": null,
      "outputs": [
        {
          "output_type": "stream",
          "name": "stdout",
          "text": [
            "Test loss: 1.3251463174819946\n",
            "Test accuracy: 0.6975099444389343\n"
          ]
        }
      ]
    },
    {
      "cell_type": "markdown",
      "source": [
        "Модель с 1 GRU и 1 LSTM слоем"
      ],
      "metadata": {
        "id": "FywTk2_Otkoj"
      },
      "id": "FywTk2_Otkoj"
    },
    {
      "cell_type": "code",
      "source": [
        "inputs = tf.keras.layers.Input(shape=(MAX_LEN,))\n",
        "embeddings = tf.keras.layers.Embedding(input_dim=len(word2id), output_dim=30)(inputs, )\n",
        "\n",
        "gru_1 = tf.keras.layers.GRU(128, return_sequences=True)(embeddings)\n",
        "gru_2 = tf.keras.layers.LSTM(128, return_sequences=False)(gru_1)\n",
        "\n",
        "dense = tf.keras.layers.Dense(64, activation='relu')(gru_2)\n",
        "outputs = tf.keras.layers.Dense(len(label2id), activation='softmax')(dense)\n",
        "\n",
        "model = tf.keras.Model(inputs=inputs, outputs=outputs)\n",
        "optimizer = tf.keras.optimizers.Adam(learning_rate=0.001)\n",
        "model.compile(optimizer=optimizer,\n",
        "              loss='categorical_crossentropy',\n",
        "              metrics=[f1, tf.keras.metrics.RecallAtPrecision(0.8, name='rec@prec')])"
      ],
      "metadata": {
        "id": "77XAwNzYUsmb"
      },
      "id": "77XAwNzYUsmb",
      "execution_count": null,
      "outputs": []
    },
    {
      "cell_type": "code",
      "source": [
        "model.fit(X_train, y_train, \n",
        "          validation_data=(X_valid, y_valid),\n",
        "          batch_size=200,\n",
        "          epochs=15)"
      ],
      "metadata": {
        "id": "IQTP-JohUsjy"
      },
      "id": "IQTP-JohUsjy",
      "execution_count": null,
      "outputs": []
    },
    {
      "cell_type": "code",
      "source": [
        "print(model.history.history.keys())\n",
        "# summarize history for accuracy\n",
        "plt.plot(model.history.history['rec@prec'])\n",
        "plt.plot(model.history.history['val_rec@prec'])\n",
        "plt.title('model f1')\n",
        "plt.ylabel('f1')\n",
        "plt.xlabel('epoch')\n",
        "plt.legend(['train', 'val'], loc='upper left')\n",
        "plt.show()"
      ],
      "metadata": {
        "colab": {
          "base_uri": "https://localhost:8080/",
          "height": 312
        },
        "id": "nw8ryeApUshN",
        "outputId": "0501f3e1-b655-47c7-e1a7-a97445375691"
      },
      "id": "nw8ryeApUshN",
      "execution_count": null,
      "outputs": [
        {
          "output_type": "stream",
          "name": "stdout",
          "text": [
            "dict_keys(['loss', 'f1', 'rec@prec', 'val_loss', 'val_f1', 'val_rec@prec'])\n"
          ]
        },
        {
          "output_type": "display_data",
          "data": {
            "text/plain": [
              "<Figure size 432x288 with 1 Axes>"
            ],
            "image/png": "[encoded data removed]"
          },
          "metadata": {
            "needs_background": "light"
          }
        }
      ]
    },
    {
      "cell_type": "code",
      "source": [
        "score = model.evaluate(X_valid, y_valid, verbose=0)\n",
        "print('Test loss:', score[0])\n",
        "print('Test accuracy:', score[1])"
      ],
      "metadata": {
        "colab": {
          "base_uri": "https://localhost:8080/"
        },
        "id": "Y6SE92BbxF4Z",
        "outputId": "89bfa8f0-8a7c-47d1-a510-c7b228c1617c"
      },
      "id": "Y6SE92BbxF4Z",
      "execution_count": null,
      "outputs": [
        {
          "output_type": "stream",
          "name": "stdout",
          "text": [
            "Test loss: 1.603376030921936\n",
            "Test accuracy: 0.6633008718490601\n"
          ]
        }
      ]
    },
    {
      "cell_type": "markdown",
      "source": [
        "Модель с 1 BIGRU и 2 LSTM слоями"
      ],
      "metadata": {
        "id": "pUlyX_ar78Gq"
      },
      "id": "pUlyX_ar78Gq"
    },
    {
      "cell_type": "code",
      "source": [
        "inputs = tf.keras.layers.Input(shape=(MAX_LEN,))\n",
        "embeddings = tf.keras.layers.Embedding(input_dim=len(word2id), output_dim=30)(inputs, )\n",
        "\n",
        "gru_bi = tf.keras.layers.Bidirectional(tf.keras.layers.GRU(128, return_sequences=True))(embeddings)\n",
        "gru_2 = tf.keras.layers.LSTM(128, return_sequences=True)(gru_bi)\n",
        "gru_3 = tf.keras.layers.LSTM(130, return_sequences=False)(gru_2)\n",
        "\n",
        "outputs = tf.keras.layers.Dense(len(label2id), activation='softmax')(gru_3)\n",
        "\n",
        "model = tf.keras.Model(inputs=inputs, outputs=outputs)\n",
        "optimizer = tf.keras.optimizers.Adam()\n",
        "model.compile(optimizer=optimizer,\n",
        "              loss='categorical_crossentropy',\n",
        "              metrics=[f1, tf.keras.metrics.RecallAtPrecision(0.8, name='rec@prec')])"
      ],
      "metadata": {
        "id": "5H59i6k6Usei"
      },
      "id": "5H59i6k6Usei",
      "execution_count": null,
      "outputs": []
    },
    {
      "cell_type": "code",
      "source": [
        "model.fit(X_train, y_train, \n",
        "          validation_data=(X_valid, y_valid),\n",
        "          batch_size=200,\n",
        "          epochs=15)"
      ],
      "metadata": {
        "id": "wJuKtNmQKBoW"
      },
      "id": "wJuKtNmQKBoW",
      "execution_count": null,
      "outputs": []
    },
    {
      "cell_type": "code",
      "source": [
        "print(model.history.history.keys())\n",
        "# summarize history for accuracy\n",
        "plt.plot(model.history.history['rec@prec'])\n",
        "plt.plot(model.history.history['val_rec@prec'])\n",
        "plt.title('model f1')\n",
        "plt.ylabel('f1')\n",
        "plt.xlabel('epoch')\n",
        "plt.legend(['train', 'val'], loc='upper left')\n",
        "plt.show()"
      ],
      "metadata": {
        "id": "-z8jGxQjKBhe",
        "colab": {
          "base_uri": "https://localhost:8080/",
          "height": 312
        },
        "outputId": "e15ee8dc-a45c-4de9-fdb5-ca36a87c7323"
      },
      "id": "-z8jGxQjKBhe",
      "execution_count": null,
      "outputs": [
        {
          "output_type": "stream",
          "name": "stdout",
          "text": [
            "dict_keys(['loss', 'f1', 'rec@prec', 'val_loss', 'val_f1', 'val_rec@prec'])\n"
          ]
        },
        {
          "output_type": "display_data",
          "data": {
            "text/plain": [
              "<Figure size 432x288 with 1 Axes>"
            ],
            "image/png": "[encoded data removed]"
          },
          "metadata": {
            "needs_background": "light"
          }
        }
      ]
    },
    {
      "cell_type": "code",
      "source": [
        "score = model.evaluate(X_valid, y_valid, verbose=0)\n",
        "print('Test loss:', score[0])\n",
        "print('Test accuracy:', score[1])"
      ],
      "metadata": {
        "colab": {
          "base_uri": "https://localhost:8080/"
        },
        "id": "FrXBjSHsy1mh",
        "outputId": "68c6831f-6a3b-449d-8700-d0570b86bb77"
      },
      "id": "FrXBjSHsy1mh",
      "execution_count": null,
      "outputs": [
        {
          "output_type": "stream",
          "name": "stdout",
          "text": [
            "Test loss: 1.2358579635620117\n",
            "Test accuracy: 0.6951665878295898\n"
          ]
        }
      ]
    },
    {
      "cell_type": "markdown",
      "source": [
        "Модель с 5 GRU слоями и 3 LSTM слоями"
      ],
      "metadata": {
        "id": "L8B0S-geSXQS"
      },
      "id": "L8B0S-geSXQS"
    },
    {
      "cell_type": "code",
      "source": [
        "inputs = tf.keras.layers.Input(shape=(MAX_LEN,))\n",
        "embeddings = tf.keras.layers.Embedding(input_dim=len(word2id), output_dim=30)(inputs, )\n",
        "\n",
        "gru_1 = tf.keras.layers.GRU(128, return_sequences=True)(embeddings)\n",
        "gru_2 = tf.keras.layers.LSTM(128, return_sequences=True)(gru_1)\n",
        "gru_3 = tf.keras.layers.GRU(128, return_sequences=True)(gru_2)\n",
        "gru_4 = tf.keras.layers.LSTM(128, return_sequences=True)(gru_3)\n",
        "gru_5 = tf.keras.layers.GRU(128, return_sequences=True)(gru_4)\n",
        "gru_6 = tf.keras.layers.LSTM(128, return_sequences=True)(gru_5)\n",
        "gru_7 = tf.keras.layers.GRU(128, return_sequences=True)(gru_6)\n",
        "gru_8 = tf.keras.layers.GRU(130, return_sequences=False)(gru_7)\n",
        "\n",
        "outputs = tf.keras.layers.Dense(len(label2id), activation='softmax')(gru_8)\n",
        "\n",
        "model = tf.keras.Model(inputs=inputs, outputs=outputs)\n",
        "optimizer = tf.keras.optimizers.Adam()\n",
        "model.compile(optimizer=optimizer,\n",
        "              loss='categorical_crossentropy',\n",
        "              metrics=[f1, tf.keras.metrics.RecallAtPrecision(0.8, name='rec@prec')])"
      ],
      "metadata": {
        "id": "5t01xk6LSXCj"
      },
      "id": "5t01xk6LSXCj",
      "execution_count": null,
      "outputs": []
    },
    {
      "cell_type": "code",
      "source": [
        "model.fit(X_train, y_train, \n",
        "          validation_data=(X_valid, y_valid),\n",
        "          batch_size=200,\n",
        "          epochs=15)"
      ],
      "metadata": {
        "id": "J0HRdtpwSW_8"
      },
      "id": "J0HRdtpwSW_8",
      "execution_count": null,
      "outputs": []
    },
    {
      "cell_type": "code",
      "source": [
        "print(model.history.history.keys())\n",
        "# summarize history for accuracy\n",
        "plt.plot(model.history.history['rec@prec'])\n",
        "plt.plot(model.history.history['val_rec@prec'])\n",
        "plt.title('model f1')\n",
        "plt.ylabel('f1')\n",
        "plt.xlabel('epoch')\n",
        "plt.legend(['train', 'val'], loc='upper left')\n",
        "plt.show()"
      ],
      "metadata": {
        "colab": {
          "base_uri": "https://localhost:8080/",
          "height": 312
        },
        "id": "plbuU4EjSW9Y",
        "outputId": "3b523cf5-4489-4004-b5c5-a3bb3d714c4a"
      },
      "id": "plbuU4EjSW9Y",
      "execution_count": null,
      "outputs": [
        {
          "output_type": "stream",
          "name": "stdout",
          "text": [
            "dict_keys(['loss', 'f1', 'rec@prec', 'val_loss', 'val_f1', 'val_rec@prec'])\n"
          ]
        },
        {
          "output_type": "display_data",
          "data": {
            "text/plain": [
              "<Figure size 432x288 with 1 Axes>"
            ],
            "image/png": "[encoded data removed]"
          },
          "metadata": {
            "needs_background": "light"
          }
        }
      ]
    },
    {
      "cell_type": "code",
      "source": [
        "score = model.evaluate(X_valid, y_valid, verbose=0)\n",
        "print('Test loss:', score[0])\n",
        "print('Test accuracy:', score[1])"
      ],
      "metadata": {
        "colab": {
          "base_uri": "https://localhost:8080/"
        },
        "id": "kyJeuTUXy2Sm",
        "outputId": "b62ce3f2-f040-4ac5-fa63-a12b86a96a2e"
      },
      "id": "kyJeuTUXy2Sm",
      "execution_count": null,
      "outputs": [
        {
          "output_type": "stream",
          "name": "stdout",
          "text": [
            "Test loss: 1.6718418598175049\n",
            "Test accuracy: 0.6851969957351685\n"
          ]
        }
      ]
    },
    {
      "cell_type": "markdown",
      "source": [
        "Модель c 1 BIGRU и 1 BILSTM слоями"
      ],
      "metadata": {
        "id": "hItLFd4WDNfX"
      },
      "id": "hItLFd4WDNfX"
    },
    {
      "cell_type": "code",
      "source": [
        "inputs = tf.keras.layers.Input(shape=(MAX_LEN,))\n",
        "embeddings = tf.keras.layers.Embedding(input_dim=len(word2id), output_dim=100)(inputs, )\n",
        "\n",
        "hidden_1 = tf.keras.layers.Bidirectional(\n",
        "                                       tf.keras.layers.LSTM(128, return_sequences=True),\n",
        "                        backward_layer=tf.keras.layers.LSTM(128, return_sequences=True, \n",
        "                                                            go_backwards=True))(embeddings)\n",
        "hidden_2 = tf.keras.layers.Bidirectional(\n",
        "                                       tf.keras.layers.GRU(128, return_sequences=False),\n",
        "                        backward_layer=tf.keras.layers.GRU(128, return_sequences=False, \n",
        "                                                            go_backwards=True))(hidden_1)\n",
        "\n",
        "outputs = tf.keras.layers.Dense(len(label2id), activation='softmax')(hidden_2)\n",
        "\n",
        "model = tf.keras.Model(inputs=inputs, outputs=outputs)\n",
        "\n",
        "model.compile(optimizer='rmsprop',\n",
        "              loss='categorical_crossentropy',\n",
        "              metrics=[f1, tf.keras.metrics.RecallAtPrecision(0.8, name='rec@prec')])"
      ],
      "metadata": {
        "id": "jJlwa7S-SW61"
      },
      "id": "jJlwa7S-SW61",
      "execution_count": null,
      "outputs": []
    },
    {
      "cell_type": "code",
      "source": [
        "model.fit(X_train, y_train, \n",
        "          validation_data=(X_valid, y_valid),\n",
        "          batch_size=200,\n",
        "          epochs=15)"
      ],
      "metadata": {
        "id": "aH4wv3WtSW4f"
      },
      "id": "aH4wv3WtSW4f",
      "execution_count": null,
      "outputs": []
    },
    {
      "cell_type": "code",
      "source": [
        "print(model.history.history.keys())\n",
        "# summarize history for accuracy\n",
        "plt.plot(model.history.history['rec@prec'])\n",
        "plt.plot(model.history.history['val_rec@prec'])\n",
        "plt.title('model f1')\n",
        "plt.ylabel('f1')\n",
        "plt.xlabel('epoch')\n",
        "plt.legend(['train', 'val'], loc='upper left')\n",
        "plt.show()"
      ],
      "metadata": {
        "colab": {
          "base_uri": "https://localhost:8080/",
          "height": 312
        },
        "id": "9ohVBGuOSW2U",
        "outputId": "be0c0665-8d62-4b74-bcfe-1b1d23cb3969"
      },
      "id": "9ohVBGuOSW2U",
      "execution_count": null,
      "outputs": [
        {
          "output_type": "stream",
          "name": "stdout",
          "text": [
            "dict_keys(['loss', 'f1', 'rec@prec', 'val_loss', 'val_f1', 'val_rec@prec'])\n"
          ]
        },
        {
          "output_type": "display_data",
          "data": {
            "text/plain": [
              "<Figure size 432x288 with 1 Axes>"
            ],
            "image/png": "[encoded data removed]"
          },
          "metadata": {
            "needs_background": "light"
          }
        }
      ]
    },
    {
      "cell_type": "code",
      "source": [
        "score = model.evaluate(X_valid, y_valid, verbose=0)\n",
        "print('Test loss:', score[0])\n",
        "print('Test accuracy:', score[1])"
      ],
      "metadata": {
        "colab": {
          "base_uri": "https://localhost:8080/"
        },
        "id": "QuAhWNrJy3ME",
        "outputId": "60162dfc-1580-46d4-875f-3889372f8648"
      },
      "id": "QuAhWNrJy3ME",
      "execution_count": null,
      "outputs": [
        {
          "output_type": "stream",
          "name": "stdout",
          "text": [
            "Test loss: 1.5563887357711792\n",
            "Test accuracy: 0.7019110918045044\n"
          ]
        }
      ]
    },
    {
      "cell_type": "markdown",
      "source": [
        "Модель, где последовательно идут слои: LSTM, GRU, BILSTM, BIGRU, GRU, LSTM"
      ],
      "metadata": {
        "id": "thHC6S7DG6i1"
      },
      "id": "thHC6S7DG6i1"
    },
    {
      "cell_type": "code",
      "source": [
        "inputs = tf.keras.layers.Input(shape=(MAX_LEN,))\n",
        "embeddings = tf.keras.layers.Embedding(input_dim=len(word2id), output_dim=30)(inputs, )\n",
        "\n",
        "hidden_1 = tf.keras.layers.LSTM(128, return_sequences=True)(embeddings)\n",
        "hidden_2 = tf.keras.layers.GRU(128, return_sequences=True)(hidden_1)\n",
        "hidden_3 = tf.keras.layers.Bidirectional(\n",
        "                                       tf.keras.layers.LSTM(128, return_sequences=True),\n",
        "                        backward_layer=tf.keras.layers.LSTM(128, return_sequences=True, \n",
        "                                                            go_backwards=True))(hidden_2)\n",
        "hidden_4 = tf.keras.layers.Bidirectional(\n",
        "                                       tf.keras.layers.GRU(128, return_sequences=True),\n",
        "                        backward_layer=tf.keras.layers.GRU(128, return_sequences=True, \n",
        "                                                            go_backwards=True))(hidden_3)\n",
        "hidden_5 = tf.keras.layers.GRU(128, return_sequences=True)(hidden_4)\n",
        "hidden_6 = tf.keras.layers.LSTM(128, return_sequences=False)(hidden_5)\n",
        "\n",
        "outputs = tf.keras.layers.Dense(len(label2id), activation='softmax')(hidden_6)\n",
        "\n",
        "model = tf.keras.Model(inputs=inputs, outputs=outputs)\n",
        "optimizer = tf.keras.optimizers.Adam()\n",
        "model.compile(optimizer=optimizer,\n",
        "              loss='categorical_crossentropy',\n",
        "              metrics=[f1, tf.keras.metrics.RecallAtPrecision(0.8, name='rec@prec')])"
      ],
      "metadata": {
        "id": "1zrsenJ-SWzu"
      },
      "id": "1zrsenJ-SWzu",
      "execution_count": null,
      "outputs": []
    },
    {
      "cell_type": "code",
      "source": [
        "model.fit(X_train, y_train, \n",
        "          validation_data=(X_valid, y_valid),\n",
        "          batch_size=200,\n",
        "          epochs=15)"
      ],
      "metadata": {
        "id": "3z3n-Ri3SWxY"
      },
      "id": "3z3n-Ri3SWxY",
      "execution_count": null,
      "outputs": []
    },
    {
      "cell_type": "code",
      "source": [
        "print(model.history.history.keys())\n",
        "# summarize history for accuracy\n",
        "plt.plot(model.history.history['rec@prec'])\n",
        "plt.plot(model.history.history['val_rec@prec'])\n",
        "plt.title('model f1')\n",
        "plt.ylabel('f1')\n",
        "plt.xlabel('epoch')\n",
        "plt.legend(['train', 'val'], loc='upper left')\n",
        "plt.show()"
      ],
      "metadata": {
        "colab": {
          "base_uri": "https://localhost:8080/",
          "height": 312
        },
        "id": "Ej4aKNFISWvB",
        "outputId": "e21b1c09-45aa-4599-d629-55e0b0d79a1f"
      },
      "id": "Ej4aKNFISWvB",
      "execution_count": null,
      "outputs": [
        {
          "output_type": "stream",
          "name": "stdout",
          "text": [
            "dict_keys(['loss', 'f1', 'rec@prec', 'val_loss', 'val_f1', 'val_rec@prec'])\n"
          ]
        },
        {
          "output_type": "display_data",
          "data": {
            "text/plain": [
              "<Figure size 432x288 with 1 Axes>"
            ],
            "image/png": "[encoded data removed]"
          },
          "metadata": {
            "needs_background": "light"
          }
        }
      ]
    },
    {
      "cell_type": "code",
      "source": [
        "score = model.evaluate(X_valid, y_valid, verbose=0)\n",
        "print('Test loss:', score[0])\n",
        "print('Test accuracy:', score[1])"
      ],
      "metadata": {
        "colab": {
          "base_uri": "https://localhost:8080/"
        },
        "id": "nTLoiJkny3xr",
        "outputId": "387149fa-a6ff-4377-beab-d29d17c894ac"
      },
      "id": "nTLoiJkny3xr",
      "execution_count": null,
      "outputs": [
        {
          "output_type": "stream",
          "name": "stdout",
          "text": [
            "Test loss: 1.3723623752593994\n",
            "Test accuracy: 0.6715415716171265\n"
          ]
        }
      ]
    },
    {
      "cell_type": "markdown",
      "source": [
        "По получившейся оценке и по графику победила модель с 1 BIGRU и 1 BILSTM слоями."
      ],
      "metadata": {
        "id": "VWTf7dSXQ-WE"
      },
      "id": "VWTf7dSXQ-WE"
    },
    {
      "cell_type": "markdown",
      "id": "ed5d6eea",
      "metadata": {
        "id": "ed5d6eea"
      },
      "source": [
        "## Задание 2 (6 баллов)\n"
      ]
    },
    {
      "cell_type": "markdown",
      "id": "5c2c07cf",
      "metadata": {
        "id": "5c2c07cf"
      },
      "source": [
        "На данных википедии (wikiann) обучите 2 модели:  \n",
        "1) модель в которой будут использованы предобученные эмбединги слов и несколько BILSTM слоев. \n",
        "1) модель в которой будут использованы предобученные эмбединги слов и несколько BIGRU слоев. \n",
        "\n",
        "Сравните качество по метрикам. Также придумайте несколько сложных примеров и проверьте, какие сущности определяет каждая из моделей."
      ]
    },
    {
      "cell_type": "code",
      "execution_count": null,
      "id": "fb704b1b",
      "metadata": {
        "id": "fb704b1b"
      },
      "outputs": [],
      "source": [
        "dataset = load_dataset(\"wikiann\", 'ru')"
      ]
    },
    {
      "cell_type": "code",
      "execution_count": null,
      "id": "24b4e4aa",
      "metadata": {
        "id": "24b4e4aa"
      },
      "outputs": [],
      "source": [
        "vocab = Counter()\n",
        "\n",
        "for sent in dataset['train']['tokens']:\n",
        "    vocab.update([x.lower() for x in sent])"
      ]
    },
    {
      "cell_type": "code",
      "source": [
        "word2id = {'PAD':0, 'UNK':1}\n",
        "\n",
        "for word in vocab:\n",
        "    word2id[word] = len(word2id)"
      ],
      "metadata": {
        "id": "lKxMk9JM-lhm"
      },
      "id": "lKxMk9JM-lhm",
      "execution_count": null,
      "outputs": []
    },
    {
      "cell_type": "code",
      "source": [
        "id2word = {i:word for word, i in word2id.items()}"
      ],
      "metadata": {
        "id": "BtcT9fSD-len"
      },
      "id": "BtcT9fSD-len",
      "execution_count": null,
      "outputs": []
    },
    {
      "cell_type": "code",
      "source": [
        "X = []\n",
        "\n",
        "for sent in dataset['train']['tokens']:\n",
        "    tokens = [w.lower() for w in sent]\n",
        "    ids = [word2id.get(token, 1) for token in tokens]\n",
        "    X.append(ids)"
      ],
      "metadata": {
        "id": "Jscs3NvU-lcQ"
      },
      "id": "Jscs3NvU-lcQ",
      "execution_count": null,
      "outputs": []
    },
    {
      "cell_type": "code",
      "source": [
        "X_test = []\n",
        "\n",
        "for sent in dataset['test']['tokens']:\n",
        "    tokens = [w.lower() for w in sent]\n",
        "    ids = [word2id.get(token, 1) for token in tokens]\n",
        "    X_test.append(ids)"
      ],
      "metadata": {
        "id": "9p35kD4J-lZ4"
      },
      "id": "9p35kD4J-lZ4",
      "execution_count": null,
      "outputs": []
    },
    {
      "cell_type": "code",
      "source": [
        "MAX_LEN = max(len(x) for x in X)"
      ],
      "metadata": {
        "id": "E6eTNG9L-lXh"
      },
      "id": "E6eTNG9L-lXh",
      "execution_count": null,
      "outputs": []
    },
    {
      "cell_type": "code",
      "source": [
        "X = tf.keras.preprocessing.sequence.pad_sequences(X, maxlen=MAX_LEN, padding='post')\n",
        "X_test = tf.keras.preprocessing.sequence.pad_sequences(X_test, maxlen=MAX_LEN, padding='post')"
      ],
      "metadata": {
        "id": "ncN_tY1E-lVO"
      },
      "id": "ncN_tY1E-lVO",
      "execution_count": null,
      "outputs": []
    },
    {
      "cell_type": "code",
      "source": [
        "id2labels = {0:'O', 1:'B-PER', 2:'I-PER', 3:'B-ORG', 4:'I-ORG', 5: 'B-LOC', 6:'I-LOC', 7:'PAD'}\n",
        "label2id = {v:k for k,v in id2labels.items()} "
      ],
      "metadata": {
        "id": "mxK8-idC-lS-"
      },
      "id": "mxK8-idC-lS-",
      "execution_count": null,
      "outputs": []
    },
    {
      "cell_type": "code",
      "source": [
        "y = tf.keras.preprocessing.sequence.pad_sequences(dataset['train']['ner_tags'], value=7,\n",
        "                                                  maxlen=MAX_LEN,  padding='post')\n",
        "y_test = tf.keras.preprocessing.sequence.pad_sequences(dataset['test']['ner_tags'], value=7,\n",
        "                                                       maxlen=MAX_LEN,  padding='post')"
      ],
      "metadata": {
        "id": "TnghVtu6-lQg"
      },
      "id": "TnghVtu6-lQg",
      "execution_count": null,
      "outputs": []
    },
    {
      "cell_type": "code",
      "source": [
        "import re\n",
        "\n",
        "def tokenize(text, word2id):\n",
        "    # токенизирует и переводит в индексы\n",
        "    tokens = re.findall('\\w+|[^\\w\\s]+', text)\n",
        "    ids = [word2id.get(token.lower(), 1) for token in tokens]\n",
        "    return tokens, ids\n",
        "\n",
        "def pred2tags(pred, id2label, length):\n",
        "    # декодирует индексы в части речи\n",
        "    # length нужно чтобы откидывать паддинги или некорректные предсказания\n",
        "    pred = pred.argmax(2)[0, :length]\n",
        "    labels = [id2label[l] for l in pred]\n",
        "    return labels\n",
        "\n",
        "def label_seq(text, word2id, id2label, max_len, model):\n",
        "    tokens, ids = tokenize(text, word2id)\n",
        "    pred = model.predict(tf.keras.preprocessing.sequence.pad_sequences([ids], \n",
        "                                                                       maxlen=max_len, \n",
        "                                                                       padding='post'))\n",
        "    labels = pred2tags(pred, id2label, len(ids))\n",
        "    \n",
        "    return list(zip(tokens, labels))"
      ],
      "metadata": {
        "id": "WetRddBVHZqQ"
      },
      "id": "WetRddBVHZqQ",
      "execution_count": null,
      "outputs": []
    },
    {
      "cell_type": "markdown",
      "source": [
        "Модель с несколькими BILSTM слоями"
      ],
      "metadata": {
        "id": "QxdloeabFHUN"
      },
      "id": "QxdloeabFHUN"
    },
    {
      "cell_type": "code",
      "source": [
        "inputs = tf.keras.layers.Input(shape=(MAX_LEN,))\n",
        "embeddings = tf.keras.layers.Embedding(input_dim=len(word2id), output_dim=100)(inputs)\n",
        "\n",
        "lstm_1 = tf.keras.layers.Bidirectional(tf.keras.layers.LSTM(128, return_sequences=True))(embeddings)\n",
        "lstm_2 = tf.keras.layers.Bidirectional(\n",
        "                                       tf.keras.layers.LSTM(128, return_sequences=True),\n",
        "                        backward_layer=tf.keras.layers.LSTM(128, return_sequences=True, \n",
        "                                                            go_backwards=True))(lstm_1)\n",
        "lstm_3 = tf.keras.layers.Bidirectional(tf.keras.layers.LSTM(128, return_sequences=True))(lstm_2)\n",
        "\n",
        "outputs = tf.keras.layers.Dense(len(label2id), activation='softmax')(lstm_3)\n",
        "\n",
        "model = tf.keras.Model(inputs=inputs, outputs=outputs)\n",
        "model.compile(optimizer='adam',\n",
        "              loss='sparse_categorical_crossentropy', \n",
        "             metrics=['accuracy'])"
      ],
      "metadata": {
        "id": "MPTn07oN-lOM"
      },
      "id": "MPTn07oN-lOM",
      "execution_count": null,
      "outputs": []
    },
    {
      "cell_type": "code",
      "source": [
        "model.fit(X, y, \n",
        "          validation_data=(X_test, y_test),\n",
        "          batch_size=128,\n",
        "         epochs=5)"
      ],
      "metadata": {
        "id": "sDr5H3a_-lL5"
      },
      "id": "sDr5H3a_-lL5",
      "execution_count": null,
      "outputs": []
    },
    {
      "cell_type": "code",
      "source": [
        "print(model.history.history.keys())\n",
        "plt.plot(model.history.history['accuracy'])\n",
        "plt.plot(model.history.history['val_accuracy'])\n",
        "plt.title('model acc')\n",
        "plt.ylabel('accuracy')\n",
        "plt.xlabel('epoch')\n",
        "plt.legend(['train', 'val'], loc='upper left')\n",
        "plt.show()"
      ],
      "metadata": {
        "colab": {
          "base_uri": "https://localhost:8080/",
          "height": 312
        },
        "id": "5_e9aimp-lJU",
        "outputId": "3f555e03-9fe5-4e88-f3bc-fd7f4d4a2af1"
      },
      "id": "5_e9aimp-lJU",
      "execution_count": null,
      "outputs": [
        {
          "output_type": "stream",
          "name": "stdout",
          "text": [
            "dict_keys(['loss', 'accuracy', 'val_loss', 'val_accuracy'])\n"
          ]
        },
        {
          "output_type": "display_data",
          "data": {
            "text/plain": [
              "<Figure size 432x288 with 1 Axes>"
            ],
            "image/png": "[encoded data removed]"
          },
          "metadata": {
            "needs_background": "light"
          }
        }
      ]
    },
    {
      "cell_type": "code",
      "source": [
        "pred = model.predict(X_test).argmax(2)"
      ],
      "metadata": {
        "id": "De49bHLf-lEy"
      },
      "id": "De49bHLf-lEy",
      "execution_count": null,
      "outputs": []
    },
    {
      "cell_type": "code",
      "source": [
        "print(classification_report(y_test.reshape(-1), pred.reshape(-1), labels=list(id2labels.keys()),\n",
        "                                                                     target_names=list(id2labels.values()),\n",
        "                                                                     zero_division=0))"
      ],
      "metadata": {
        "colab": {
          "base_uri": "https://localhost:8080/"
        },
        "id": "GDefKCvR-lCL",
        "outputId": "27df0547-68e7-4db5-eb19-905b3ad78ba6"
      },
      "id": "GDefKCvR-lCL",
      "execution_count": null,
      "outputs": [
        {
          "output_type": "stream",
          "name": "stdout",
          "text": [
            "              precision    recall  f1-score   support\n",
            "\n",
            "           O       0.90      0.94      0.92     40480\n",
            "       B-PER       0.88      0.77      0.82      3542\n",
            "       I-PER       0.86      0.88      0.87      7544\n",
            "       B-ORG       0.67      0.55      0.61      4074\n",
            "       I-ORG       0.79      0.72      0.75      8008\n",
            "       B-LOC       0.60      0.61      0.61      4560\n",
            "       I-LOC       0.63      0.60      0.61      3060\n",
            "         PAD       1.00      1.00      1.00    468732\n",
            "\n",
            "    accuracy                           0.98    540000\n",
            "   macro avg       0.79      0.76      0.77    540000\n",
            "weighted avg       0.98      0.98      0.98    540000\n",
            "\n"
          ]
        }
      ]
    },
    {
      "cell_type": "code",
      "source": [
        "label_seq('Моуринью утешает Пепа после поражения \"Барселоны\" от \"Интера\" в полуфинале ЛЧ в 2010 году.', word2id, id2labels, MAX_LEN, model)"
      ],
      "metadata": {
        "colab": {
          "base_uri": "https://localhost:8080/"
        },
        "id": "rTrM9kAg-k-A",
        "outputId": "c1b462dc-49a7-42aa-d102-a77671f84573"
      },
      "id": "rTrM9kAg-k-A",
      "execution_count": null,
      "outputs": [
        {
          "output_type": "stream",
          "name": "stdout",
          "text": [
            "1/1 [==============================] - 0s 26ms/step\n"
          ]
        },
        {
          "output_type": "execute_result",
          "data": {
            "text/plain": [
              "[('Моуринью', 'O'),\n",
              " ('утешает', 'O'),\n",
              " ('Пепа', 'O'),\n",
              " ('после', 'O'),\n",
              " ('поражения', 'O'),\n",
              " ('\"', 'O'),\n",
              " ('Барселоны', 'O'),\n",
              " ('\"', 'O'),\n",
              " ('от', 'O'),\n",
              " ('\"', 'O'),\n",
              " ('Интера', 'O'),\n",
              " ('\"', 'O'),\n",
              " ('в', 'O'),\n",
              " ('полуфинале', 'O'),\n",
              " ('ЛЧ', 'O'),\n",
              " ('в', 'O'),\n",
              " ('2010', 'B-LOC'),\n",
              " ('году', 'I-ORG'),\n",
              " ('.', 'O')]"
            ]
          },
          "metadata": {},
          "execution_count": 141
        }
      ]
    },
    {
      "cell_type": "code",
      "source": [
        "label_seq('Дмитрий Аленичев завершает разгром \"Монако\" в финале-2004.', word2id, id2labels, MAX_LEN, model)"
      ],
      "metadata": {
        "colab": {
          "base_uri": "https://localhost:8080/"
        },
        "id": "0DCmqRUS-k70",
        "outputId": "12964822-2711-4d19-9f78-ab7d59f832a4"
      },
      "id": "0DCmqRUS-k70",
      "execution_count": null,
      "outputs": [
        {
          "output_type": "stream",
          "name": "stdout",
          "text": [
            "1/1 [==============================] - 0s 24ms/step\n"
          ]
        },
        {
          "output_type": "execute_result",
          "data": {
            "text/plain": [
              "[('Дмитрий', 'O'),\n",
              " ('Аленичев', 'O'),\n",
              " ('завершает', 'O'),\n",
              " ('разгром', 'O'),\n",
              " ('\"', 'O'),\n",
              " ('Монако', 'O'),\n",
              " ('\"', 'O'),\n",
              " ('в', 'O'),\n",
              " ('финале', 'B-ORG'),\n",
              " ('-', 'I-ORG'),\n",
              " ('2004', 'I-ORG'),\n",
              " ('.', 'O')]"
            ]
          },
          "metadata": {},
          "execution_count": 142
        }
      ]
    },
    {
      "cell_type": "code",
      "source": [
        "label_seq('Криштиану забивает \"Челси\" в финале в Москве.', word2id, id2labels, MAX_LEN, model)"
      ],
      "metadata": {
        "colab": {
          "base_uri": "https://localhost:8080/"
        },
        "id": "2_db6vCsWOYU",
        "outputId": "e52d96c1-c904-4643-caf1-6848c5c3d536"
      },
      "id": "2_db6vCsWOYU",
      "execution_count": null,
      "outputs": [
        {
          "output_type": "stream",
          "name": "stdout",
          "text": [
            "1/1 [==============================] - 0s 45ms/step\n"
          ]
        },
        {
          "output_type": "execute_result",
          "data": {
            "text/plain": [
              "[('Криштиану', 'B-LOC'),\n",
              " ('забивает', 'O'),\n",
              " ('\"', 'O'),\n",
              " ('Челси', 'O'),\n",
              " ('\"', 'O'),\n",
              " ('в', 'O'),\n",
              " ('финале', 'O'),\n",
              " ('в', 'O'),\n",
              " ('Москве', 'B-LOC'),\n",
              " ('.', 'O')]"
            ]
          },
          "metadata": {},
          "execution_count": 146
        }
      ]
    },
    {
      "cell_type": "code",
      "source": [
        "label_seq('Виктор Семен Пётр Арагорн', word2id, id2labels, MAX_LEN, model)"
      ],
      "metadata": {
        "colab": {
          "base_uri": "https://localhost:8080/"
        },
        "id": "v407I0uMGFVs",
        "outputId": "0ab89289-6c5f-45e4-f772-488d4e1278f3"
      },
      "id": "v407I0uMGFVs",
      "execution_count": null,
      "outputs": [
        {
          "output_type": "stream",
          "name": "stdout",
          "text": [
            "1/1 [==============================] - 0s 50ms/step\n"
          ]
        },
        {
          "output_type": "execute_result",
          "data": {
            "text/plain": [
              "[('Виктор', 'B-PER'),\n",
              " ('Семен', 'I-PER'),\n",
              " ('Пётр', 'I-PER'),\n",
              " ('Арагорн', 'I-PER')]"
            ]
          },
          "metadata": {},
          "execution_count": 144
        }
      ]
    },
    {
      "cell_type": "markdown",
      "source": [
        "Модель с несколькими BIGRU слоями"
      ],
      "metadata": {
        "id": "mZd-sNp5OBd_"
      },
      "id": "mZd-sNp5OBd_"
    },
    {
      "cell_type": "code",
      "source": [
        "inputs = tf.keras.layers.Input(shape=(MAX_LEN,))\n",
        "embeddings = tf.keras.layers.Embedding(input_dim=len(word2id), output_dim=100)(inputs)\n",
        "\n",
        "gru_1 = tf.keras.layers.Bidirectional(tf.keras.layers.GRU(128, return_sequences=True))(embeddings)\n",
        "gru_2 = tf.keras.layers.Bidirectional(tf.keras.layers.GRU(129, return_sequences=True))(gru_1)\n",
        "gru_3 = tf.keras.layers.Bidirectional(tf.keras.layers.GRU(130, return_sequences=True))(gru_2)\n",
        "gru_4 = tf.keras.layers.Bidirectional(tf.keras.layers.GRU(131, return_sequences=True))(gru_3)\n",
        "\n",
        "outputs = tf.keras.layers.Dense(len(label2id), activation='softmax')(gru_4)\n",
        "\n",
        "model = tf.keras.Model(inputs=inputs, outputs=outputs)\n",
        "model.compile(optimizer='adam',\n",
        "              loss='sparse_categorical_crossentropy', \n",
        "             metrics=['accuracy'])"
      ],
      "metadata": {
        "id": "guYxbtSTGFTJ"
      },
      "id": "guYxbtSTGFTJ",
      "execution_count": null,
      "outputs": []
    },
    {
      "cell_type": "code",
      "source": [
        "model.fit(X, y, \n",
        "          validation_data=(X_test, y_test),\n",
        "          batch_size=128,\n",
        "         epochs=5)"
      ],
      "metadata": {
        "id": "ke1OeUuMGFQw"
      },
      "id": "ke1OeUuMGFQw",
      "execution_count": null,
      "outputs": []
    },
    {
      "cell_type": "code",
      "source": [
        "print(model.history.history.keys())\n",
        "plt.plot(model.history.history['accuracy'])\n",
        "plt.plot(model.history.history['val_accuracy'])\n",
        "plt.title('model acc')\n",
        "plt.ylabel('accuracy')\n",
        "plt.xlabel('epoch')\n",
        "plt.legend(['train', 'val'], loc='upper left')\n",
        "plt.show()"
      ],
      "metadata": {
        "colab": {
          "base_uri": "https://localhost:8080/",
          "height": 312
        },
        "id": "oTXw6vgaGFOt",
        "outputId": "b846e135-d991-4612-9d60-324f1a3222f3"
      },
      "id": "oTXw6vgaGFOt",
      "execution_count": null,
      "outputs": [
        {
          "output_type": "stream",
          "name": "stdout",
          "text": [
            "dict_keys(['loss', 'accuracy', 'val_loss', 'val_accuracy'])\n"
          ]
        },
        {
          "output_type": "display_data",
          "data": {
            "text/plain": [
              "<Figure size 432x288 with 1 Axes>"
            ],
            "image/png": "[encoded data removed]"
          },
          "metadata": {
            "needs_background": "light"
          }
        }
      ]
    },
    {
      "cell_type": "code",
      "source": [
        "pred = model.predict(X_test).argmax(2)"
      ],
      "metadata": {
        "id": "tKGHP1kVGFMH"
      },
      "id": "tKGHP1kVGFMH",
      "execution_count": null,
      "outputs": []
    },
    {
      "cell_type": "code",
      "source": [
        "print(classification_report(y_test.reshape(-1), pred.reshape(-1), labels=list(id2labels.keys()),\n",
        "                                                                     target_names=list(id2labels.values()),\n",
        "                                                                     zero_division=0))"
      ],
      "metadata": {
        "colab": {
          "base_uri": "https://localhost:8080/"
        },
        "id": "8j-vDwieGFJ7",
        "outputId": "733a6183-3182-43b5-877b-5a8ebf3e6199"
      },
      "id": "8j-vDwieGFJ7",
      "execution_count": null,
      "outputs": [
        {
          "output_type": "stream",
          "name": "stdout",
          "text": [
            "              precision    recall  f1-score   support\n",
            "\n",
            "           O       0.92      0.94      0.93     40480\n",
            "       B-PER       0.85      0.82      0.84      3542\n",
            "       I-PER       0.90      0.87      0.89      7544\n",
            "       B-ORG       0.56      0.71      0.63      4074\n",
            "       I-ORG       0.79      0.74      0.76      8008\n",
            "       B-LOC       0.84      0.66      0.74      4560\n",
            "       I-LOC       0.85      0.72      0.78      3060\n",
            "         PAD       1.00      1.00      1.00    468732\n",
            "\n",
            "    accuracy                           0.98    540000\n",
            "   macro avg       0.84      0.81      0.82    540000\n",
            "weighted avg       0.98      0.98      0.98    540000\n",
            "\n"
          ]
        }
      ]
    },
    {
      "cell_type": "code",
      "source": [
        "label_seq('Моуринью утешает Пепа после поражения \"Барселоны\" от \"Интера\" в полуфинале ЛЧ в 2010 году.', word2id, id2labels, MAX_LEN, model)"
      ],
      "metadata": {
        "colab": {
          "base_uri": "https://localhost:8080/"
        },
        "id": "Fs1b_m9BGFHj",
        "outputId": "8857b677-f574-424a-a910-dbfa1d94c92a"
      },
      "id": "Fs1b_m9BGFHj",
      "execution_count": null,
      "outputs": [
        {
          "output_type": "stream",
          "name": "stdout",
          "text": [
            "1/1 [==============================] - 0s 34ms/step\n"
          ]
        },
        {
          "output_type": "execute_result",
          "data": {
            "text/plain": [
              "[('Моуринью', 'B-ORG'),\n",
              " ('утешает', 'O'),\n",
              " ('Пепа', 'O'),\n",
              " ('после', 'O'),\n",
              " ('поражения', 'O'),\n",
              " ('\"', 'O'),\n",
              " ('Барселоны', 'B-ORG'),\n",
              " ('\"', 'O'),\n",
              " ('от', 'O'),\n",
              " ('\"', 'O'),\n",
              " ('Интера', 'O'),\n",
              " ('\"', 'O'),\n",
              " ('в', 'O'),\n",
              " ('полуфинале', 'O'),\n",
              " ('ЛЧ', 'O'),\n",
              " ('в', 'O'),\n",
              " ('2010', 'B-LOC'),\n",
              " ('году', 'I-LOC'),\n",
              " ('.', 'O')]"
            ]
          },
          "metadata": {},
          "execution_count": 152
        }
      ]
    },
    {
      "cell_type": "code",
      "source": [
        "label_seq('Дмитрий Аленичев завершает разгром \"Монако\" в финале 2004 года.', word2id, id2labels, MAX_LEN, model)"
      ],
      "metadata": {
        "colab": {
          "base_uri": "https://localhost:8080/"
        },
        "id": "-2w91mThGFFC",
        "outputId": "8a75851b-f117-46fa-a0b4-a1f43a899043"
      },
      "id": "-2w91mThGFFC",
      "execution_count": null,
      "outputs": [
        {
          "output_type": "stream",
          "name": "stdout",
          "text": [
            "1/1 [==============================] - 0s 28ms/step\n"
          ]
        },
        {
          "output_type": "execute_result",
          "data": {
            "text/plain": [
              "[('Дмитрий', 'B-PER'),\n",
              " ('Аленичев', 'I-PER'),\n",
              " ('завершает', 'O'),\n",
              " ('разгром', 'O'),\n",
              " ('\"', 'O'),\n",
              " ('Монако', 'B-ORG'),\n",
              " ('\"', 'O'),\n",
              " ('в', 'O'),\n",
              " ('финале', 'B-ORG'),\n",
              " ('2004', 'I-ORG'),\n",
              " ('года', 'I-ORG'),\n",
              " ('.', 'O')]"
            ]
          },
          "metadata": {},
          "execution_count": 153
        }
      ]
    },
    {
      "cell_type": "code",
      "source": [
        "label_seq('Криштиану забивает \"Челси\" в финале в Москве.', word2id, id2labels, MAX_LEN, model)"
      ],
      "metadata": {
        "colab": {
          "base_uri": "https://localhost:8080/"
        },
        "id": "lUOJ94MtW5zM",
        "outputId": "1979ca07-2277-48a3-d897-1d3c03349501"
      },
      "id": "lUOJ94MtW5zM",
      "execution_count": null,
      "outputs": [
        {
          "output_type": "stream",
          "name": "stdout",
          "text": [
            "1/1 [==============================] - 0s 30ms/step\n"
          ]
        },
        {
          "output_type": "execute_result",
          "data": {
            "text/plain": [
              "[('Криштиану', 'O'),\n",
              " ('забивает', 'O'),\n",
              " ('\"', 'O'),\n",
              " ('Челси', 'O'),\n",
              " ('\"', 'O'),\n",
              " ('в', 'O'),\n",
              " ('финале', 'O'),\n",
              " ('в', 'O'),\n",
              " ('Москве', 'B-LOC'),\n",
              " ('.', 'O')]"
            ]
          },
          "metadata": {},
          "execution_count": 155
        }
      ]
    },
    {
      "cell_type": "code",
      "source": [
        "label_seq('Виктор Семен Пётр Арагорн', word2id, id2labels, MAX_LEN, model)"
      ],
      "metadata": {
        "colab": {
          "base_uri": "https://localhost:8080/"
        },
        "id": "0wWmetduGFCn",
        "outputId": "cc46a039-280d-4e78-913f-d39b959a4e2e"
      },
      "id": "0wWmetduGFCn",
      "execution_count": null,
      "outputs": [
        {
          "output_type": "stream",
          "name": "stdout",
          "text": [
            "1/1 [==============================] - 0s 28ms/step\n"
          ]
        },
        {
          "output_type": "execute_result",
          "data": {
            "text/plain": [
              "[('Виктор', 'B-PER'), ('Семен', 'I-PER'), ('Пётр', 'O'), ('Арагорн', 'O')]"
            ]
          },
          "metadata": {},
          "execution_count": 156
        }
      ]
    },
    {
      "cell_type": "markdown",
      "source": [
        "Я пробовала разные комбинации слоев и разное их количество. Из всего того, что я пробовала, финальные варианты (представленные в тетрадке) дали лучшие результаты и по метрикам, и по проверке на примерах. Что касается последнего, модели совсем не могут определить иностранные персоналии и нередко в таком случае приписывают тег ORG. И вообще наблюдается тяготению именно к этому тегу, если уж модель видит в слове именованную сущность."
      ],
      "metadata": {
        "id": "R2nUFFDmY94G"
      },
      "id": "R2nUFFDmY94G"
    }
  ],
  "metadata": {
    "kernelspec": {
      "display_name": "Python 3 (ipykernel)",
      "language": "python",
      "name": "python3"
    },
    "language_info": {
      "codemirror_mode": {
        "name": "ipython",
        "version": 3
      },
      "file_extension": ".py",
      "mimetype": "text/x-python",
      "name": "python",
      "nbconvert_exporter": "python",
      "pygments_lexer": "ipython3",
      "version": "3.8.12"
    },
    "colab": {
      "provenance": [],
      "include_colab_link": true
    },
    "accelerator": "GPU",
    "gpuClass": "standard"
  },
  "nbformat": 4,
  "nbformat_minor": 5
}