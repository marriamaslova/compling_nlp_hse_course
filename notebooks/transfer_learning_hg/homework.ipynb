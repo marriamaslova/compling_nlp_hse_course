{
  "cells": [
    {
      "cell_type": "markdown",
      "metadata": {
        "id": "view-in-github",
        "colab_type": "text"
      },
      "source": [
        "<a href=\"https://colab.research.google.com/github/marriamaslova/compling_nlp_hse_course/blob/master/notebooks/transfer_learning_hg/homework.ipynb\" target=\"_parent\"><img src=\"https://colab.research.google.com/assets/colab-badge.svg\" alt=\"Open In Colab\"/></a>"
      ]
    },
    {
      "cell_type": "markdown",
      "id": "f5f1173d",
      "metadata": {
        "id": "f5f1173d"
      },
      "source": [
        "# Домашнее задание № 9. Предобученные трансформеры "
      ]
    },
    {
      "cell_type": "markdown",
      "id": "61808033",
      "metadata": {
        "id": "61808033"
      },
      "source": [
        "### Задание 1 (8 баллов).\n",
        "Дообучите 3 предобученных модели на тех же данных, что и в семинаре. Сравните качество и выберите лучшую. \n",
        "Модели должны отличаться друг от друга не только параметрами ru/en/multilingual, base/large, cased/uncased. Все три выбранные модели должны работать лучше, чем бейзлайн без дообучения (т.е. если модель не работает, попробуйте другую).\n"
      ]
    },
    {
      "cell_type": "code",
      "source": [
        "! pip install transformers"
      ],
      "metadata": {
        "id": "FHjIIo0FuGxk"
      },
      "id": "FHjIIo0FuGxk",
      "execution_count": null,
      "outputs": []
    },
    {
      "cell_type": "code",
      "source": [
        "!pip install transformers[sentencepiece]"
      ],
      "metadata": {
        "id": "GFAPyo_qW20C"
      },
      "id": "GFAPyo_qW20C",
      "execution_count": null,
      "outputs": []
    },
    {
      "cell_type": "code",
      "source": [
        "# стандартные библиотеки\n",
        "import os, re\n",
        "import numpy as np\n",
        "from time import time\n",
        "from sklearn.model_selection import train_test_split\n",
        "import pandas as pd\n",
        "from collections import Counter\n",
        "from string import punctuation\n",
        "import matplotlib.pyplot as plt\n",
        "%matplotlib inline\n",
        "\n",
        "\n",
        "# tf и huggingface \n",
        "import tensorflow as tf\n",
        "from transformers import TFAutoModel\n",
        "from transformers import AutoTokenizer"
      ],
      "metadata": {
        "id": "xU3KBXtvt1aN"
      },
      "id": "xU3KBXtvt1aN",
      "execution_count": null,
      "outputs": []
    },
    {
      "cell_type": "code",
      "source": [
        "from sklearn.metrics import classification_report"
      ],
      "metadata": {
        "id": "ll9W2B5fWrF5"
      },
      "id": "ll9W2B5fWrF5",
      "execution_count": null,
      "outputs": []
    },
    {
      "cell_type": "code",
      "source": [
        "data = pd.read_csv('lenta_sample.csv')\n",
        "data.dropna(subset=['topic', 'text'], inplace=True)"
      ],
      "metadata": {
        "id": "CkMXa6Ocr3IG"
      },
      "id": "CkMXa6Ocr3IG",
      "execution_count": null,
      "outputs": []
    },
    {
      "cell_type": "markdown",
      "source": [
        "bert-base-multilingual-cased"
      ],
      "metadata": {
        "id": "q0xYJwayS5vr"
      },
      "id": "q0xYJwayS5vr"
    },
    {
      "cell_type": "code",
      "source": [
        "tokenizer_bert = AutoTokenizer.from_pretrained('bert-base-multilingual-cased')\n",
        "model_bert = TFAutoModel.from_pretrained('bert-base-multilingual-cased')"
      ],
      "metadata": {
        "id": "Yg4txn03r3B8"
      },
      "id": "Yg4txn03r3B8",
      "execution_count": null,
      "outputs": []
    },
    {
      "cell_type": "code",
      "source": [
        "X = []\n",
        "\n",
        "for text in data.title:\n",
        "    ids = tokenizer_bert.encode(text)\n",
        "    \n",
        "    X.append(ids[:512])"
      ],
      "metadata": {
        "id": "qQ8YPHj4r2_I"
      },
      "id": "qQ8YPHj4r2_I",
      "execution_count": null,
      "outputs": []
    },
    {
      "cell_type": "code",
      "source": [
        "X = tf.keras.preprocessing.sequence.pad_sequences(X, padding='post', maxlen=512)"
      ],
      "metadata": {
        "id": "GJBxdvh6r28v"
      },
      "id": "GJBxdvh6r28v",
      "execution_count": null,
      "outputs": []
    },
    {
      "cell_type": "code",
      "source": [
        "id2label = {i:label for i, label in enumerate(set(data.topic.values))}\n",
        "label2id = {l:i for i, l in id2label.items()}\n",
        "\n",
        "y = tf.keras.utils.to_categorical([label2id[label] for label in data.topic.values])"
      ],
      "metadata": {
        "id": "iZtuK0MNr26D"
      },
      "id": "iZtuK0MNr26D",
      "execution_count": null,
      "outputs": []
    },
    {
      "cell_type": "code",
      "source": [
        "train_index, valid_index = train_test_split(list(range(len(X))), test_size=0.05, stratify=data.topic)"
      ],
      "metadata": {
        "id": "EVuH1nQ1r23x"
      },
      "id": "EVuH1nQ1r23x",
      "execution_count": null,
      "outputs": []
    },
    {
      "cell_type": "code",
      "source": [
        "X_train, y_train = X[train_index], y[train_index]\n",
        "X_valid, y_valid = X[valid_index], y[valid_index]"
      ],
      "metadata": {
        "id": "KaI7Sisar21C"
      },
      "id": "KaI7Sisar21C",
      "execution_count": null,
      "outputs": []
    },
    {
      "cell_type": "code",
      "source": [
        "input_word_ids = tf.keras.layers.Input(shape=(512,), dtype=tf.int32,\n",
        "                                     name=\"input_ids\")\n",
        "\n",
        "output = model_bert({\"input_ids\":input_word_ids})\n",
        "\n",
        "# добавим дропаут чтобы не переобучалось\n",
        "drop = tf.keras.layers.Dropout(0.3)(output[0][:, 0])\n",
        "dense = tf.keras.layers.Dense(y.shape[1], activation='softmax')(drop)\n",
        "\n",
        "model_clf_bert = tf.keras.Model(inputs=input_word_ids, outputs=dense)\n",
        "\n",
        "# лосс нужно поставить поменьше\n",
        "model_clf_bert.compile(tf.optimizers.Adam(learning_rate=2e-6), \n",
        "                  loss='categorical_crossentropy', \n",
        "                  metrics=['accuracy', \n",
        "                           tf.keras.metrics.RecallAtPrecision(0.80)])"
      ],
      "metadata": {
        "id": "arFiyIFHr2yn"
      },
      "id": "arFiyIFHr2yn",
      "execution_count": null,
      "outputs": []
    },
    {
      "cell_type": "code",
      "source": [
        "model_clf_bert.fit(X_train, y_train, \n",
        "          validation_data=(X_valid, y_valid),\n",
        "          batch_size=12,\n",
        "         epochs=20)"
      ],
      "metadata": {
        "id": "is1zQFjYr2wU",
        "colab": {
          "base_uri": "https://localhost:8080/"
        },
        "outputId": "2967fa24-10df-4a6e-d057-3ba71fa354fe"
      },
      "id": "is1zQFjYr2wU",
      "execution_count": null,
      "outputs": [
        {
          "output_type": "stream",
          "name": "stdout",
          "text": [
            "Epoch 1/20\n"
          ]
        },
        {
          "output_type": "stream",
          "name": "stderr",
          "text": [
            "WARNING:tensorflow:Gradients do not exist for variables ['tf_bert_model/bert/pooler/dense/kernel:0', 'tf_bert_model/bert/pooler/dense/bias:0'] when minimizing the loss. If you're using `model.compile()`, did you forget to provide a `loss` argument?\n",
            "WARNING:tensorflow:Gradients do not exist for variables ['tf_bert_model/bert/pooler/dense/kernel:0', 'tf_bert_model/bert/pooler/dense/bias:0'] when minimizing the loss. If you're using `model.compile()`, did you forget to provide a `loss` argument?\n",
            "WARNING:tensorflow:Gradients do not exist for variables ['tf_bert_model/bert/pooler/dense/kernel:0', 'tf_bert_model/bert/pooler/dense/bias:0'] when minimizing the loss. If you're using `model.compile()`, did you forget to provide a `loss` argument?\n",
            "WARNING:tensorflow:Gradients do not exist for variables ['tf_bert_model/bert/pooler/dense/kernel:0', 'tf_bert_model/bert/pooler/dense/bias:0'] when minimizing the loss. If you're using `model.compile()`, did you forget to provide a `loss` argument?\n"
          ]
        },
        {
          "output_type": "stream",
          "name": "stdout",
          "text": [
            "48/48 [==============================] - 108s 2s/step - loss: 2.9067 - accuracy: 0.0868 - recall_at_precision: 0.0000e+00 - val_loss: 2.7284 - val_accuracy: 0.0645 - val_recall_at_precision: 0.0000e+00\n",
            "Epoch 2/20\n",
            "48/48 [==============================] - 72s 1s/step - loss: 2.8271 - accuracy: 0.0990 - recall_at_precision: 0.0000e+00 - val_loss: 2.6933 - val_accuracy: 0.0968 - val_recall_at_precision: 0.0000e+00\n",
            "Epoch 3/20\n",
            "48/48 [==============================] - 71s 1s/step - loss: 2.7888 - accuracy: 0.0972 - recall_at_precision: 0.0017 - val_loss: 2.6725 - val_accuracy: 0.0968 - val_recall_at_precision: 0.0000e+00\n",
            "Epoch 4/20\n",
            "48/48 [==============================] - 70s 1s/step - loss: 2.8071 - accuracy: 0.0608 - recall_at_precision: 0.0000e+00 - val_loss: 2.6834 - val_accuracy: 0.1290 - val_recall_at_precision: 0.0000e+00\n",
            "Epoch 5/20\n",
            "48/48 [==============================] - 72s 1s/step - loss: 2.7627 - accuracy: 0.0851 - recall_at_precision: 0.0000e+00 - val_loss: 2.6656 - val_accuracy: 0.0968 - val_recall_at_precision: 0.0000e+00\n",
            "Epoch 6/20\n",
            "48/48 [==============================] - 72s 1s/step - loss: 2.7508 - accuracy: 0.0868 - recall_at_precision: 0.0000e+00 - val_loss: 2.6417 - val_accuracy: 0.1290 - val_recall_at_precision: 0.0000e+00\n",
            "Epoch 7/20\n",
            "48/48 [==============================] - 71s 1s/step - loss: 2.7296 - accuracy: 0.1059 - recall_at_precision: 0.0017 - val_loss: 2.5738 - val_accuracy: 0.1290 - val_recall_at_precision: 0.0000e+00\n",
            "Epoch 8/20\n",
            "48/48 [==============================] - 72s 1s/step - loss: 2.6636 - accuracy: 0.1337 - recall_at_precision: 0.0000e+00 - val_loss: 2.4803 - val_accuracy: 0.2258 - val_recall_at_precision: 0.0323\n",
            "Epoch 9/20\n",
            "48/48 [==============================] - 72s 1s/step - loss: 2.5620 - accuracy: 0.1875 - recall_at_precision: 0.0087 - val_loss: 2.3614 - val_accuracy: 0.2581 - val_recall_at_precision: 0.0323\n",
            "Epoch 10/20\n",
            "48/48 [==============================] - 72s 1s/step - loss: 2.4178 - accuracy: 0.2413 - recall_at_precision: 0.0087 - val_loss: 2.1638 - val_accuracy: 0.3548 - val_recall_at_precision: 0.1613\n",
            "Epoch 11/20\n",
            "48/48 [==============================] - 71s 1s/step - loss: 2.1580 - accuracy: 0.3003 - recall_at_precision: 0.0451 - val_loss: 2.0122 - val_accuracy: 0.3871 - val_recall_at_precision: 0.0645\n",
            "Epoch 12/20\n",
            "48/48 [==============================] - 71s 1s/step - loss: 1.9617 - accuracy: 0.3906 - recall_at_precision: 0.0781 - val_loss: 1.8145 - val_accuracy: 0.4516 - val_recall_at_precision: 0.0968\n",
            "Epoch 13/20\n",
            "48/48 [==============================] - 70s 1s/step - loss: 1.7110 - accuracy: 0.4722 - recall_at_precision: 0.2031 - val_loss: 1.7909 - val_accuracy: 0.3548 - val_recall_at_precision: 0.2903\n",
            "Epoch 14/20\n",
            "48/48 [==============================] - 70s 1s/step - loss: 1.6457 - accuracy: 0.4983 - recall_at_precision: 0.1615 - val_loss: 1.7992 - val_accuracy: 0.4839 - val_recall_at_precision: 0.1290\n",
            "Epoch 15/20\n",
            "48/48 [==============================] - 72s 1s/step - loss: 1.4730 - accuracy: 0.5399 - recall_at_precision: 0.2569 - val_loss: 1.6496 - val_accuracy: 0.4194 - val_recall_at_precision: 0.2581\n",
            "Epoch 16/20\n",
            "48/48 [==============================] - 72s 1s/step - loss: 1.3697 - accuracy: 0.6059 - recall_at_precision: 0.3628 - val_loss: 1.7013 - val_accuracy: 0.4194 - val_recall_at_precision: 0.1613\n",
            "Epoch 17/20\n",
            "48/48 [==============================] - 72s 1s/step - loss: 1.2525 - accuracy: 0.6111 - recall_at_precision: 0.4514 - val_loss: 1.6631 - val_accuracy: 0.3871 - val_recall_at_precision: 0.1290\n",
            "Epoch 18/20\n",
            "48/48 [==============================] - 72s 1s/step - loss: 1.1072 - accuracy: 0.6562 - recall_at_precision: 0.5503 - val_loss: 1.6205 - val_accuracy: 0.3871 - val_recall_at_precision: 0.3226\n",
            "Epoch 19/20\n",
            "48/48 [==============================] - 72s 1s/step - loss: 1.1062 - accuracy: 0.6476 - recall_at_precision: 0.5208 - val_loss: 1.4656 - val_accuracy: 0.4839 - val_recall_at_precision: 0.2581\n",
            "Epoch 20/20\n",
            "48/48 [==============================] - 70s 1s/step - loss: 0.9993 - accuracy: 0.6892 - recall_at_precision: 0.5573 - val_loss: 1.3332 - val_accuracy: 0.5484 - val_recall_at_precision: 0.3226\n"
          ]
        },
        {
          "output_type": "execute_result",
          "data": {
            "text/plain": [
              "<keras.callbacks.History at 0x7f02e1557f70>"
            ]
          },
          "metadata": {},
          "execution_count": 13
        }
      ]
    },
    {
      "cell_type": "code",
      "source": [
        "print(model_clf_bert.history.history.keys())\n",
        "plt.plot(model_clf_bert.history.history['accuracy'])\n",
        "plt.plot(model_clf_bert.history.history['val_accuracy'])\n",
        "plt.title('model accuracy')\n",
        "plt.ylabel('accuracy')\n",
        "plt.xlabel('epoch')\n",
        "plt.legend(['train', 'val'], loc='upper left')\n",
        "plt.show()"
      ],
      "metadata": {
        "colab": {
          "base_uri": "https://localhost:8080/",
          "height": 312
        },
        "id": "18HFXe46SONM",
        "outputId": "4db154f5-b6fa-4e9d-c0cc-8c4f8c678946"
      },
      "id": "18HFXe46SONM",
      "execution_count": null,
      "outputs": [
        {
          "output_type": "stream",
          "name": "stdout",
          "text": [
            "dict_keys(['loss', 'accuracy', 'recall_at_precision', 'val_loss', 'val_accuracy', 'val_recall_at_precision'])\n"
          ]
        },
        {
          "output_type": "display_data",
          "data": {
            "text/plain": [
              "<Figure size 432x288 with 1 Axes>"
            ],
            "image/png": "[encoded data removed]"
          },
          "metadata": {
            "needs_background": "light"
          }
        }
      ]
    },
    {
      "cell_type": "code",
      "source": [
        "pred = model_clf_bert.predict(X_valid).argmax(1)"
      ],
      "metadata": {
        "id": "Xe-44LCRr2t3"
      },
      "id": "Xe-44LCRr2t3",
      "execution_count": null,
      "outputs": []
    },
    {
      "cell_type": "code",
      "source": [
        "print(classification_report(y_valid.argmax(1), pred, labels=list(range(len(label2id))),\n",
        "                            target_names=list(label2id), zero_division=0))"
      ],
      "metadata": {
        "id": "vgb2juiAr2rA",
        "colab": {
          "base_uri": "https://localhost:8080/"
        },
        "outputId": "118e109a-4d5d-4a59-e1dd-f36e427182e4"
      },
      "id": "vgb2juiAr2rA",
      "execution_count": null,
      "outputs": [
        {
          "output_type": "stream",
          "name": "stdout",
          "text": [
            "                   precision    recall  f1-score   support\n",
            "\n",
            "           Бизнес       0.50      1.00      0.67         2\n",
            "         Культура       0.67      0.67      0.67         3\n",
            "         Из жизни       1.00      0.67      0.80         3\n",
            "  Наука и техника       0.75      1.00      0.86         3\n",
            "           Россия       0.00      0.00      0.00         2\n",
            "        Экономика       0.00      0.00      0.00         2\n",
            "      Бывший СССР       0.67      0.67      0.67         3\n",
            "            Спорт       0.50      0.50      0.50         2\n",
            "   69-я параллель       0.00      0.00      0.00         1\n",
            "          Легпром       0.00      0.00      0.00         1\n",
            "              Дом       0.33      0.50      0.40         2\n",
            "       Библиотека       0.00      0.00      0.00         0\n",
            "   Интернет и СМИ       1.00      0.50      0.67         2\n",
            "Силовые структуры       0.33      1.00      0.50         2\n",
            "              Мир       0.00      0.00      0.00         1\n",
            "         Ценности       0.50      0.50      0.50         2\n",
            "             Крым       0.00      0.00      0.00         0\n",
            "\n",
            "        micro avg       0.55      0.55      0.55        31\n",
            "        macro avg       0.37      0.41      0.37        31\n",
            "     weighted avg       0.50      0.55      0.50        31\n",
            "\n"
          ]
        }
      ]
    },
    {
      "cell_type": "markdown",
      "source": [
        "distilbert-base-multilingual-cased"
      ],
      "metadata": {
        "id": "6w23evpnUU9K"
      },
      "id": "6w23evpnUU9K"
    },
    {
      "cell_type": "code",
      "source": [
        "tokenizer_db = AutoTokenizer.from_pretrained('distilbert-base-multilingual-cased')\n",
        "model_db = TFAutoModel.from_pretrained('distilbert-base-multilingual-cased')"
      ],
      "metadata": {
        "id": "uhFFRE7ySo1U"
      },
      "id": "uhFFRE7ySo1U",
      "execution_count": null,
      "outputs": []
    },
    {
      "cell_type": "code",
      "source": [
        "X = []\n",
        "\n",
        "for text in data.title:\n",
        "    ids = tokenizer_db.encode(text)\n",
        "    \n",
        "    X.append(ids[:512])"
      ],
      "metadata": {
        "id": "lTfqEV66SoyG"
      },
      "id": "lTfqEV66SoyG",
      "execution_count": null,
      "outputs": []
    },
    {
      "cell_type": "code",
      "source": [
        "X = tf.keras.preprocessing.sequence.pad_sequences(X, padding='post', maxlen=512)"
      ],
      "metadata": {
        "id": "KSvW_EM8SovV"
      },
      "id": "KSvW_EM8SovV",
      "execution_count": null,
      "outputs": []
    },
    {
      "cell_type": "code",
      "source": [
        "id2label = {i:label for i, label in enumerate(set(data.topic.values))}\n",
        "label2id = {l:i for i, l in id2label.items()}\n",
        "\n",
        "y = tf.keras.utils.to_categorical([label2id[label] for label in data.topic.values])"
      ],
      "metadata": {
        "id": "oHESIhW8Sosn"
      },
      "id": "oHESIhW8Sosn",
      "execution_count": null,
      "outputs": []
    },
    {
      "cell_type": "code",
      "source": [
        "train_index, valid_index = train_test_split(list(range(len(X))), test_size=0.05, stratify=data.topic)"
      ],
      "metadata": {
        "id": "Pz04SJjjULp5"
      },
      "id": "Pz04SJjjULp5",
      "execution_count": null,
      "outputs": []
    },
    {
      "cell_type": "code",
      "source": [
        "X_train, y_train = X[train_index], y[train_index]\n",
        "X_valid, y_valid = X[valid_index], y[valid_index]"
      ],
      "metadata": {
        "id": "PHRgNcd5ULnH"
      },
      "id": "PHRgNcd5ULnH",
      "execution_count": null,
      "outputs": []
    },
    {
      "cell_type": "code",
      "source": [
        "input_word_ids = tf.keras.layers.Input(shape=(512,), dtype=tf.int32,\n",
        "                                     name=\"input_ids\")\n",
        "\n",
        "output = model_db({\"input_ids\":input_word_ids})\n",
        "\n",
        "# добавим дропаут чтобы не переобучалось\n",
        "drop = tf.keras.layers.Dropout(0.3)(output[0][:, 0])\n",
        "dense = tf.keras.layers.Dense(y.shape[1], activation='softmax')(drop)\n",
        "\n",
        "model_clf_db = tf.keras.Model(inputs=input_word_ids, outputs=dense)\n",
        "\n",
        "# лосс нужно поставить поменьше\n",
        "model_clf_db.compile(tf.optimizers.Adam(learning_rate=2e-6), \n",
        "                  loss='categorical_crossentropy', \n",
        "                  metrics=['accuracy', \n",
        "                           tf.keras.metrics.RecallAtPrecision(0.80)])"
      ],
      "metadata": {
        "id": "fLabOSDoSoqB"
      },
      "id": "fLabOSDoSoqB",
      "execution_count": null,
      "outputs": []
    },
    {
      "cell_type": "code",
      "source": [
        "model_clf_db.fit(X_train, y_train, \n",
        "          validation_data=(X_valid, y_valid),\n",
        "          batch_size=12,\n",
        "         epochs=20)"
      ],
      "metadata": {
        "colab": {
          "base_uri": "https://localhost:8080/"
        },
        "id": "QcFuM04LSonW",
        "outputId": "6a78079d-aa43-4601-9945-1e969c7ddfa5"
      },
      "id": "QcFuM04LSonW",
      "execution_count": null,
      "outputs": [
        {
          "output_type": "stream",
          "name": "stdout",
          "text": [
            "Epoch 1/20\n",
            "48/48 [==============================] - 53s 730ms/step - loss: 2.8612 - accuracy: 0.0712 - recall_at_precision: 0.0000e+00 - val_loss: 2.7276 - val_accuracy: 0.0968 - val_recall_at_precision: 0.0000e+00\n",
            "Epoch 2/20\n",
            "48/48 [==============================] - 32s 676ms/step - loss: 2.7616 - accuracy: 0.0764 - recall_at_precision: 0.0000e+00 - val_loss: 2.7169 - val_accuracy: 0.0968 - val_recall_at_precision: 0.0000e+00\n",
            "Epoch 3/20\n",
            "48/48 [==============================] - 33s 680ms/step - loss: 2.7496 - accuracy: 0.0990 - recall_at_precision: 0.0000e+00 - val_loss: 2.7089 - val_accuracy: 0.0968 - val_recall_at_precision: 0.0000e+00\n",
            "Epoch 4/20\n",
            "48/48 [==============================] - 33s 697ms/step - loss: 2.7426 - accuracy: 0.0920 - recall_at_precision: 0.0000e+00 - val_loss: 2.6958 - val_accuracy: 0.1290 - val_recall_at_precision: 0.0000e+00\n",
            "Epoch 5/20\n",
            "48/48 [==============================] - 34s 701ms/step - loss: 2.7385 - accuracy: 0.0903 - recall_at_precision: 0.0000e+00 - val_loss: 2.6967 - val_accuracy: 0.0968 - val_recall_at_precision: 0.0000e+00\n",
            "Epoch 6/20\n",
            "48/48 [==============================] - 34s 704ms/step - loss: 2.7233 - accuracy: 0.1094 - recall_at_precision: 0.0000e+00 - val_loss: 2.6784 - val_accuracy: 0.1613 - val_recall_at_precision: 0.0323\n",
            "Epoch 7/20\n",
            "48/48 [==============================] - 34s 705ms/step - loss: 2.7164 - accuracy: 0.0938 - recall_at_precision: 0.0017 - val_loss: 2.6493 - val_accuracy: 0.1935 - val_recall_at_precision: 0.0645\n",
            "Epoch 8/20\n",
            "48/48 [==============================] - 34s 708ms/step - loss: 2.6672 - accuracy: 0.1354 - recall_at_precision: 0.0035 - val_loss: 2.6197 - val_accuracy: 0.1935 - val_recall_at_precision: 0.0645\n",
            "Epoch 9/20\n",
            "48/48 [==============================] - 34s 706ms/step - loss: 2.6520 - accuracy: 0.1458 - recall_at_precision: 0.0000e+00 - val_loss: 2.5653 - val_accuracy: 0.2258 - val_recall_at_precision: 0.0645\n",
            "Epoch 10/20\n",
            "48/48 [==============================] - 34s 711ms/step - loss: 2.5273 - accuracy: 0.2066 - recall_at_precision: 0.0017 - val_loss: 2.4557 - val_accuracy: 0.2581 - val_recall_at_precision: 0.1290\n",
            "Epoch 11/20\n",
            "48/48 [==============================] - 34s 714ms/step - loss: 2.4492 - accuracy: 0.2483 - recall_at_precision: 0.0104 - val_loss: 2.3492 - val_accuracy: 0.2581 - val_recall_at_precision: 0.1290\n",
            "Epoch 12/20\n",
            "48/48 [==============================] - 34s 708ms/step - loss: 2.3480 - accuracy: 0.2500 - recall_at_precision: 0.0017 - val_loss: 2.2000 - val_accuracy: 0.3226 - val_recall_at_precision: 0.1290\n",
            "Epoch 13/20\n",
            "48/48 [==============================] - 34s 709ms/step - loss: 2.2246 - accuracy: 0.3003 - recall_at_precision: 0.0417 - val_loss: 2.1675 - val_accuracy: 0.3226 - val_recall_at_precision: 0.1935\n",
            "Epoch 14/20\n",
            "48/48 [==============================] - 34s 710ms/step - loss: 2.0818 - accuracy: 0.3524 - recall_at_precision: 0.0295 - val_loss: 2.0869 - val_accuracy: 0.3226 - val_recall_at_precision: 0.1290\n",
            "Epoch 15/20\n",
            "48/48 [==============================] - 34s 708ms/step - loss: 1.9755 - accuracy: 0.3976 - recall_at_precision: 0.0868 - val_loss: 1.9871 - val_accuracy: 0.4194 - val_recall_at_precision: 0.1935\n",
            "Epoch 16/20\n",
            "48/48 [==============================] - 34s 705ms/step - loss: 1.8251 - accuracy: 0.4497 - recall_at_precision: 0.1424 - val_loss: 2.0127 - val_accuracy: 0.4194 - val_recall_at_precision: 0.2581\n",
            "Epoch 17/20\n",
            "48/48 [==============================] - 34s 713ms/step - loss: 1.7186 - accuracy: 0.4896 - recall_at_precision: 0.1649 - val_loss: 1.9183 - val_accuracy: 0.3871 - val_recall_at_precision: 0.2581\n",
            "Epoch 18/20\n",
            "48/48 [==============================] - 34s 708ms/step - loss: 1.6499 - accuracy: 0.4913 - recall_at_precision: 0.1788 - val_loss: 1.9171 - val_accuracy: 0.3548 - val_recall_at_precision: 0.2581\n",
            "Epoch 19/20\n",
            "48/48 [==============================] - 34s 706ms/step - loss: 1.4981 - accuracy: 0.5382 - recall_at_precision: 0.2726 - val_loss: 1.9338 - val_accuracy: 0.4194 - val_recall_at_precision: 0.2581\n",
            "Epoch 20/20\n",
            "48/48 [==============================] - 34s 710ms/step - loss: 1.4136 - accuracy: 0.5434 - recall_at_precision: 0.3403 - val_loss: 1.8785 - val_accuracy: 0.4194 - val_recall_at_precision: 0.3226\n"
          ]
        },
        {
          "output_type": "execute_result",
          "data": {
            "text/plain": [
              "<keras.callbacks.History at 0x7f2e803723a0>"
            ]
          },
          "metadata": {},
          "execution_count": 13
        }
      ]
    },
    {
      "cell_type": "code",
      "source": [
        "print(model_clf_db.history.history.keys())\n",
        "plt.plot(model_clf_db.history.history['accuracy'])\n",
        "plt.plot(model_clf_db.history.history['val_accuracy'])\n",
        "plt.title('model accuracy')\n",
        "plt.ylabel('accuracy')\n",
        "plt.xlabel('epoch')\n",
        "plt.legend(['train', 'val'], loc='upper left')\n",
        "plt.show()"
      ],
      "metadata": {
        "colab": {
          "base_uri": "https://localhost:8080/",
          "height": 312
        },
        "id": "Rp-yBIYnMDYg",
        "outputId": "a9176941-bb46-47b7-9bbd-a546603c2135"
      },
      "id": "Rp-yBIYnMDYg",
      "execution_count": null,
      "outputs": [
        {
          "output_type": "stream",
          "name": "stdout",
          "text": [
            "dict_keys(['loss', 'accuracy', 'recall_at_precision', 'val_loss', 'val_accuracy', 'val_recall_at_precision'])\n"
          ]
        },
        {
          "output_type": "display_data",
          "data": {
            "text/plain": [
              "<Figure size 432x288 with 1 Axes>"
            ],
            "image/png": "[encoded data removed]"
          },
          "metadata": {
            "needs_background": "light"
          }
        }
      ]
    },
    {
      "cell_type": "code",
      "source": [
        "pred_db = model_clf_db.predict(X_valid).argmax(1)"
      ],
      "metadata": {
        "id": "Kk8rPEvvr2oT"
      },
      "id": "Kk8rPEvvr2oT",
      "execution_count": null,
      "outputs": []
    },
    {
      "cell_type": "code",
      "source": [
        "print(classification_report(y_valid.argmax(1), pred_db, labels=list(range(len(label2id))),\n",
        "                            target_names=list(label2id), zero_division=0))"
      ],
      "metadata": {
        "id": "IrJ9PL2Rr2h_",
        "colab": {
          "base_uri": "https://localhost:8080/"
        },
        "outputId": "825f8e35-cad4-4656-98e3-645afb15d777"
      },
      "id": "IrJ9PL2Rr2h_",
      "execution_count": null,
      "outputs": [
        {
          "output_type": "stream",
          "name": "stdout",
          "text": [
            "                   precision    recall  f1-score   support\n",
            "\n",
            "            Спорт       1.00      1.00      1.00         2\n",
            "   69-я параллель       0.00      0.00      0.00         1\n",
            "          Легпром       0.00      0.00      0.00         1\n",
            "       Библиотека       0.00      0.00      0.00         0\n",
            "   Интернет и СМИ       0.00      0.00      0.00         2\n",
            "              Мир       0.00      0.00      0.00         1\n",
            "         Из жизни       0.25      0.33      0.29         3\n",
            "              Дом       1.00      0.50      0.67         2\n",
            "           Бизнес       0.25      0.50      0.33         2\n",
            "      Бывший СССР       0.60      1.00      0.75         3\n",
            "         Культура       1.00      0.67      0.80         3\n",
            "  Наука и техника       0.67      0.67      0.67         3\n",
            "Силовые структуры       0.17      0.50      0.25         2\n",
            "             Крым       0.00      0.00      0.00         0\n",
            "        Экономика       0.00      0.00      0.00         2\n",
            "           Россия       0.00      0.00      0.00         2\n",
            "         Ценности       0.00      0.00      0.00         2\n",
            "\n",
            "        micro avg       0.42      0.42      0.42        31\n",
            "        macro avg       0.29      0.30      0.28        31\n",
            "     weighted avg       0.40      0.42      0.39        31\n",
            "\n"
          ]
        }
      ]
    },
    {
      "cell_type": "markdown",
      "source": [
        "DeepPavlov\n",
        "/\n",
        "bert-base-bg-cs-pl-ru-cased aka SlavicBERT"
      ],
      "metadata": {
        "id": "NHTHeOWzsokK"
      },
      "id": "NHTHeOWzsokK"
    },
    {
      "cell_type": "code",
      "source": [
        "tokenizer_rb = AutoTokenizer.from_pretrained('DeepPavlov/bert-base-bg-cs-pl-ru-cased')\n",
        "model_rb = TFAutoModel.from_pretrained('DeepPavlov/bert-base-bg-cs-pl-ru-cased', from_pt=True)"
      ],
      "metadata": {
        "id": "yOM6JhsiM7tg"
      },
      "id": "yOM6JhsiM7tg",
      "execution_count": null,
      "outputs": []
    },
    {
      "cell_type": "code",
      "source": [
        "X = []\n",
        "\n",
        "for text in data.title:\n",
        "    ids = tokenizer_rb.encode(text)\n",
        "    \n",
        "    X.append(ids[:512])"
      ],
      "metadata": {
        "id": "hJm6bsVVM7rG"
      },
      "id": "hJm6bsVVM7rG",
      "execution_count": null,
      "outputs": []
    },
    {
      "cell_type": "code",
      "source": [
        "X = tf.keras.preprocessing.sequence.pad_sequences(X, padding='post', maxlen=512)"
      ],
      "metadata": {
        "id": "GZO28rU6M7oT"
      },
      "id": "GZO28rU6M7oT",
      "execution_count": null,
      "outputs": []
    },
    {
      "cell_type": "code",
      "source": [
        "id2label = {i:label for i, label in enumerate(set(data.topic.values))}\n",
        "label2id = {l:i for i, l in id2label.items()}\n",
        "\n",
        "y = tf.keras.utils.to_categorical([label2id[label] for label in data.topic.values])"
      ],
      "metadata": {
        "id": "zHUEpg2AM7mF"
      },
      "id": "zHUEpg2AM7mF",
      "execution_count": null,
      "outputs": []
    },
    {
      "cell_type": "code",
      "source": [
        "train_index, valid_index = train_test_split(list(range(len(X))), test_size=0.05, stratify=data.topic)"
      ],
      "metadata": {
        "id": "MaEr3MrsM7j5"
      },
      "id": "MaEr3MrsM7j5",
      "execution_count": null,
      "outputs": []
    },
    {
      "cell_type": "code",
      "source": [
        "X_train, y_train = X[train_index], y[train_index]\n",
        "X_valid, y_valid = X[valid_index], y[valid_index]"
      ],
      "metadata": {
        "id": "9s_pkVHDM7he"
      },
      "id": "9s_pkVHDM7he",
      "execution_count": null,
      "outputs": []
    },
    {
      "cell_type": "code",
      "source": [
        "input_word_ids = tf.keras.layers.Input(shape=(512,), dtype=tf.int32,\n",
        "                                     name=\"input_ids\")\n",
        "\n",
        "output = model_rb({\"input_ids\":input_word_ids})\n",
        "\n",
        "# добавим дропаут чтобы не переобучалось\n",
        "drop = tf.keras.layers.Dropout(0.3)(output[0][:, 0])\n",
        "dense = tf.keras.layers.Dense(y.shape[1], activation='softmax')(drop)\n",
        "\n",
        "model_clf_rb = tf.keras.Model(inputs=input_word_ids, outputs=dense)\n",
        "\n",
        "# лосс нужно поставить поменьше\n",
        "model_clf_rb.compile(tf.optimizers.Adam(learning_rate=2e-6), \n",
        "                  loss='categorical_crossentropy', \n",
        "                  metrics=['accuracy', \n",
        "                           tf.keras.metrics.RecallAtPrecision(0.80)])"
      ],
      "metadata": {
        "id": "sXPI0lO_M7e4"
      },
      "id": "sXPI0lO_M7e4",
      "execution_count": null,
      "outputs": []
    },
    {
      "cell_type": "code",
      "source": [
        "model_clf_rb.fit(X_train, y_train, \n",
        "          validation_data=(X_valid, y_valid),\n",
        "          batch_size=12,\n",
        "         epochs=20)"
      ],
      "metadata": {
        "id": "rxy5TCgIM7cg",
        "colab": {
          "base_uri": "https://localhost:8080/"
        },
        "outputId": "b3bdbd39-53a6-4a56-bfaf-9d0efe0a38ed"
      },
      "id": "rxy5TCgIM7cg",
      "execution_count": null,
      "outputs": [
        {
          "output_type": "stream",
          "name": "stdout",
          "text": [
            "Epoch 1/20\n"
          ]
        },
        {
          "output_type": "stream",
          "name": "stderr",
          "text": [
            "WARNING:tensorflow:Gradients do not exist for variables ['tf_bert_model/bert/pooler/dense/kernel:0', 'tf_bert_model/bert/pooler/dense/bias:0'] when minimizing the loss. If you're using `model.compile()`, did you forget to provide a `loss` argument?\n",
            "WARNING:tensorflow:Gradients do not exist for variables ['tf_bert_model/bert/pooler/dense/kernel:0', 'tf_bert_model/bert/pooler/dense/bias:0'] when minimizing the loss. If you're using `model.compile()`, did you forget to provide a `loss` argument?\n",
            "WARNING:tensorflow:Gradients do not exist for variables ['tf_bert_model/bert/pooler/dense/kernel:0', 'tf_bert_model/bert/pooler/dense/bias:0'] when minimizing the loss. If you're using `model.compile()`, did you forget to provide a `loss` argument?\n",
            "WARNING:tensorflow:Gradients do not exist for variables ['tf_bert_model/bert/pooler/dense/kernel:0', 'tf_bert_model/bert/pooler/dense/bias:0'] when minimizing the loss. If you're using `model.compile()`, did you forget to provide a `loss` argument?\n"
          ]
        },
        {
          "output_type": "stream",
          "name": "stdout",
          "text": [
            "48/48 [==============================] - 121s 2s/step - loss: 2.9014 - accuracy: 0.0972 - recall_at_precision: 0.0000e+00 - val_loss: 2.7061 - val_accuracy: 0.0645 - val_recall_at_precision: 0.0000e+00\n",
            "Epoch 2/20\n",
            "48/48 [==============================] - 76s 2s/step - loss: 2.8158 - accuracy: 0.0799 - recall_at_precision: 0.0000e+00 - val_loss: 2.7229 - val_accuracy: 0.1290 - val_recall_at_precision: 0.0000e+00\n",
            "Epoch 3/20\n",
            "48/48 [==============================] - 74s 2s/step - loss: 2.7984 - accuracy: 0.0955 - recall_at_precision: 0.0000e+00 - val_loss: 2.7773 - val_accuracy: 0.1290 - val_recall_at_precision: 0.0000e+00\n",
            "Epoch 4/20\n",
            "48/48 [==============================] - 74s 2s/step - loss: 2.7419 - accuracy: 0.1215 - recall_at_precision: 0.0000e+00 - val_loss: 2.6717 - val_accuracy: 0.2258 - val_recall_at_precision: 0.0000e+00\n",
            "Epoch 5/20\n",
            "48/48 [==============================] - 76s 2s/step - loss: 2.6562 - accuracy: 0.1372 - recall_at_precision: 0.0000e+00 - val_loss: 2.5718 - val_accuracy: 0.1935 - val_recall_at_precision: 0.0645\n",
            "Epoch 6/20\n",
            "48/48 [==============================] - 76s 2s/step - loss: 2.5414 - accuracy: 0.1962 - recall_at_precision: 0.0000e+00 - val_loss: 2.4994 - val_accuracy: 0.2581 - val_recall_at_precision: 0.0000e+00\n",
            "Epoch 7/20\n",
            "48/48 [==============================] - 76s 2s/step - loss: 2.3864 - accuracy: 0.2674 - recall_at_precision: 0.0069 - val_loss: 2.2411 - val_accuracy: 0.3871 - val_recall_at_precision: 0.0645\n",
            "Epoch 8/20\n",
            "48/48 [==============================] - 75s 2s/step - loss: 2.2045 - accuracy: 0.3333 - recall_at_precision: 0.0278 - val_loss: 1.9996 - val_accuracy: 0.3226 - val_recall_at_precision: 0.1613\n",
            "Epoch 9/20\n",
            "48/48 [==============================] - 74s 2s/step - loss: 1.9338 - accuracy: 0.3976 - recall_at_precision: 0.0347 - val_loss: 1.8460 - val_accuracy: 0.3871 - val_recall_at_precision: 0.2258\n",
            "Epoch 10/20\n",
            "48/48 [==============================] - 76s 2s/step - loss: 1.8453 - accuracy: 0.4253 - recall_at_precision: 0.1389 - val_loss: 1.6148 - val_accuracy: 0.4194 - val_recall_at_precision: 0.2903\n",
            "Epoch 11/20\n",
            "48/48 [==============================] - 74s 2s/step - loss: 1.6332 - accuracy: 0.4948 - recall_at_precision: 0.2014 - val_loss: 1.5574 - val_accuracy: 0.4839 - val_recall_at_precision: 0.2581\n",
            "Epoch 12/20\n",
            "48/48 [==============================] - 74s 2s/step - loss: 1.4872 - accuracy: 0.5712 - recall_at_precision: 0.2726 - val_loss: 1.4812 - val_accuracy: 0.5484 - val_recall_at_precision: 0.2581\n",
            "Epoch 13/20\n",
            "48/48 [==============================] - 75s 2s/step - loss: 1.3283 - accuracy: 0.6111 - recall_at_precision: 0.3993 - val_loss: 1.4599 - val_accuracy: 0.5484 - val_recall_at_precision: 0.3871\n",
            "Epoch 14/20\n",
            "48/48 [==============================] - 75s 2s/step - loss: 1.2534 - accuracy: 0.6233 - recall_at_precision: 0.4184 - val_loss: 1.4169 - val_accuracy: 0.5484 - val_recall_at_precision: 0.2581\n",
            "Epoch 15/20\n",
            "48/48 [==============================] - 75s 2s/step - loss: 1.1534 - accuracy: 0.6198 - recall_at_precision: 0.4809 - val_loss: 1.3307 - val_accuracy: 0.5806 - val_recall_at_precision: 0.4194\n",
            "Epoch 16/20\n",
            "48/48 [==============================] - 75s 2s/step - loss: 1.0515 - accuracy: 0.6667 - recall_at_precision: 0.5295 - val_loss: 1.2661 - val_accuracy: 0.5806 - val_recall_at_precision: 0.4194\n",
            "Epoch 17/20\n",
            "48/48 [==============================] - 75s 2s/step - loss: 0.9292 - accuracy: 0.7188 - recall_at_precision: 0.6319 - val_loss: 1.2431 - val_accuracy: 0.6452 - val_recall_at_precision: 0.4194\n",
            "Epoch 18/20\n",
            "48/48 [==============================] - 75s 2s/step - loss: 0.9026 - accuracy: 0.7361 - recall_at_precision: 0.6701 - val_loss: 1.1818 - val_accuracy: 0.6129 - val_recall_at_precision: 0.5806\n",
            "Epoch 19/20\n",
            "48/48 [==============================] - 76s 2s/step - loss: 0.8396 - accuracy: 0.7500 - recall_at_precision: 0.6719 - val_loss: 1.2090 - val_accuracy: 0.6129 - val_recall_at_precision: 0.5161\n",
            "Epoch 20/20\n",
            "48/48 [==============================] - 76s 2s/step - loss: 0.7628 - accuracy: 0.7812 - recall_at_precision: 0.7622 - val_loss: 1.1781 - val_accuracy: 0.6129 - val_recall_at_precision: 0.3871\n"
          ]
        },
        {
          "output_type": "execute_result",
          "data": {
            "text/plain": [
              "<keras.callbacks.History at 0x7fb7a434b940>"
            ]
          },
          "metadata": {},
          "execution_count": 13
        }
      ]
    },
    {
      "cell_type": "code",
      "source": [
        "print(model_clf_rb.history.history.keys())\n",
        "plt.plot(model_clf_rb.history.history['accuracy'])\n",
        "plt.plot(model_clf_rb.history.history['val_accuracy'])\n",
        "plt.title('model accuracy')\n",
        "plt.ylabel('accuracy')\n",
        "plt.xlabel('epoch')\n",
        "plt.legend(['train', 'val'], loc='upper left')\n",
        "plt.show()"
      ],
      "metadata": {
        "id": "yG7gubUrM7Z_",
        "colab": {
          "base_uri": "https://localhost:8080/",
          "height": 312
        },
        "outputId": "d12b65ed-e169-4b25-9981-1d9bf2c90759"
      },
      "id": "yG7gubUrM7Z_",
      "execution_count": null,
      "outputs": [
        {
          "output_type": "stream",
          "name": "stdout",
          "text": [
            "dict_keys(['loss', 'accuracy', 'recall_at_precision', 'val_loss', 'val_accuracy', 'val_recall_at_precision'])\n"
          ]
        },
        {
          "output_type": "display_data",
          "data": {
            "text/plain": [
              "<Figure size 432x288 with 1 Axes>"
            ],
            "image/png": "[encoded data removed]"
          },
          "metadata": {
            "needs_background": "light"
          }
        }
      ]
    },
    {
      "cell_type": "code",
      "execution_count": null,
      "id": "29742a54",
      "metadata": {
        "id": "29742a54"
      },
      "outputs": [],
      "source": [
        "pred_rb = model_clf_rb.predict(X_valid).argmax(1)"
      ]
    },
    {
      "cell_type": "code",
      "execution_count": null,
      "id": "1f6a0b99",
      "metadata": {
        "id": "1f6a0b99",
        "colab": {
          "base_uri": "https://localhost:8080/"
        },
        "outputId": "64b67169-4f8f-42eb-dac8-c0c4b3432a7e"
      },
      "outputs": [
        {
          "output_type": "stream",
          "name": "stdout",
          "text": [
            "                   precision    recall  f1-score   support\n",
            "\n",
            "        Экономика       1.00      1.00      1.00         2\n",
            "         Культура       0.67      0.67      0.67         3\n",
            "              Дом       0.40      1.00      0.57         2\n",
            "           Россия       0.33      0.50      0.40         2\n",
            "              Мир       0.33      1.00      0.50         1\n",
            "      Бывший СССР       1.00      0.33      0.50         3\n",
            "         Из жизни       1.00      0.33      0.50         3\n",
            "Силовые структуры       0.67      1.00      0.80         2\n",
            "       Библиотека       0.00      0.00      0.00         0\n",
            "             Крым       0.00      0.00      0.00         0\n",
            "         Ценности       0.50      0.50      0.50         2\n",
            "            Спорт       1.00      1.00      1.00         2\n",
            "   69-я параллель       0.00      0.00      0.00         1\n",
            "  Наука и техника       1.00      0.67      0.80         3\n",
            "           Бизнес       0.50      0.50      0.50         2\n",
            "          Легпром       0.00      0.00      0.00         1\n",
            "   Интернет и СМИ       0.50      0.50      0.50         2\n",
            "\n",
            "        micro avg       0.61      0.61      0.61        31\n",
            "        macro avg       0.52      0.53      0.48        31\n",
            "     weighted avg       0.68      0.61      0.59        31\n",
            "\n"
          ]
        }
      ],
      "source": [
        "print(classification_report(y_valid.argmax(1), pred_rb, labels=list(range(len(label2id))),\n",
        "                            target_names=list(label2id), zero_division=0))"
      ]
    },
    {
      "cell_type": "markdown",
      "id": "ca34045b",
      "metadata": {
        "id": "ca34045b"
      },
      "source": [
        "### Задание  2 (2 балла)\n",
        "\n",
        "Ответьте на следующие вопросы (напишите хотя бы по несколько предложений):\n",
        "\n",
        "1) Чем ROBERTA отличается от BERT? В какой статье описана ROBERTA?\n",
        "\n",
        "2) Чем модель T5 отличается от ROBERTA/BERT? "
      ]
    },
    {
      "cell_type": "markdown",
      "source": [
        "1. RoBERTa была представлена в статье \"RoBERTa: A Robustly Optimized BERT Pretraining Approach\" (Yinhan Liu, Myle Ott, Naman Goyal et al.) в 2019 году. Ее архитектура очень схожа с BERT, но разработчики добавили следующие оптимизации:\n",
        "\n",
        "\n",
        "*   Больший размер batches и словаря при тренировке модели \n",
        "*   Более длительное время обучения и больший объем обучающих данных (в 10 раз больше — от 16GB к 160GB)\n",
        "*   В качестве входных данных используются более длинные последовательности, но RoBERTa по-прежнему имеет ограничение на максимальное количество токенов — 512\n",
        "*   В BERT маскирование происходит один раз. В RoBERTa применяется динамическое маскирование. Обучающие данные дублируются и маскируются 10 раз в течение 40 epochs, таким образом, на один вариант маскирования приходится 4 эпохи. \n",
        "\n"
      ],
      "metadata": {
        "id": "tDFkaoZHcku2"
      },
      "id": "tDFkaoZHcku2"
    },
    {
      "cell_type": "markdown",
      "source": [
        "2. T5 \"переформулирует\" все задачи NLP в единый формат text-to-text, где input и output всегда представляют собой текстовые строки, в отличие от BERT-based моделей, которые могут выводить только метку класса или диапазон входных данных. Такой text-to-text framework позволяет  использовать одну и ту же модель, функцию потерь и гиперпараметры в любой задаче NLP, включая машинный перевод, обобщение документов, ответы на вопросы и задачи классификации"
      ],
      "metadata": {
        "id": "8Zhx6QQ6umEL"
      },
      "id": "8Zhx6QQ6umEL"
    }
  ],
  "metadata": {
    "kernelspec": {
      "display_name": "Python 3 (ipykernel)",
      "language": "python",
      "name": "python3"
    },
    "language_info": {
      "codemirror_mode": {
        "name": "ipython",
        "version": 3
      },
      "file_extension": ".py",
      "mimetype": "text/x-python",
      "name": "python",
      "nbconvert_exporter": "python",
      "pygments_lexer": "ipython3",
      "version": "3.8.12"
    },
    "colab": {
      "provenance": [],
      "include_colab_link": true
    },
    "accelerator": "GPU",
    "gpuClass": "standard"
  },
  "nbformat": 4,
  "nbformat_minor": 5
}