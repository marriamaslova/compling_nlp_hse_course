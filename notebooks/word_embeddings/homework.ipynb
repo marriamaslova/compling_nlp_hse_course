{
  "cells": [
    {
      "cell_type": "markdown",
      "metadata": {
        "id": "view-in-github",
        "colab_type": "text"
      },
      "source": [
        "<a href=\"https://colab.research.google.com/github/marriamaslova/compling_nlp_hse_course/blob/master/notebooks/word_embeddings/homework.ipynb\" target=\"_parent\"><img src=\"https://colab.research.google.com/assets/colab-badge.svg\" alt=\"Open In Colab\"/></a>"
      ]
    },
    {
      "cell_type": "markdown",
      "metadata": {
        "id": "6af66482"
      },
      "source": [
        "#### Важное требование ко всей домашке в целом: в jupyter ноутбуке не должно был лишнего кода (т.е. если вы взяли за основу семинар, не забудьте удалить все лишнее)"
      ],
      "id": "6af66482"
    },
    {
      "cell_type": "code",
      "execution_count": null,
      "metadata": {
        "id": "-x7OAyme1o8F"
      },
      "outputs": [],
      "source": [
        "!pip install matplotlib pandas"
      ],
      "id": "-x7OAyme1o8F"
    },
    {
      "cell_type": "code",
      "execution_count": null,
      "metadata": {
        "id": "1aed5eae"
      },
      "outputs": [],
      "source": [
        "import tensorflow as tf\n",
        "import numpy as np\n",
        "import pandas as pd\n",
        "from string import punctuation\n",
        "from sklearn.model_selection import train_test_split\n",
        "from collections import Counter\n",
        "import matplotlib.pyplot as plt\n",
        "from sklearn.decomposition import TruncatedSVD\n",
        "from sklearn.feature_extraction.text import CountVectorizer\n",
        "from sklearn.metrics.pairwise import cosine_distances\n",
        "\n",
        "from IPython.display import Image\n",
        "from IPython.core.display import HTML \n",
        "%matplotlib inline"
      ],
      "id": "1aed5eae"
    },
    {
      "cell_type": "code",
      "execution_count": null,
      "metadata": {
        "id": "LuTW5I47HF4K"
      },
      "outputs": [],
      "source": [
        "!pip install razdel"
      ],
      "id": "LuTW5I47HF4K"
    },
    {
      "cell_type": "code",
      "execution_count": null,
      "metadata": {
        "id": "sb7n9_FNHLZ7"
      },
      "outputs": [],
      "source": [
        "from razdel import tokenize as razdel_tokenize"
      ],
      "id": "sb7n9_FNHLZ7"
    },
    {
      "cell_type": "code",
      "execution_count": null,
      "metadata": {
        "id": "DuD_AsxAICcz"
      },
      "outputs": [],
      "source": [
        "!pip install pymorphy2\n",
        "!pip install -U pymorphy2-dicts-ru"
      ],
      "id": "DuD_AsxAICcz"
    },
    {
      "cell_type": "code",
      "execution_count": null,
      "metadata": {
        "id": "cppxBgN0IIcL"
      },
      "outputs": [],
      "source": [
        "import pymorphy2\n",
        "pm = pymorphy2.MorphAnalyzer()"
      ],
      "id": "cppxBgN0IIcL"
    },
    {
      "cell_type": "code",
      "source": [
        "!pip install pymystem3==0.1.10"
      ],
      "metadata": {
        "id": "4euR6ItR3NsU"
      },
      "id": "4euR6ItR3NsU",
      "execution_count": null,
      "outputs": []
    },
    {
      "cell_type": "code",
      "source": [
        "from pymystem3 import Mystem\n",
        "m = Mystem()"
      ],
      "metadata": {
        "id": "tc1zmNoa3TZo"
      },
      "id": "tc1zmNoa3TZo",
      "execution_count": null,
      "outputs": []
    },
    {
      "cell_type": "markdown",
      "metadata": {
        "id": "9c422aa0"
      },
      "source": [
        "# Задание 1 (3 балла)"
      ],
      "id": "9c422aa0"
    },
    {
      "cell_type": "markdown",
      "metadata": {
        "id": "e4a72790"
      },
      "source": [
        "Обучите word2vec модели с негативным семплированием (cbow и skip-gram) с помощью tensorflow аналогично тому, как это было сделано в семинаре. Вам нужно изменить следующие пункты: \n",
        "1) добавьте лемматизацию в предобработку (любым способом)  \n",
        "2) измените размер окна на 6 для cbow и 12 для skip gram (обратите внимание, что размер окна = #слов слева + #слов справа, в gen_batches в семинаре window используется не так и вам нужно это  изменить!)  \n",
        "\n",
        "Выберете несколько не похожих по смыслу слов, и протестируйте полученные эмбединги (найдите ближайшие слова и оцените правильность, как в семинаре)"
      ],
      "id": "e4a72790"
    },
    {
      "cell_type": "markdown",
      "metadata": {
        "id": "jan3LHX_YydV"
      },
      "source": [
        "Предобработка"
      ],
      "id": "jan3LHX_YydV"
    },
    {
      "cell_type": "code",
      "execution_count": null,
      "metadata": {
        "id": "wPrkROx21o5s"
      },
      "outputs": [],
      "source": [
        "wiki = open('wiki_data.txt').read().split('\\n')"
      ],
      "id": "wPrkROx21o5s"
    },
    {
      "cell_type": "code",
      "execution_count": null,
      "metadata": {
        "id": "A-VwkyftHuYa"
      },
      "outputs": [],
      "source": [
        "import re"
      ],
      "id": "A-VwkyftHuYa"
    },
    {
      "cell_type": "code",
      "execution_count": null,
      "metadata": {
        "id": "p7phuIBYHnOb"
      },
      "outputs": [],
      "source": [
        "def preprocess_data(text):\n",
        "    tokens = re.sub('#+', ' ', text.lower()).split()\n",
        "    tokens = [token.strip(punctuation) for token in tokens]\n",
        "    tokens = [token for token in tokens if token]\n",
        "    lemmas = []\n",
        "    for elem in tokens:\n",
        "      res = pm.parse(elem)[0].normal_form\n",
        "      lemmas.append(res)\n",
        "    return lemmas"
      ],
      "id": "p7phuIBYHnOb"
    },
    {
      "cell_type": "code",
      "execution_count": null,
      "metadata": {
        "id": "q0PgMmRbIHSw"
      },
      "outputs": [],
      "source": [
        "vocab = Counter()\n",
        "for text in wiki:\n",
        "  vocab.update(preprocess_data(text))"
      ],
      "id": "q0PgMmRbIHSw"
    },
    {
      "cell_type": "code",
      "execution_count": null,
      "metadata": {
        "id": "YKFcVa0gFviQ"
      },
      "outputs": [],
      "source": [
        "filtered_vocab = set()\n",
        "\n",
        "for word in vocab:\n",
        "    if vocab[word] > 30:\n",
        "        filtered_vocab.add(word)"
      ],
      "id": "YKFcVa0gFviQ"
    },
    {
      "cell_type": "code",
      "execution_count": null,
      "metadata": {
        "id": "7iMjNnUDGCEV"
      },
      "outputs": [],
      "source": [
        "word2id = { 'PAD':0}\n",
        "for word in filtered_vocab:\n",
        "    word2id[word] = len(word2id)"
      ],
      "id": "7iMjNnUDGCEV"
    },
    {
      "cell_type": "code",
      "execution_count": null,
      "metadata": {
        "id": "reJo1CYpGLSq"
      },
      "outputs": [],
      "source": [
        "id2word = {i:word for word, i in word2id.items()}"
      ],
      "id": "reJo1CYpGLSq"
    },
    {
      "cell_type": "code",
      "execution_count": null,
      "metadata": {
        "id": "t8qwZ1hcGOx-"
      },
      "outputs": [],
      "source": [
        "sentences = []\n",
        "\n",
        "for text in wiki:\n",
        "    lemmas = preprocess_data(text)\n",
        "    if not lemmas:\n",
        "        continue\n",
        "    ids = [word2id[lemma] for lemma in lemmas if lemma in word2id]\n",
        "    sentences.append(ids)"
      ],
      "id": "t8qwZ1hcGOx-"
    },
    {
      "cell_type": "markdown",
      "metadata": {
        "id": "WTglcOL2YwfO"
      },
      "source": [
        "Skip Gram"
      ],
      "id": "WTglcOL2YwfO"
    },
    {
      "cell_type": "code",
      "execution_count": null,
      "metadata": {
        "id": "fkYVpGaPc-BD"
      },
      "outputs": [],
      "source": [
        "def most_similar(word, embeddings):\n",
        "    similar = [id2word[i] for i in \n",
        "               cosine_distances(embeddings[word2id[word]].reshape(1, -1), embeddings).argsort()[0][:10]]\n",
        "    return similar"
      ],
      "id": "fkYVpGaPc-BD"
    },
    {
      "cell_type": "code",
      "execution_count": null,
      "metadata": {
        "id": "ZHcGOzF2Vy76"
      },
      "outputs": [],
      "source": [
        "vocab_size = len(id2word)"
      ],
      "id": "ZHcGOzF2Vy76"
    },
    {
      "cell_type": "code",
      "execution_count": null,
      "metadata": {
        "id": "EsmCaMmfYr9X"
      },
      "outputs": [],
      "source": [
        "def gen_batches_sg(sentences, window = 12, batch_size=1000):\n",
        "    while True:\n",
        "        X_target = []\n",
        "        X_context = []\n",
        "        y = []\n",
        "\n",
        "        for sent in sentences:\n",
        "            for i in range(len(sent)-1):\n",
        "                word = sent[i]\n",
        "                context = sent[i-window:i] + sent[i+1:i+window]\n",
        "                for context_word in context:\n",
        "                    X_target.append(word)\n",
        "                    X_context.append(context_word)\n",
        "                    y.append(1)\n",
        "                    \n",
        "                    X_target.append(word)\n",
        "                    X_context.append(np.random.randint(vocab_size))\n",
        "                    y.append(0)\n",
        "                    \n",
        "                    if len(X_target) >= batch_size:\n",
        "                        X_target = np.array(X_target)\n",
        "                        X_context = np.array(X_context)\n",
        "                        y = np.array(y)\n",
        "                        yield ((X_target, X_context), y)\n",
        "                        X_target = []\n",
        "                        X_context = []\n",
        "                        y = []"
      ],
      "id": "EsmCaMmfYr9X"
    },
    {
      "cell_type": "code",
      "execution_count": null,
      "metadata": {
        "id": "ipPYuZw0Yr61"
      },
      "outputs": [],
      "source": [
        "inputs_target = tf.keras.layers.Input(shape=(1,))\n",
        "inputs_context = tf.keras.layers.Input(shape=(1,))\n",
        "\n",
        "\n",
        "embeddings_target = tf.keras.layers.Embedding(input_dim=len(word2id), output_dim=300)(inputs_target, )\n",
        "embeddings_context = tf.keras.layers.Embedding(input_dim=len(word2id), output_dim=300)(inputs_context, )\n",
        "\n",
        "target = tf.keras.layers.Flatten()(embeddings_target)\n",
        "context = tf.keras.layers.Flatten()(embeddings_context)\n",
        "\n",
        "dot = tf.keras.layers.Dot(1)([target, context])\n",
        "outputs = tf.keras.layers.Activation(activation='sigmoid')(dot)\n",
        "\n",
        "model = tf.keras.Model(inputs=[inputs_target, inputs_context], \n",
        "                       outputs=outputs)\n",
        "optimizer = tf.keras.optimizers.Adam(learning_rate=0.001)\n",
        "model.compile(optimizer=optimizer,\n",
        "              loss='binary_crossentropy',\n",
        "              metrics=['accuracy'])"
      ],
      "id": "ipPYuZw0Yr61"
    },
    {
      "cell_type": "code",
      "execution_count": null,
      "metadata": {
        "id": "dFo35UETYr4i",
        "colab": {
          "base_uri": "https://localhost:8080/"
        },
        "outputId": "1e85d69c-1a81-49e1-eabe-aef76d4dc7cd"
      },
      "outputs": [
        {
          "output_type": "stream",
          "name": "stdout",
          "text": [
            "Epoch 1/2\n",
            "10000/10000 [==============================] - 891s 89ms/step - loss: 0.4633 - accuracy: 0.7873 - val_loss: 0.5135 - val_accuracy: 0.7661\n",
            "Epoch 2/2\n",
            "10000/10000 [==============================] - 830s 83ms/step - loss: 0.4464 - accuracy: 0.8034 - val_loss: 0.5275 - val_accuracy: 0.7749\n"
          ]
        },
        {
          "output_type": "execute_result",
          "data": {
            "text/plain": [
              "<keras.callbacks.History at 0x7feef1cb6910>"
            ]
          },
          "metadata": {},
          "execution_count": 19
        }
      ],
      "source": [
        "model.fit(gen_batches_sg(sentences[:19000], window=12),\n",
        "          validation_data=gen_batches_sg(sentences[19000:],  window=12),\n",
        "          batch_size=1000,\n",
        "          steps_per_epoch=10000,\n",
        "          validation_steps=30,\n",
        "         epochs=2)"
      ],
      "id": "dFo35UETYr4i"
    },
    {
      "cell_type": "code",
      "execution_count": null,
      "metadata": {
        "id": "5O66SiO5Yryn"
      },
      "outputs": [],
      "source": [
        "embeddings_sg = model.layers[2].get_weights()[0]"
      ],
      "id": "5O66SiO5Yryn"
    },
    {
      "cell_type": "code",
      "execution_count": null,
      "metadata": {
        "id": "m0iSiQUq1odi",
        "colab": {
          "base_uri": "https://localhost:8080/"
        },
        "outputId": "708dfe1b-559b-47f5-b4c4-6635b33abca9"
      },
      "outputs": [
        {
          "output_type": "execute_result",
          "data": {
            "text/plain": [
              "['семья',\n",
              " 'родиться',\n",
              " 'губерния',\n",
              " 'василий',\n",
              " 'окончить',\n",
              " 'деятель',\n",
              " 'школа',\n",
              " 'учиться',\n",
              " 'младший',\n",
              " 'иванович']"
            ]
          },
          "metadata": {},
          "execution_count": 21
        }
      ],
      "source": [
        "most_similar('семья', embeddings_sg)"
      ],
      "id": "m0iSiQUq1odi"
    },
    {
      "cell_type": "code",
      "execution_count": null,
      "metadata": {
        "id": "JNIaYlNl1oYT",
        "colab": {
          "base_uri": "https://localhost:8080/"
        },
        "outputId": "55e3bf56-c911-4087-af05-88da55a444f9"
      },
      "outputs": [
        {
          "output_type": "execute_result",
          "data": {
            "text/plain": [
              "['гора',\n",
              " 'река',\n",
              " 'юг',\n",
              " 'озеро',\n",
              " 'долина',\n",
              " 'протекать',\n",
              " 'юго-западный',\n",
              " 'бассейн',\n",
              " 'запад',\n",
              " 'километр']"
            ]
          },
          "metadata": {},
          "execution_count": 22
        }
      ],
      "source": [
        "most_similar('гора', embeddings_sg)"
      ],
      "id": "JNIaYlNl1oYT"
    },
    {
      "cell_type": "code",
      "execution_count": null,
      "metadata": {
        "id": "6J6WFrBQ1oTB",
        "colab": {
          "base_uri": "https://localhost:8080/"
        },
        "outputId": "41ae8b5a-6dcb-42ca-d4cb-da2caa4ca059"
      },
      "outputs": [
        {
          "output_type": "execute_result",
          "data": {
            "text/plain": [
              "['футбол',\n",
              " 'тренер',\n",
              " 'чемпион',\n",
              " 'сборная',\n",
              " 'обыграть',\n",
              " 'дважды',\n",
              " 'лига',\n",
              " 'сборный',\n",
              " 'япония',\n",
              " 'первенство']"
            ]
          },
          "metadata": {},
          "execution_count": 25
        }
      ],
      "source": [
        "most_similar('футбол', embeddings_sg)"
      ],
      "id": "6J6WFrBQ1oTB"
    },
    {
      "cell_type": "markdown",
      "metadata": {
        "id": "_W7b14D4lD2N"
      },
      "source": [
        "Cbow"
      ],
      "id": "_W7b14D4lD2N"
    },
    {
      "cell_type": "code",
      "execution_count": null,
      "metadata": {
        "id": "8h_d1fnwl3ez"
      },
      "outputs": [],
      "source": [
        "def gen_batches_cbow(sentences, window = 6, batch_size=1000):\n",
        "    while True:\n",
        "        X_target = []\n",
        "        X_context = []\n",
        "        y = []\n",
        "\n",
        "        for sent in sentences:\n",
        "            for i in range(len(sent)-1):\n",
        "                word = sent[i]\n",
        "                context = sent[i-window:i] + sent[i+1:i+window]\n",
        "\n",
        "                X_target.append(word)\n",
        "                X_context.append(context)\n",
        "                y.append(1)\n",
        "                \n",
        "                X_target.append(np.random.randint(vocab_size))\n",
        "                X_context.append(context)\n",
        "                y.append(0)\n",
        "\n",
        "                if len(X_target) == batch_size:\n",
        "                    X_target = np.array(X_target)\n",
        "                    X_context = tf.keras.preprocessing.sequence.pad_sequences(X_context, maxlen=window*2)\n",
        "                    y = np.array(y)\n",
        "                    yield ((X_target, X_context), y)\n",
        "                    X_target = []\n",
        "                    X_context = []\n",
        "                    y = []"
      ],
      "id": "8h_d1fnwl3ez"
    },
    {
      "cell_type": "code",
      "execution_count": null,
      "metadata": {
        "id": "rhYpKuB_1oQf"
      },
      "outputs": [],
      "source": [
        "inputs_target = tf.keras.layers.Input(shape=(1,))\n",
        "inputs_context = tf.keras.layers.Input(shape=(10,))\n",
        "\n",
        "\n",
        "embeddings_target = tf.keras.layers.Embedding(input_dim=len(word2id), output_dim=300)(inputs_target, )\n",
        "embeddings_context = tf.keras.layers.Embedding(input_dim=len(word2id), output_dim=300)(inputs_context, )\n",
        "\n",
        "target = tf.keras.layers.Flatten()(embeddings_target)\n",
        "context = tf.keras.layers.Lambda(lambda x: tf.keras.backend.sum(x, axis=1))(embeddings_context)\n",
        "dot = tf.keras.layers.Dot(1)([target, context])\n",
        "\n",
        "# полученную близость нужно преобразовать в вероятность\n",
        "# когда она одна используется не софтмакс и сигмоида\n",
        "outputs = tf.keras.layers.Activation(activation='sigmoid')(dot)\n",
        "\n",
        "model = tf.keras.Model(inputs=[inputs_target, inputs_context], \n",
        "                       outputs=outputs)\n",
        "\n",
        "\n",
        "optimizer = tf.keras.optimizers.Adam(learning_rate=0.001)\n",
        "model.compile(optimizer=optimizer,\n",
        "              loss='binary_crossentropy',\n",
        "              metrics=['accuracy'])"
      ],
      "id": "rhYpKuB_1oQf"
    },
    {
      "cell_type": "code",
      "execution_count": null,
      "metadata": {
        "id": "cde5fd96",
        "colab": {
          "base_uri": "https://localhost:8080/"
        },
        "outputId": "7b0e6a37-4c53-4096-c97c-927f84b19400"
      },
      "outputs": [
        {
          "output_type": "stream",
          "name": "stdout",
          "text": [
            "Epoch 1/2\n",
            "5000/5000 [==============================] - 480s 96ms/step - loss: 0.3519 - accuracy: 0.8497 - val_loss: 0.2929 - val_accuracy: 0.8818\n",
            "Epoch 2/2\n",
            "5000/5000 [==============================] - 486s 97ms/step - loss: 0.2672 - accuracy: 0.8912 - val_loss: 0.2542 - val_accuracy: 0.8983\n"
          ]
        },
        {
          "output_type": "execute_result",
          "data": {
            "text/plain": [
              "<keras.callbacks.History at 0x7feef1c147c0>"
            ]
          },
          "metadata": {},
          "execution_count": 28
        }
      ],
      "source": [
        "model.fit(gen_batches_cbow(sentences[:19000], window=6),\n",
        "          validation_data=gen_batches_cbow(sentences[19000:],  window=6),\n",
        "          batch_size=1000,\n",
        "          steps_per_epoch=5000,\n",
        "          validation_steps=30,\n",
        "         epochs=2)"
      ],
      "id": "cde5fd96"
    },
    {
      "cell_type": "code",
      "execution_count": null,
      "metadata": {
        "id": "YgP335vFqBbT"
      },
      "outputs": [],
      "source": [
        "embeddings_cb = model.layers[2].get_weights()[0]"
      ],
      "id": "YgP335vFqBbT"
    },
    {
      "cell_type": "code",
      "execution_count": null,
      "metadata": {
        "id": "sxZuFKsMqBWR",
        "colab": {
          "base_uri": "https://localhost:8080/"
        },
        "outputId": "2038438d-c12c-441a-b56e-0dc6de05f581"
      },
      "outputs": [
        {
          "output_type": "execute_result",
          "data": {
            "text/plain": [
              "['семья',\n",
              " 'ребёнок',\n",
              " 'жить',\n",
              " 'отец',\n",
              " 'крестьянин',\n",
              " 'брат',\n",
              " 'родитель',\n",
              " 'дом',\n",
              " 'родиться',\n",
              " 'они']"
            ]
          },
          "metadata": {},
          "execution_count": 30
        }
      ],
      "source": [
        "most_similar('семья', embeddings_cb)"
      ],
      "id": "sxZuFKsMqBWR"
    },
    {
      "cell_type": "code",
      "execution_count": null,
      "metadata": {
        "id": "Ln67c8fGqBQ1",
        "colab": {
          "base_uri": "https://localhost:8080/"
        },
        "outputId": "f7ceea0c-efe4-4f2a-efdf-5c27096c1f72"
      },
      "outputs": [
        {
          "output_type": "execute_result",
          "data": {
            "text/plain": [
              "['река',\n",
              " 'озеро',\n",
              " 'берег',\n",
              " 'гора',\n",
              " 'холм',\n",
              " 'ручей',\n",
              " 'дунай',\n",
              " 'равнина',\n",
              " 'устье',\n",
              " 'долина']"
            ]
          },
          "metadata": {},
          "execution_count": 31
        }
      ],
      "source": [
        "most_similar('река', embeddings_cb)"
      ],
      "id": "Ln67c8fGqBQ1"
    },
    {
      "cell_type": "code",
      "execution_count": null,
      "metadata": {
        "id": "4f71d7cb",
        "colab": {
          "base_uri": "https://localhost:8080/"
        },
        "outputId": "f9e89eec-7f46-4226-b5a4-8040b957430d"
      },
      "outputs": [
        {
          "output_type": "execute_result",
          "data": {
            "text/plain": [
              "['хоккей',\n",
              " 'гандбол',\n",
              " 'волейбол',\n",
              " 'мини-футбол',\n",
              " 'теннис',\n",
              " 'скелетон',\n",
              " 'бобслей',\n",
              " 'баскетбол',\n",
              " 'юниорский',\n",
              " 'дзюдо']"
            ]
          },
          "metadata": {},
          "execution_count": 32
        }
      ],
      "source": [
        "most_similar('хоккей', embeddings_cb)"
      ],
      "id": "4f71d7cb"
    },
    {
      "cell_type": "markdown",
      "source": [
        "В целом полученные эмбеддинги кажутся довольно адекватными. Вот что точно можно сказать, что они отражают характер материала: можно просто посмотреть и уже догадаться, что данные взяты из Википедии"
      ],
      "metadata": {
        "id": "GsFpovLkPWV3"
      },
      "id": "GsFpovLkPWV3"
    },
    {
      "cell_type": "markdown",
      "metadata": {
        "id": "c3b61b7c"
      },
      "source": [
        "# Задание 2 (3 балла)"
      ],
      "id": "c3b61b7c"
    },
    {
      "cell_type": "markdown",
      "metadata": {
        "id": "66eff080"
      },
      "source": [
        "Обучите 1 word2vec и 1 fastext модель в gensim. В каждой из модели нужно задать все параметры, которые мы разбирали на семинаре. Заданные значения должны отличаться от дефолтных и от тех, что мы использовали на семинаре."
      ],
      "id": "66eff080"
    },
    {
      "cell_type": "code",
      "execution_count": null,
      "metadata": {
        "id": "z1AOInzaCVg_"
      },
      "outputs": [],
      "source": [
        "!pip install gensim"
      ],
      "id": "z1AOInzaCVg_"
    },
    {
      "cell_type": "code",
      "source": [
        "import gensim"
      ],
      "metadata": {
        "id": "QkRg5ht50ip7"
      },
      "id": "QkRg5ht50ip7",
      "execution_count": null,
      "outputs": []
    },
    {
      "cell_type": "code",
      "execution_count": null,
      "metadata": {
        "id": "gxEwUGZFEGtQ"
      },
      "outputs": [],
      "source": [
        "def preprocess(text):\n",
        "    tokens = re.sub('#+', ' ', text.lower()).split()\n",
        "    tokens = [token.strip(punctuation) for token in tokens]\n",
        "    tokens = [token for token in tokens if token]\n",
        "    return tokens"
      ],
      "id": "gxEwUGZFEGtQ"
    },
    {
      "cell_type": "code",
      "execution_count": null,
      "metadata": {
        "id": "jooKaVlQCVbR"
      },
      "outputs": [],
      "source": [
        "texts = [preprocess(text) for text in wiki]"
      ],
      "id": "jooKaVlQCVbR"
    },
    {
      "cell_type": "code",
      "execution_count": null,
      "metadata": {
        "colab": {
          "base_uri": "https://localhost:8080/"
        },
        "id": "lx8PLLyYCVUO",
        "outputId": "25f15e1f-026e-408b-fab5-dfefc0406c23"
      },
      "outputs": [
        {
          "output_type": "stream",
          "name": "stdout",
          "text": [
            "CPU times: user 30.8 s, sys: 340 ms, total: 31.1 s\n",
            "Wall time: 20.7 s\n"
          ]
        }
      ],
      "source": [
        "%%time\n",
        "w2v = gensim.models.Word2Vec(texts, size=500, min_count=10, max_vocab_size=9000, window=9, iter=6, hs=1, sg = 0, sample = 1e-5)"
      ],
      "id": "lx8PLLyYCVUO"
    },
    {
      "cell_type": "code",
      "execution_count": null,
      "metadata": {
        "colab": {
          "base_uri": "https://localhost:8080/"
        },
        "id": "JrHEKKJzjyuf",
        "outputId": "ccfa1bfd-1010-4f20-8ab0-d3697c21f14d"
      },
      "outputs": [
        {
          "output_type": "execute_result",
          "data": {
            "text/plain": [
              "[('храм', 0.9682762026786804),\n",
              " ('церкви', 0.9503377676010132),\n",
              " ('xvii', 0.8922445774078369),\n",
              " ('монастыря', 0.891191840171814),\n",
              " ('собор', 0.8865468502044678),\n",
              " ('монастырь', 0.8786105513572693),\n",
              " ('святого', 0.8784339427947998),\n",
              " ('xviii', 0.8723244071006775),\n",
              " ('здание', 0.8721140027046204),\n",
              " ('честь', 0.8578802347183228)]"
            ]
          },
          "metadata": {},
          "execution_count": 40
        }
      ],
      "source": [
        "w2v.wv.most_similar('церковь')"
      ],
      "id": "JrHEKKJzjyuf"
    },
    {
      "cell_type": "code",
      "execution_count": null,
      "metadata": {
        "id": "TPCXH0zBCVR4",
        "colab": {
          "base_uri": "https://localhost:8080/"
        },
        "outputId": "5e63e5ae-95c5-4dac-fa11-a70cfb7a6453"
      },
      "outputs": [
        {
          "output_type": "stream",
          "name": "stdout",
          "text": [
            "CPU times: user 2min 53s, sys: 2.42 s, total: 2min 55s\n",
            "Wall time: 1min 45s\n"
          ]
        }
      ],
      "source": [
        "%%time\n",
        "ft = gensim.models.FastText(texts, size=500, min_count=10, max_vocab_size=9000, window=9, iter=6, hs=1, sg = 0, sample = 1e-5, min_n=2, max_n=5)"
      ],
      "id": "TPCXH0zBCVR4"
    },
    {
      "cell_type": "code",
      "execution_count": null,
      "metadata": {
        "id": "dBxFA5BZCVPU",
        "colab": {
          "base_uri": "https://localhost:8080/"
        },
        "outputId": "d9fb0921-4487-40f4-a07f-8689b4303ad6"
      },
      "outputs": [
        {
          "output_type": "execute_result",
          "data": {
            "text/plain": [
              "[('церкви', 0.9647018909454346),\n",
              " ('храм', 0.954418957233429),\n",
              " ('монастыря', 0.9057528376579285),\n",
              " ('монастырь', 0.9023568630218506),\n",
              " ('xviii', 0.8511088490486145),\n",
              " ('епархии', 0.8485535383224487),\n",
              " ('святой', 0.8473834991455078),\n",
              " ('xvii', 0.844466507434845),\n",
              " ('петра', 0.8240376710891724),\n",
              " ('святого', 0.8198497295379639)]"
            ]
          },
          "metadata": {},
          "execution_count": 46
        }
      ],
      "source": [
        "ft.wv.most_similar('церковь')"
      ],
      "id": "dBxFA5BZCVPU"
    },
    {
      "cell_type": "markdown",
      "metadata": {
        "id": "e4bb928c"
      },
      "source": [
        "# Задание 3 (4 балла)"
      ],
      "id": "e4bb928c"
    },
    {
      "cell_type": "markdown",
      "metadata": {
        "id": "3019b0d1"
      },
      "source": [
        "Используя датасет для классификации (labeled.csv) и простую нейронную сеть (последняя модель в семинаре), оцените качество полученных эмбедингов в задании 1 и 2 (4 набора эмбедингов), также проверьте 1 любую из предобученных моделей с rus-vectores (но только не tayga_upos_skipgram_300_2_2019). \n",
        "Какая модель показывает наилучший результат?\n",
        "\n",
        "Убедитесь, что для каждой модели вы корректно воспроизводите пайплайн предобработки (в 1 задании у вас лемматизация, не забудьте ее применить к датасету для классификации; у выбранной предобученной модели может быть своя специфичная предобработка - ее нужно воспроизвести)"
      ],
      "id": "3019b0d1"
    },
    {
      "cell_type": "code",
      "source": [
        "data = pd.read_csv('labeled.csv')"
      ],
      "metadata": {
        "id": "s9Dy1cA9YZd7"
      },
      "id": "s9Dy1cA9YZd7",
      "execution_count": null,
      "outputs": []
    },
    {
      "cell_type": "code",
      "source": [
        "data['norm_text'] = data.comment.apply(preprocess)"
      ],
      "metadata": {
        "id": "nRI4_gXa18fH"
      },
      "id": "nRI4_gXa18fH",
      "execution_count": null,
      "outputs": []
    },
    {
      "cell_type": "code",
      "source": [
        "data['lemm_text'] = data.comment.apply(preprocess_data)"
      ],
      "metadata": {
        "id": "8QY6647sLnfC"
      },
      "id": "8QY6647sLnfC",
      "execution_count": null,
      "outputs": []
    },
    {
      "cell_type": "code",
      "source": [
        "vocab = Counter()\n",
        "\n",
        "for text in data['norm_text']:\n",
        "    vocab.update(text)\n",
        "    \n",
        "filtered_vocab = set()\n",
        "\n",
        "for word in vocab:\n",
        "    if vocab[word] > 5:\n",
        "        filtered_vocab.add(word)"
      ],
      "metadata": {
        "id": "4qefStq018cV"
      },
      "id": "4qefStq018cV",
      "execution_count": null,
      "outputs": []
    },
    {
      "cell_type": "code",
      "source": [
        "word2id = { 'PAD':0}\n",
        "\n",
        "for word in filtered_vocab:\n",
        "    word2id[word] = len(word2id)\n",
        "id2word = {i:word for word, i in word2id.items()}"
      ],
      "metadata": {
        "id": "2h21tTmg18Xs"
      },
      "id": "2h21tTmg18Xs",
      "execution_count": null,
      "outputs": []
    },
    {
      "cell_type": "code",
      "source": [
        "X = []\n",
        "\n",
        "for tokens in data['norm_text']:\n",
        "    ids = [word2id[token] for token in tokens if token in word2id]\n",
        "    X.append(ids)"
      ],
      "metadata": {
        "id": "6TLUJIh718VN"
      },
      "id": "6TLUJIh718VN",
      "execution_count": null,
      "outputs": []
    },
    {
      "cell_type": "code",
      "source": [
        "X = tf.keras.preprocessing.sequence.pad_sequences(X, maxlen=100)\n",
        "y = data.toxic.values"
      ],
      "metadata": {
        "id": "L9O-_hwe18Sm"
      },
      "id": "L9O-_hwe18Sm",
      "execution_count": null,
      "outputs": []
    },
    {
      "cell_type": "code",
      "source": [
        "X_train, X_valid, y_train, y_valid = train_test_split(X, y, test_size=0.05)"
      ],
      "metadata": {
        "id": "b4JKJSDD18Mi"
      },
      "id": "b4JKJSDD18Mi",
      "execution_count": null,
      "outputs": []
    },
    {
      "cell_type": "markdown",
      "source": [
        "Модели из первого задания "
      ],
      "metadata": {
        "id": "dmhNc_j_ZhcE"
      },
      "id": "dmhNc_j_ZhcE"
    },
    {
      "cell_type": "markdown",
      "source": [
        "Предобработка"
      ],
      "metadata": {
        "id": "Mcpl45zaCFZp"
      },
      "id": "Mcpl45zaCFZp"
    },
    {
      "cell_type": "code",
      "source": [
        "vocab_3 = Counter()\n",
        "for elem in data['comment']:\n",
        "  vocab_3.update(preprocess_data(elem))\n",
        "for text in wiki:\n",
        "  vocab_3.update(preprocess_data(text))"
      ],
      "metadata": {
        "id": "MuO0uooYZXRk"
      },
      "id": "MuO0uooYZXRk",
      "execution_count": null,
      "outputs": []
    },
    {
      "cell_type": "code",
      "source": [
        "filtered_vocab_3 = set()\n",
        "\n",
        "for word in vocab_3:\n",
        "    if vocab_3[word] > 30:\n",
        "        filtered_vocab_3.add(word)"
      ],
      "metadata": {
        "id": "T3lQRFEGZXPb"
      },
      "id": "T3lQRFEGZXPb",
      "execution_count": null,
      "outputs": []
    },
    {
      "cell_type": "code",
      "source": [
        "word2id_3 = { 'PAD':0}\n",
        "for word in filtered_vocab_3:\n",
        "    word2id_3[word] = len(word2id_3)"
      ],
      "metadata": {
        "id": "zBQ9ETenZXNI"
      },
      "id": "zBQ9ETenZXNI",
      "execution_count": null,
      "outputs": []
    },
    {
      "cell_type": "code",
      "source": [
        "id2word_3 = {i:word for word, i in word2id_3.items()}"
      ],
      "metadata": {
        "id": "lDkHcqyXZXJq"
      },
      "id": "lDkHcqyXZXJq",
      "execution_count": null,
      "outputs": []
    },
    {
      "cell_type": "code",
      "source": [
        "sentences_3 = []\n",
        "\n",
        "for elem in data['comment']:\n",
        "    lemmas = preprocess_data(elem)\n",
        "    if not lemmas:\n",
        "        continue\n",
        "    ids = [word2id_3[lemma] for lemma in lemmas if lemma in word2id_3]\n",
        "    sentences_3.append(ids)\n",
        "for text in wiki:\n",
        "    lemmas = preprocess_data(text) \n",
        "    if not lemmas:\n",
        "        continue\n",
        "    ids = [word2id_3[lemma] for lemma in lemmas if lemma in word2id_3]\n",
        "    sentences_3.append(ids)"
      ],
      "metadata": {
        "id": "uGKAMEFyZXHD"
      },
      "id": "uGKAMEFyZXHD",
      "execution_count": null,
      "outputs": []
    },
    {
      "cell_type": "markdown",
      "source": [
        "Skip Gram"
      ],
      "metadata": {
        "id": "CdJNSbzUtVG1"
      },
      "id": "CdJNSbzUtVG1"
    },
    {
      "cell_type": "code",
      "source": [
        "vocab_size_3 = len(id2word_3)"
      ],
      "metadata": {
        "id": "YmdTuw_MZXEg"
      },
      "id": "YmdTuw_MZXEg",
      "execution_count": null,
      "outputs": []
    },
    {
      "cell_type": "code",
      "source": [
        "def gen_batches_sg_3(sentences_3, window = 12, batch_size=1000):\n",
        "    while True:\n",
        "        X_target = []\n",
        "        X_context = []\n",
        "        y = []\n",
        "\n",
        "        for sent in sentences_3:\n",
        "            for i in range(len(sent)-1):\n",
        "                word = sent[i]\n",
        "                context = sent[i-window:i] + sent[i+1:i+window]\n",
        "                for context_word in context:\n",
        "                    X_target.append(word)\n",
        "                    X_context.append(context_word)\n",
        "                    y.append(1)\n",
        "                    \n",
        "                    X_target.append(word)\n",
        "                    X_context.append(np.random.randint(vocab_size_3))\n",
        "                    y.append(0)\n",
        "                    \n",
        "                    if len(X_target) >= batch_size:\n",
        "                        X_target = np.array(X_target)\n",
        "                        X_context = np.array(X_context)\n",
        "                        y = np.array(y)\n",
        "                        yield ((X_target, X_context), y)\n",
        "                        X_target = []\n",
        "                        X_context = []\n",
        "                        y = []"
      ],
      "metadata": {
        "id": "QNe_D2JDZXB3"
      },
      "id": "QNe_D2JDZXB3",
      "execution_count": null,
      "outputs": []
    },
    {
      "cell_type": "code",
      "source": [
        "inputs_target = tf.keras.layers.Input(shape=(1,))\n",
        "inputs_context = tf.keras.layers.Input(shape=(1,))\n",
        "\n",
        "\n",
        "embeddings_target = tf.keras.layers.Embedding(input_dim=len(word2id_3), output_dim=300)(inputs_target, )\n",
        "embeddings_context = tf.keras.layers.Embedding(input_dim=len(word2id_3), output_dim=300)(inputs_context, )\n",
        "\n",
        "target = tf.keras.layers.Flatten()(embeddings_target)\n",
        "context = tf.keras.layers.Flatten()(embeddings_context)\n",
        "\n",
        "dot = tf.keras.layers.Dot(1)([target, context])\n",
        "outputs = tf.keras.layers.Activation(activation='sigmoid')(dot)\n",
        "\n",
        "model = tf.keras.Model(inputs=[inputs_target, inputs_context], \n",
        "                       outputs=outputs)\n",
        "optimizer = tf.keras.optimizers.Adam(learning_rate=0.001)\n",
        "model.compile(optimizer=optimizer,\n",
        "              loss='binary_crossentropy',\n",
        "              metrics=['accuracy'])"
      ],
      "metadata": {
        "id": "DIPwNRr3ZW_T"
      },
      "id": "DIPwNRr3ZW_T",
      "execution_count": null,
      "outputs": []
    },
    {
      "cell_type": "code",
      "source": [
        "model.fit(gen_batches_sg_3(sentences_3[:19000], window=12),\n",
        "          validation_data=gen_batches_sg_3(sentences_3[19000:],  window=12),\n",
        "          batch_size=1000,\n",
        "          steps_per_epoch=10000,\n",
        "          validation_steps=30,\n",
        "         epochs=2)"
      ],
      "metadata": {
        "id": "ZBb5vHcZZW87"
      },
      "id": "ZBb5vHcZZW87",
      "execution_count": null,
      "outputs": []
    },
    {
      "cell_type": "code",
      "source": [
        "embeddings_cb_3 = model.layers[2].get_weights()[0]"
      ],
      "metadata": {
        "id": "D7JMEvTqZW6g"
      },
      "id": "D7JMEvTqZW6g",
      "execution_count": null,
      "outputs": []
    },
    {
      "cell_type": "code",
      "source": [
        "inputs = tf.keras.layers.Input(shape=(100,))\n",
        "\n",
        "# передаем матрицу в эмбединг слой\n",
        "# указываем параметр trainable=False, чтобы вектора не обучались\n",
        "# Пояснение: кажется, что обучение векторов отключать не стоит, так как модель должна взять готовые \n",
        "# эмбединги и подогнать их к нашей задаче. На практитке это однако не работает - эмбединги просто \n",
        "# обучатся заново\n",
        "embeddings = tf.keras.layers.Embedding(input_dim=len(word2id_3), output_dim=300, \n",
        "                                       trainable=False,\n",
        "                                       weights=[embeddings_cb_3])(inputs, )\n",
        "mean = tf.keras.layers.Lambda(lambda x: tf.keras.backend.mean(x,  axis=1))(embeddings)\n",
        "\n",
        "outputs = tf.keras.layers.Dense(1, activation='sigmoid')(mean)\n",
        "\n",
        "model = tf.keras.Model(inputs=inputs, outputs=outputs)\n",
        "optimizer = tf.keras.optimizers.Adam()\n",
        "model.compile(optimizer=optimizer,\n",
        "              loss='binary_crossentropy',\n",
        "              metrics=['accuracy'])"
      ],
      "metadata": {
        "id": "5KsQhQnrZW37"
      },
      "id": "5KsQhQnrZW37",
      "execution_count": null,
      "outputs": []
    },
    {
      "cell_type": "code",
      "source": [
        "model.fit(X_train, y_train, \n",
        "          validation_data=(X_valid, y_valid),\n",
        "          batch_size=32,\n",
        "         epochs=30)"
      ],
      "metadata": {
        "id": "LBp59iPEZW1V"
      },
      "id": "LBp59iPEZW1V",
      "execution_count": null,
      "outputs": []
    },
    {
      "cell_type": "code",
      "source": [
        "print(model.history.history.keys())\n",
        "# summarize history for accuracy\n",
        "plt.plot(model.history.history['accuracy'])\n",
        "plt.plot(model.history.history['val_accuracy'])\n",
        "plt.title('model accuracy')\n",
        "plt.ylabel('accuracy')\n",
        "plt.xlabel('epoch')\n",
        "plt.legend(['train', 'val'], loc='upper left')\n",
        "plt.show()"
      ],
      "metadata": {
        "colab": {
          "base_uri": "https://localhost:8080/",
          "height": 313
        },
        "id": "92H40CdfZWy9",
        "outputId": "09806991-5b41-4715-96a5-fa725b94ca26"
      },
      "id": "92H40CdfZWy9",
      "execution_count": null,
      "outputs": [
        {
          "output_type": "stream",
          "name": "stdout",
          "text": [
            "dict_keys(['loss', 'accuracy', 'val_loss', 'val_accuracy'])\n"
          ]
        },
        {
          "output_type": "display_data",
          "data": {
            "text/plain": [
              "<Figure size 432x288 with 1 Axes>"
            ],
            "image/png": "[encoded data removed]"
          },
          "metadata": {
            "needs_background": "light"
          }
        }
      ]
    },
    {
      "cell_type": "markdown",
      "source": [
        "CBOW"
      ],
      "metadata": {
        "id": "zOnZERKL39Jg"
      },
      "id": "zOnZERKL39Jg"
    },
    {
      "cell_type": "code",
      "source": [
        "def gen_batches_cbow_3(sentences_3, window = 6, batch_size=1000):\n",
        "    while True:\n",
        "        X_target = []\n",
        "        X_context = []\n",
        "        y = []\n",
        "\n",
        "        for sent in sentences_3:\n",
        "            for i in range(len(sent)-1):\n",
        "                word = sent[i]\n",
        "                context = sent[i-window:i] + sent[i+1:i+window]\n",
        "\n",
        "                X_target.append(word)\n",
        "                X_context.append(context)\n",
        "                y.append(1)\n",
        "                \n",
        "                X_target.append(np.random.randint(vocab_size_3))\n",
        "                X_context.append(context)\n",
        "                y.append(0)\n",
        "\n",
        "                if len(X_target) == batch_size:\n",
        "                    X_target = np.array(X_target)\n",
        "                    X_context = tf.keras.preprocessing.sequence.pad_sequences(X_context, maxlen=window*2)\n",
        "                    y = np.array(y)\n",
        "                    yield ((X_target, X_context), y)\n",
        "                    X_target = []\n",
        "                    X_context = []\n",
        "                    y = []"
      ],
      "metadata": {
        "id": "CCv7vlU4386H"
      },
      "id": "CCv7vlU4386H",
      "execution_count": null,
      "outputs": []
    },
    {
      "cell_type": "code",
      "source": [
        "inputs_target = tf.keras.layers.Input(shape=(1,))\n",
        "inputs_context = tf.keras.layers.Input(shape=(10,))\n",
        "\n",
        "\n",
        "embeddings_target = tf.keras.layers.Embedding(input_dim=len(word2id_3), output_dim=500)(inputs_target, )\n",
        "embeddings_context = tf.keras.layers.Embedding(input_dim=len(word2id_3), output_dim=500)(inputs_context, )\n",
        "\n",
        "target = tf.keras.layers.Flatten()(embeddings_target)\n",
        "context = tf.keras.layers.Lambda(lambda x: tf.keras.backend.sum(x, axis=1))(embeddings_context)\n",
        "dot = tf.keras.layers.Dot(1)([target, context])\n",
        "\n",
        "# полученную близость нужно преобразовать в вероятность\n",
        "# когда она одна используется не софтмакс и сигмоида\n",
        "outputs = tf.keras.layers.Activation(activation='sigmoid')(dot)\n",
        "\n",
        "model = tf.keras.Model(inputs=[inputs_target, inputs_context], \n",
        "                       outputs=outputs)\n",
        "\n",
        "\n",
        "optimizer = tf.keras.optimizers.Adam(learning_rate=0.001)\n",
        "model.compile(optimizer=optimizer,\n",
        "              loss='binary_crossentropy',\n",
        "              metrics=['accuracy'])"
      ],
      "metadata": {
        "id": "CGsXFG2s382f"
      },
      "id": "CGsXFG2s382f",
      "execution_count": null,
      "outputs": []
    },
    {
      "cell_type": "code",
      "source": [
        "model.fit(gen_batches_cbow_3(sentences_3[:19000], window=6),\n",
        "          validation_data=gen_batches_cbow_3(sentences_3[19000:],  window=6),\n",
        "          batch_size=1000,\n",
        "          steps_per_epoch=5000,\n",
        "          validation_steps=30,\n",
        "         epochs=2)"
      ],
      "metadata": {
        "id": "WJRE9uR838xg"
      },
      "id": "WJRE9uR838xg",
      "execution_count": null,
      "outputs": []
    },
    {
      "cell_type": "code",
      "source": [
        "embeddings_true_cb_3 = model.layers[2].get_weights()[0]"
      ],
      "metadata": {
        "id": "zKyguzLC38sF"
      },
      "id": "zKyguzLC38sF",
      "execution_count": null,
      "outputs": []
    },
    {
      "cell_type": "code",
      "source": [
        "inputs = tf.keras.layers.Input(shape=(100,))\n",
        "\n",
        "# передаем матрицу в эмбединг слой\n",
        "# указываем параметр trainable=False, чтобы вектора не обучались\n",
        "# Пояснение: кажется, что обучение векторов отключать не стоит, так как модель должна взять готовые \n",
        "# эмбединги и подогнать их к нашей задаче. На практитке это однако не работает - эмбединги просто \n",
        "# обучатся заново\n",
        "embeddings = tf.keras.layers.Embedding(input_dim=len(word2id_3), output_dim=500, \n",
        "                                       trainable=False,\n",
        "                                       weights=[embeddings_true_cb_3])(inputs, )\n",
        "mean = tf.keras.layers.Lambda(lambda x: tf.keras.backend.mean(x,  axis=1))(embeddings)\n",
        "\n",
        "outputs = tf.keras.layers.Dense(1, activation='sigmoid')(mean)\n",
        "\n",
        "model = tf.keras.Model(inputs=inputs, outputs=outputs)\n",
        "optimizer = tf.keras.optimizers.Adam()\n",
        "model.compile(optimizer=optimizer,\n",
        "              loss='binary_crossentropy',\n",
        "              metrics=['accuracy'])"
      ],
      "metadata": {
        "id": "Rd6vLoql38n4"
      },
      "id": "Rd6vLoql38n4",
      "execution_count": null,
      "outputs": []
    },
    {
      "cell_type": "code",
      "source": [
        "model.fit(X_train, y_train, \n",
        "          validation_data=(X_valid, y_valid),\n",
        "          batch_size=32,\n",
        "         epochs=30)"
      ],
      "metadata": {
        "id": "iYP90qERZWwI"
      },
      "id": "iYP90qERZWwI",
      "execution_count": null,
      "outputs": []
    },
    {
      "cell_type": "code",
      "source": [
        "print(model.history.history.keys())\n",
        "# summarize history for accuracy\n",
        "plt.plot(model.history.history['accuracy'])\n",
        "plt.plot(model.history.history['val_accuracy'])\n",
        "plt.title('model accuracy')\n",
        "plt.ylabel('accuracy')\n",
        "plt.xlabel('epoch')\n",
        "plt.legend(['train', 'val'], loc='upper left')\n",
        "plt.show()"
      ],
      "metadata": {
        "colab": {
          "base_uri": "https://localhost:8080/",
          "height": 313
        },
        "id": "s8MQw2DbZWsp",
        "outputId": "a40b7ea6-110a-42c6-a21a-caeeda32a26d"
      },
      "id": "s8MQw2DbZWsp",
      "execution_count": null,
      "outputs": [
        {
          "output_type": "stream",
          "name": "stdout",
          "text": [
            "dict_keys(['loss', 'accuracy', 'val_loss', 'val_accuracy'])\n"
          ]
        },
        {
          "output_type": "display_data",
          "data": {
            "text/plain": [
              "<Figure size 432x288 with 1 Axes>"
            ],
            "image/png": "[encoded data removed]"
          },
          "metadata": {
            "needs_background": "light"
          }
        }
      ]
    },
    {
      "cell_type": "markdown",
      "source": [
        "Fastext Gensim (текстовые данные и данные для классификации не лемматизированы, а только токенизированы, согласно второму заданию)"
      ],
      "metadata": {
        "id": "2LHU19YGRlah"
      },
      "id": "2LHU19YGRlah"
    },
    {
      "cell_type": "code",
      "source": [
        "ft_3 = gensim.models.FastText(texts + data['norm_text'].values.tolist(), size=500, min_count=10, max_vocab_size=9000, window=9, iter=6, hs=1, sg = 0, sample = 1e-5, min_n=2, max_n=5)"
      ],
      "metadata": {
        "id": "EMYevNFVYZbc"
      },
      "id": "EMYevNFVYZbc",
      "execution_count": null,
      "outputs": []
    },
    {
      "cell_type": "code",
      "source": [
        "weights = np.zeros((len(word2id), 500))\n",
        "\n",
        "for word, i in word2id.items():\n",
        "    # вектор паддинга оставим нулевым\n",
        "    if word == 'PAD':\n",
        "        continue\n",
        "\n",
        "    try:\n",
        "        weights[i] = ft_3.wv[word]\n",
        "    \n",
        "    \n",
        "    except KeyError:\n",
        "        # для слов, которых нет в модели тоже возьмем какой-то  рандомный вектор\n",
        "        continue\n",
        "        weights[i] = ft_3.wv['опрагпллирао']"
      ],
      "metadata": {
        "id": "TDPVIgJbYZY-"
      },
      "id": "TDPVIgJbYZY-",
      "execution_count": null,
      "outputs": []
    },
    {
      "cell_type": "code",
      "source": [
        "inputs = tf.keras.layers.Input(shape=(100,))\n",
        "\n",
        "# передаем матрицу в эмбединг слой\n",
        "# указываем параметр trainable=False, чтобы вектора не обучались\n",
        "# Пояснение: кажется, что обучение векторов отключать не стоит, так как модель должна взять готовые \n",
        "# эмбединги и подогнать их к нашей задаче. На практитке это однако не работает - эмбединги просто \n",
        "# обучатся заново\n",
        "embeddings = tf.keras.layers.Embedding(input_dim=len(word2id), output_dim=500, \n",
        "                                       trainable=False,\n",
        "                                       weights=[weights])(inputs, )\n",
        "mean = tf.keras.layers.Lambda(lambda x: tf.keras.backend.mean(x,  axis=1))(embeddings)\n",
        "\n",
        "outputs = tf.keras.layers.Dense(1, activation='sigmoid')(mean)\n",
        "\n",
        "model = tf.keras.Model(inputs=inputs, outputs=outputs)\n",
        "optimizer = tf.keras.optimizers.Adam()\n",
        "model.compile(optimizer=optimizer,\n",
        "              loss='binary_crossentropy',\n",
        "              metrics=['accuracy'])"
      ],
      "metadata": {
        "id": "askEPalLYZWZ"
      },
      "id": "askEPalLYZWZ",
      "execution_count": null,
      "outputs": []
    },
    {
      "cell_type": "code",
      "source": [
        "model.fit(X_train, y_train, \n",
        "          validation_data=(X_valid, y_valid),\n",
        "          batch_size=32,\n",
        "         epochs=30)"
      ],
      "metadata": {
        "id": "akIFtSwuYZP4"
      },
      "id": "akIFtSwuYZP4",
      "execution_count": null,
      "outputs": []
    },
    {
      "cell_type": "code",
      "execution_count": null,
      "metadata": {
        "id": "ed908832",
        "colab": {
          "base_uri": "https://localhost:8080/",
          "height": 313
        },
        "outputId": "ca905f3c-d7b1-47af-eb52-184f7d86220b"
      },
      "outputs": [
        {
          "output_type": "stream",
          "name": "stdout",
          "text": [
            "dict_keys(['loss', 'accuracy', 'val_loss', 'val_accuracy'])\n"
          ]
        },
        {
          "output_type": "display_data",
          "data": {
            "text/plain": [
              "<Figure size 432x288 with 1 Axes>"
            ],
            "image/png": "[encoded data removed]"
          },
          "metadata": {
            "needs_background": "light"
          }
        }
      ],
      "source": [
        "print(model.history.history.keys())\n",
        "# summarize history for accuracy\n",
        "plt.plot(model.history.history['accuracy'])\n",
        "plt.plot(model.history.history['val_accuracy'])\n",
        "plt.title('model accuracy')\n",
        "plt.ylabel('accuracy')\n",
        "plt.xlabel('epoch')\n",
        "plt.legend(['train', 'val'], loc='upper left')\n",
        "plt.show()"
      ],
      "id": "ed908832"
    },
    {
      "cell_type": "markdown",
      "source": [
        "Word2Vec Gensim"
      ],
      "metadata": {
        "id": "0ylXEVBTWjBx"
      },
      "id": "0ylXEVBTWjBx"
    },
    {
      "cell_type": "code",
      "source": [
        "w2v_3 = gensim.models.Word2Vec(texts + data['norm_text'].values.tolist(), size=500, min_count=10, max_vocab_size=9000, window=9, iter=6, hs=1, sg = 0, sample = 1e-5)"
      ],
      "metadata": {
        "id": "pVVugQbjWp-F"
      },
      "id": "pVVugQbjWp-F",
      "execution_count": null,
      "outputs": []
    },
    {
      "cell_type": "code",
      "source": [
        "weights = np.zeros((len(word2id), 500))\n",
        "\n",
        "for word, i in word2id.items():\n",
        "    # вектор паддинга оставим нулевым\n",
        "    if word == 'PAD':\n",
        "        continue\n",
        "\n",
        "    try:\n",
        "        weights[i] = w2v_3.wv[word]\n",
        "    \n",
        "    \n",
        "    except KeyError:\n",
        "        # для слов, которых нет в модели тоже возьмем какой-то  рандомный вектор\n",
        "        continue\n",
        "        weights[i] = w2v_3.wv['опрагпллирао']"
      ],
      "metadata": {
        "id": "r2saMuVeWp7w"
      },
      "id": "r2saMuVeWp7w",
      "execution_count": null,
      "outputs": []
    },
    {
      "cell_type": "code",
      "source": [
        "inputs = tf.keras.layers.Input(shape=(100,))\n",
        "\n",
        "# передаем матрицу в эмбединг слой\n",
        "# указываем параметр trainable=False, чтобы вектора не обучались\n",
        "# Пояснение: кажется, что обучение векторов отключать не стоит, так как модель должна взять готовые \n",
        "# эмбединги и подогнать их к нашей задаче. На практитке это однако не работает - эмбединги просто \n",
        "# обучатся заново\n",
        "embeddings = tf.keras.layers.Embedding(input_dim=len(word2id), output_dim=500, \n",
        "                                       trainable=False,\n",
        "                                       weights=[weights])(inputs, )\n",
        "mean = tf.keras.layers.Lambda(lambda x: tf.keras.backend.mean(x,  axis=1))(embeddings)\n",
        "\n",
        "outputs = tf.keras.layers.Dense(1, activation='sigmoid')(mean)\n",
        "\n",
        "model = tf.keras.Model(inputs=inputs, outputs=outputs)\n",
        "optimizer = tf.keras.optimizers.Adam()\n",
        "model.compile(optimizer=optimizer,\n",
        "              loss='binary_crossentropy',\n",
        "              metrics=['accuracy'])"
      ],
      "metadata": {
        "id": "uxp6j6vgWp5H"
      },
      "id": "uxp6j6vgWp5H",
      "execution_count": null,
      "outputs": []
    },
    {
      "cell_type": "code",
      "source": [
        "model.fit(X_train, y_train, \n",
        "          validation_data=(X_valid, y_valid),\n",
        "          batch_size=32,\n",
        "         epochs=30)"
      ],
      "metadata": {
        "id": "isw3bj3VWp2T"
      },
      "id": "isw3bj3VWp2T",
      "execution_count": null,
      "outputs": []
    },
    {
      "cell_type": "code",
      "source": [
        "print(model.history.history.keys())\n",
        "# summarize history for accuracy\n",
        "plt.plot(model.history.history['accuracy'])\n",
        "plt.plot(model.history.history['val_accuracy'])\n",
        "plt.title('model accuracy')\n",
        "plt.ylabel('accuracy')\n",
        "plt.xlabel('epoch')\n",
        "plt.legend(['train', 'val'], loc='upper left')\n",
        "plt.show()"
      ],
      "metadata": {
        "colab": {
          "base_uri": "https://localhost:8080/",
          "height": 313
        },
        "id": "rq_TjciSWpxe",
        "outputId": "701a664c-1ab0-4aa2-927d-1a910764b5dd"
      },
      "id": "rq_TjciSWpxe",
      "execution_count": null,
      "outputs": [
        {
          "output_type": "stream",
          "name": "stdout",
          "text": [
            "dict_keys(['loss', 'accuracy', 'val_loss', 'val_accuracy'])\n"
          ]
        },
        {
          "output_type": "display_data",
          "data": {
            "text/plain": [
              "<Figure size 432x288 with 1 Axes>"
            ],
            "image/png": "[encoded data removed]"
          },
          "metadata": {
            "needs_background": "light"
          }
        }
      ]
    },
    {
      "cell_type": "markdown",
      "source": [
        "Не уверена, что правильно интерпретирую получившиеся результаты, но мне кажется, что из представленных наборов эмбеддингов лучше всего себя показал Gensim Fastext "
      ],
      "metadata": {
        "id": "SvJCYWXuC8E2"
      },
      "id": "SvJCYWXuC8E2"
    },
    {
      "cell_type": "markdown",
      "source": [
        "Предобученная модель"
      ],
      "metadata": {
        "id": "8E0I-9Dz1t4c"
      },
      "id": "8E0I-9Dz1t4c"
    },
    {
      "cell_type": "code",
      "source": [
        "from google.colab import drive\n",
        "drive.mount('/content/drive')"
      ],
      "metadata": {
        "id": "QsboSINr1x5v"
      },
      "id": "QsboSINr1x5v",
      "execution_count": null,
      "outputs": []
    },
    {
      "cell_type": "code",
      "source": [
        "model_dwnl = gensim.models.KeyedVectors.load_word2vec_format('/content/drive/MyDrive/ruscorpora_upos_skipgram_300_5_2018.vec', binary=False)"
      ],
      "metadata": {
        "id": "fbdCHyMPROOg"
      },
      "id": "fbdCHyMPROOg",
      "execution_count": null,
      "outputs": []
    },
    {
      "cell_type": "code",
      "source": [
        "mapping = {}\n",
        "\n",
        "for line in open('ru-rnc.map.txt'):\n",
        "    ms, ud = line.strip('\\n').split()\n",
        "    mapping[ms] = ud"
      ],
      "metadata": {
        "id": "E2VFEFmS6ZDy"
      },
      "id": "E2VFEFmS6ZDy",
      "execution_count": null,
      "outputs": []
    },
    {
      "cell_type": "code",
      "source": [
        "def normalize_mystem(text):\n",
        "    tokens = []\n",
        "    norm_words = m.analyze(text)\n",
        "    for norm_word in norm_words:\n",
        "        if 'analysis' not in norm_word:\n",
        "            continue\n",
        "            \n",
        "        if not len(norm_word['analysis']):\n",
        "            lemma = norm_word['text']\n",
        "            pos = 'UNKN'\n",
        "        else:\n",
        "            lemma = norm_word[\"analysis\"][0][\"lex\"].lower().strip()\n",
        "            pos = norm_word[\"analysis\"][0][\"gr\"].split(',')[0]\n",
        "            pos = pos.split('=')[0].strip()\n",
        "        pos = mapping[pos]\n",
        "        tokens.append(lemma+'_'+pos)\n",
        "\n",
        "    return tokens"
      ],
      "metadata": {
        "id": "93GLyKBp6SwV"
      },
      "id": "93GLyKBp6SwV",
      "execution_count": null,
      "outputs": []
    },
    {
      "cell_type": "code",
      "source": [
        "texts_ud = [normalize_mystem(text) for text in wiki]"
      ],
      "metadata": {
        "id": "4OfTCBCx6U5k"
      },
      "id": "4OfTCBCx6U5k",
      "execution_count": null,
      "outputs": []
    },
    {
      "cell_type": "code",
      "source": [
        "data['text_ud'] = data.comment.apply(normalize_mystem)"
      ],
      "metadata": {
        "id": "P4RqPcxH-A8H"
      },
      "id": "P4RqPcxH-A8H",
      "execution_count": null,
      "outputs": []
    },
    {
      "cell_type": "code",
      "source": [
        "vocab_3_ud = Counter()\n",
        "for elem in data['comment']:\n",
        "  vocab_3_ud.update(normalize_mystem(elem))\n",
        "for text in wiki:\n",
        "  vocab_3_ud.update(normalize_mystem(text))"
      ],
      "metadata": {
        "id": "g_-Jw1qHLDwn"
      },
      "id": "g_-Jw1qHLDwn",
      "execution_count": null,
      "outputs": []
    },
    {
      "cell_type": "code",
      "source": [
        "filtered_vocab_3_ud = set()\n",
        "\n",
        "for word in vocab_3_ud:\n",
        "    if vocab_3_ud[word] > 30:\n",
        "        filtered_vocab_3_ud.add(word)"
      ],
      "metadata": {
        "id": "zSy0ZTXSMoGP"
      },
      "id": "zSy0ZTXSMoGP",
      "execution_count": null,
      "outputs": []
    },
    {
      "cell_type": "code",
      "source": [
        "word2id_3_ud = { 'PAD':0}\n",
        "for word in filtered_vocab_3_ud:\n",
        "    word2id_3_ud[word] = len(word2id_3_ud)"
      ],
      "metadata": {
        "id": "K0GT1VPcMyoA"
      },
      "id": "K0GT1VPcMyoA",
      "execution_count": null,
      "outputs": []
    },
    {
      "cell_type": "code",
      "source": [
        "weights = np.zeros((len(word2id_3_ud), 300))\n",
        "\n",
        "for word, i in word2id_3_ud.items():\n",
        "    # вектор паддинга оставим нулевым\n",
        "    if word == 'PAD':\n",
        "        continue\n",
        "\n",
        "    try:\n",
        "        weights[i] = model_dwnl.wv[word]\n",
        "    \n",
        "    \n",
        "    except KeyError:\n",
        "        # для слов, которых нет в модели тоже возьмем какой-то  рандомный вектор\n",
        "        continue\n",
        "        weights[i] = model_dwnl.wv['опрагпллирао']"
      ],
      "metadata": {
        "id": "ocBENsjnFQo2"
      },
      "id": "ocBENsjnFQo2",
      "execution_count": null,
      "outputs": []
    },
    {
      "cell_type": "code",
      "source": [
        "inputs = tf.keras.layers.Input(shape=(100,))\n",
        "\n",
        "# передаем матрицу в эмбединг слой\n",
        "# указываем параметр trainable=False, чтобы вектора не обучались\n",
        "# Пояснение: кажется, что обучение векторов отключать не стоит, так как модель должна взять готовые \n",
        "# эмбединги и подогнать их к нашей задаче. На практитке это однако не работает - эмбединги просто \n",
        "# обучатся заново\n",
        "embeddings = tf.keras.layers.Embedding(input_dim=len(word2id_3_ud), output_dim=300, \n",
        "                                       trainable=False,\n",
        "                                       weights=[weights])(inputs, )\n",
        "mean = tf.keras.layers.Lambda(lambda x: tf.keras.backend.mean(x,  axis=1))(embeddings)\n",
        "\n",
        "outputs = tf.keras.layers.Dense(1, activation='sigmoid')(mean)\n",
        "\n",
        "model = tf.keras.Model(inputs=inputs, outputs=outputs)\n",
        "optimizer = tf.keras.optimizers.Adam()\n",
        "model.compile(optimizer=optimizer,\n",
        "              loss='binary_crossentropy',\n",
        "              metrics=['accuracy'])"
      ],
      "metadata": {
        "id": "JY1jsQaQOCB4"
      },
      "id": "JY1jsQaQOCB4",
      "execution_count": null,
      "outputs": []
    },
    {
      "cell_type": "code",
      "source": [
        "model.fit(X_train, y_train, \n",
        "          validation_data=(X_valid, y_valid),\n",
        "          batch_size=32,\n",
        "         epochs=30)"
      ],
      "metadata": {
        "id": "UWF6LYWKOJpV"
      },
      "id": "UWF6LYWKOJpV",
      "execution_count": null,
      "outputs": []
    },
    {
      "cell_type": "code",
      "source": [
        "print(model.history.history.keys())\n",
        "# summarize history for accuracy\n",
        "plt.plot(model.history.history['accuracy'])\n",
        "plt.plot(model.history.history['val_accuracy'])\n",
        "plt.title('model accuracy')\n",
        "plt.ylabel('accuracy')\n",
        "plt.xlabel('epoch')\n",
        "plt.legend(['train', 'val'], loc='upper left')\n",
        "plt.show()"
      ],
      "metadata": {
        "colab": {
          "base_uri": "https://localhost:8080/",
          "height": 313
        },
        "id": "9TS35LtZO55t",
        "outputId": "4949bb51-87ec-4d96-8b8b-33c7340af070"
      },
      "id": "9TS35LtZO55t",
      "execution_count": null,
      "outputs": [
        {
          "output_type": "stream",
          "name": "stdout",
          "text": [
            "dict_keys(['loss', 'accuracy', 'val_loss', 'val_accuracy'])\n"
          ]
        },
        {
          "output_type": "display_data",
          "data": {
            "text/plain": [
              "<Figure size 432x288 with 1 Axes>"
            ],
            "image/png": "[encoded data removed]"
          },
          "metadata": {
            "needs_background": "light"
          }
        }
      ]
    }
  ],
  "metadata": {
    "colab": {
      "provenance": [],
      "include_colab_link": true
    },
    "kernelspec": {
      "display_name": "Python 3 (ipykernel)",
      "language": "python",
      "name": "python3"
    },
    "language_info": {
      "codemirror_mode": {
        "name": "ipython",
        "version": 3
      },
      "file_extension": ".py",
      "mimetype": "text/x-python",
      "name": "python",
      "nbconvert_exporter": "python",
      "pygments_lexer": "ipython3",
      "version": "3.9.13"
    }
  },
  "nbformat": 4,
  "nbformat_minor": 5
}