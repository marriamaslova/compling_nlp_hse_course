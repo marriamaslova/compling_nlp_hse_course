{
  "cells": [
    {
      "cell_type": "markdown",
      "metadata": {
        "id": "view-in-github",
        "colab_type": "text"
      },
      "source": [
        "<a href=\"https://colab.research.google.com/github/marriamaslova/compling_nlp_hse_course/blob/master/notebooks/topic_modelling/homework.ipynb\" target=\"_parent\"><img src=\"https://colab.research.google.com/assets/colab-badge.svg\" alt=\"Open In Colab\"/></a>"
      ]
    },
    {
      "cell_type": "markdown",
      "id": "092e5c0d",
      "metadata": {
        "id": "092e5c0d"
      },
      "source": [
        "# Домашнее задание  № 5. Матричные разложения/Тематическое моделирование"
      ]
    },
    {
      "cell_type": "markdown",
      "id": "f18446b7",
      "metadata": {
        "id": "f18446b7"
      },
      "source": [
        "### Задание № 1 (4 балла)"
      ]
    },
    {
      "cell_type": "markdown",
      "id": "cf81eecc",
      "metadata": {
        "id": "cf81eecc"
      },
      "source": [
        "Попробуйте матричные разложения с 4 классификаторами - SGDClassifier, KNeighborsClassifier,  RandomForest, ExtraTreesClassifier (про него подробнее почитайте в документации, он похож на RF). Используйте и NMF и SVD. Сравните результаты на кросс-валидации и выберите лучшее сочетание.\n",
        "\n",
        "В итоге у вас должно получиться, как минимум 8 моделей (два разложения на каждый классификатор). Используйте 1 и те же параметры кросс-валидации. Параметры векторизации, параметры K в матричных разложениях, параметры классификаторов могут быть разными между экспериментами."
      ]
    },
    {
      "cell_type": "markdown",
      "id": "f1760960",
      "metadata": {
        "id": "f1760960"
      },
      "source": [
        "Можете взять поменьше данных, если все будет обучаться слишком долго (не ставьте параметр K слишком большим в NMF, иначе точно будет слишком долго)"
      ]
    },
    {
      "cell_type": "code",
      "execution_count": null,
      "id": "9b84d8bd",
      "metadata": {
        "id": "9b84d8bd"
      },
      "outputs": [],
      "source": [
        "!pip install gensim pymorphy2 seaborn pyLDAvis razdel"
      ]
    },
    {
      "cell_type": "code",
      "execution_count": null,
      "id": "283d4eb5",
      "metadata": {
        "id": "283d4eb5"
      },
      "outputs": [],
      "source": [
        "import warnings\n",
        "warnings.filterwarnings(\"ignore\")"
      ]
    },
    {
      "cell_type": "code",
      "source": [
        "import gensim\n",
        "import pandas as pd\n",
        "import numpy as np\n",
        "from pymorphy2 import MorphAnalyzer\n",
        "import pyLDAvis.gensim_models\n",
        "from collections import Counter\n",
        "from string import punctuation\n",
        "from razdel import tokenize as razdel_tokenize\n",
        "from IPython.display import Image\n",
        "from IPython.core.display import HTML \n",
        "from sklearn.decomposition import TruncatedSVD, NMF, PCA, LatentDirichletAllocation\n",
        "from sklearn.manifold import TSNE\n",
        "from sklearn.feature_extraction.text import TfidfVectorizer, CountVectorizer, TfidfTransformer\n",
        "from sklearn.metrics.pairwise import cosine_distances\n",
        "from sklearn.ensemble import RandomForestClassifier\n",
        "from sklearn.metrics import accuracy_score, precision_score, recall_score, f1_score, confusion_matrix\n",
        "from sklearn.pipeline import Pipeline\n",
        "from sklearn.model_selection import KFold, StratifiedKFold\n",
        "from matplotlib import pyplot as plt\n",
        "import seaborn as sns\n",
        "morph = MorphAnalyzer()\n",
        "from sklearn.linear_model import SGDClassifier\n",
        "from sklearn.neighbors import KNeighborsClassifier\n",
        "from sklearn.ensemble import ExtraTreesClassifier"
      ],
      "metadata": {
        "id": "h0H530OxqVyO"
      },
      "id": "h0H530OxqVyO",
      "execution_count": null,
      "outputs": []
    },
    {
      "cell_type": "code",
      "source": [
        "def normalize(text):\n",
        "    normalized_text = [word.text.strip(punctuation) for word \\\n",
        "                                                            in razdel_tokenize(text)]\n",
        "    normalized_text = [word.lower() for word in normalized_text if word and len(word) < 20 ]\n",
        "    normalized_text = [morph.parse(word)[0].normal_form for word in normalized_text]\n",
        "    return ' '.join(normalized_text)"
      ],
      "metadata": {
        "id": "rtVEZFb0qW4O"
      },
      "id": "rtVEZFb0qW4O",
      "execution_count": null,
      "outputs": []
    },
    {
      "cell_type": "code",
      "source": [
        "def eval_table(X, y, pipeline, N=6):\n",
        "    # зафиксируем порядок классов\n",
        "    labels = list(set(y))\n",
        "    \n",
        "    # метрики отдельных фолдов будет хранить в табличке\n",
        "    fold_metrics = pd.DataFrame(index=labels)\n",
        "    # дополнительно также соберем таблицу ошибок\n",
        "    errors = np.zeros((len(labels), len(labels)))\n",
        "    \n",
        "    # создаем стратегию кросс-валидации\n",
        "    # shuffle=True (перемешивание) - часто критично важно указать\n",
        "    # т.к. данные могут быть упорядочены и модель на этом обучится\n",
        "    kfold = StratifiedKFold(n_splits=N, shuffle=True, )\n",
        "    \n",
        "    for i, (train_index, test_index) in enumerate(kfold.split(X, y)):\n",
        "        # fit-predict как и раньше, но сразу пайплайном\n",
        "        pipeline.fit(X[train_index], y[train_index])\n",
        "        preds = pipeline.predict(X[test_index])\n",
        "        \n",
        "        # записываем метрику и индекс фолда\n",
        "        fold_metrics[f'precision_{i}'] = precision_score(y[test_index], preds, labels=labels, average=None)\n",
        "        fold_metrics[f'recall_{i}'] = recall_score(y[test_index], preds, labels=labels, average=None)\n",
        "        fold_metrics[f'f1_{i}'] = f1_score(y[test_index], preds, labels=labels, average=None)\n",
        "        errors += confusion_matrix(y[test_index], preds, labels=labels, normalize='true')\n",
        "    \n",
        "    # таблица для усредненных значений\n",
        "    # тут мы берем колонки со значениями и усредняем их\n",
        "    # часто также все метрики сразу суммируют и в конце просто делят на количество фолдов\n",
        "    # но мы тут помимо среднего также хотим посмотреть на стандартное отклонение\n",
        "    # чтобы понять как сильно варьируются оценки моделей\n",
        "    result = pd.DataFrame(index=labels)\n",
        "    result['precision'] = fold_metrics[[f'precision_{i}' for i in range(N)]].mean(axis=1).round(2)\n",
        "    result['precision_std'] = fold_metrics[[f'precision_{i}' for i in range(N)]].std(axis=1).round(2)\n",
        "    \n",
        "    result['recall'] = fold_metrics[[f'recall_{i}' for i in range(N)]].mean(axis=1).round(2)\n",
        "    result['recall_std'] = fold_metrics[[f'recall_{i}' for i in range(N)]].std(axis=1).round(2)\n",
        "    \n",
        "    result['f1'] = fold_metrics[[f'f1_{i}' for i in range(N)]].mean(axis=1).round(2)\n",
        "    result['f1_std'] = fold_metrics[[f'f1_{i}' for i in range(N)]].std(axis=1).round(2)\n",
        "    \n",
        "    # добавим одну колонку со средним по всем классам\n",
        "    result.loc['mean'] = result.mean().round(2)\n",
        "    # проценты ошибок просто усредняем\n",
        "    errors /= N\n",
        "    \n",
        "    return result, errors"
      ],
      "metadata": {
        "id": "T6pXUBSGvUeb"
      },
      "id": "T6pXUBSGvUeb",
      "execution_count": null,
      "outputs": []
    },
    {
      "cell_type": "code",
      "source": [
        "data = pd.read_csv('avito_category_classification.csv')\n",
        "data['description_norm'] = data['description'].apply(normalize)"
      ],
      "metadata": {
        "id": "67KLaJDwqW17"
      },
      "id": "67KLaJDwqW17",
      "execution_count": null,
      "outputs": []
    },
    {
      "cell_type": "markdown",
      "source": [
        "RandomForest"
      ],
      "metadata": {
        "id": "gv-66UO-abQv"
      },
      "id": "gv-66UO-abQv"
    },
    {
      "cell_type": "code",
      "source": [
        "pipeline_svd_rf = Pipeline([\n",
        "    ('bow', CountVectorizer(tokenizer=lambda x: x.split(), ngram_range=(1,2), min_df=5, max_df=0.4)),\n",
        "    ('svd', TruncatedSVD(500)),\n",
        "    ('clf', RandomForestClassifier(n_estimators=100, max_depth=10))\n",
        "])"
      ],
      "metadata": {
        "id": "vHr8yfZyqWzl"
      },
      "id": "vHr8yfZyqWzl",
      "execution_count": null,
      "outputs": []
    },
    {
      "cell_type": "code",
      "source": [
        "metrics_svd_rf, errors_svd_rf = eval_table(data['description_norm'], data['category_name'], pipeline_svd_rf)"
      ],
      "metadata": {
        "id": "snHr8TMXqWxL"
      },
      "id": "snHr8TMXqWxL",
      "execution_count": null,
      "outputs": []
    },
    {
      "cell_type": "code",
      "source": [
        "pipeline_nmf_rf = Pipeline([\n",
        "    ('bow', CountVectorizer(tokenizer=lambda x: x.split(), min_df=3, max_df=0.3)),\n",
        "    ('tfidf', TfidfTransformer()),\n",
        "    ('decomposition', NMF(100)),\n",
        "    ('clf', RandomForestClassifier(n_estimators=200, max_depth=6))\n",
        "])"
      ],
      "metadata": {
        "id": "UU28ZuJfqWuu"
      },
      "id": "UU28ZuJfqWuu",
      "execution_count": null,
      "outputs": []
    },
    {
      "cell_type": "code",
      "source": [
        "metrics_nmf_rf, errors_nmf_rf = eval_table(data['description_norm'], data['category_name'], pipeline_nmf_rf)"
      ],
      "metadata": {
        "id": "b74RpI1JqWsb"
      },
      "id": "b74RpI1JqWsb",
      "execution_count": null,
      "outputs": []
    },
    {
      "cell_type": "markdown",
      "source": [
        "SGD"
      ],
      "metadata": {
        "id": "JFpyXXtnaf2s"
      },
      "id": "JFpyXXtnaf2s"
    },
    {
      "cell_type": "code",
      "source": [
        "pipeline_svd_sgd = Pipeline([\n",
        "    ('bow', CountVectorizer(tokenizer=lambda x: x.split(), ngram_range=(1,2), min_df=5, max_df=0.4)),\n",
        "    ('svd', TruncatedSVD(500)),\n",
        "    ('clf', SGDClassifier(max_iter=900, tol=1e-3))\n",
        "])"
      ],
      "metadata": {
        "id": "0bO1C-pVqWp3"
      },
      "id": "0bO1C-pVqWp3",
      "execution_count": null,
      "outputs": []
    },
    {
      "cell_type": "code",
      "source": [
        "metrics_svd_sgd, errors_svd_sgd = eval_table(data['description_norm'], data['category_name'], pipeline_svd_sgd)"
      ],
      "metadata": {
        "id": "Z_cNbWOjqWm2"
      },
      "id": "Z_cNbWOjqWm2",
      "execution_count": null,
      "outputs": []
    },
    {
      "cell_type": "code",
      "source": [
        "pipeline_nmf_sgd = Pipeline([\n",
        "    ('bow', CountVectorizer(tokenizer=lambda x: x.split(), min_df=3, max_df=0.3)),\n",
        "    ('tfidf', TfidfTransformer()),\n",
        "    ('decomposition', NMF(90)),\n",
        "    ('clf', SGDClassifier(max_iter=900, tol=1e-3))\n",
        "])"
      ],
      "metadata": {
        "id": "vkKDJb2mqWjZ"
      },
      "id": "vkKDJb2mqWjZ",
      "execution_count": null,
      "outputs": []
    },
    {
      "cell_type": "code",
      "source": [
        "metrics_nmf_sgd, errors_nmf_sgd = eval_table(data['description_norm'], data['category_name'], pipeline_nmf_sgd)"
      ],
      "metadata": {
        "id": "L-mALRBfqWeA"
      },
      "id": "L-mALRBfqWeA",
      "execution_count": null,
      "outputs": []
    },
    {
      "cell_type": "markdown",
      "source": [
        "KNeighbors"
      ],
      "metadata": {
        "id": "SX54Fx2ValfB"
      },
      "id": "SX54Fx2ValfB"
    },
    {
      "cell_type": "code",
      "source": [
        "pipeline_svd_kn = Pipeline([\n",
        "    ('bow', CountVectorizer(tokenizer=lambda x: x.split(), ngram_range=(1,2), min_df=5, max_df=0.4)),\n",
        "    ('svd', TruncatedSVD(500)),\n",
        "    ('clf', KNeighborsClassifier(n_neighbors=7))\n",
        "])"
      ],
      "metadata": {
        "id": "xhFxrhJDqWWr"
      },
      "id": "xhFxrhJDqWWr",
      "execution_count": null,
      "outputs": []
    },
    {
      "cell_type": "code",
      "source": [
        "metrics_svd_kn, errors_svd_kn = eval_table(data['description_norm'], data['category_name'], pipeline_svd_kn)"
      ],
      "metadata": {
        "id": "zEoRZbOEqWPJ"
      },
      "id": "zEoRZbOEqWPJ",
      "execution_count": null,
      "outputs": []
    },
    {
      "cell_type": "code",
      "source": [
        "pipeline_nmf_kn = Pipeline([\n",
        "    ('bow', CountVectorizer(tokenizer=lambda x: x.split(), min_df=3, max_df=0.3)),\n",
        "    ('tfidf', TfidfTransformer()),\n",
        "    ('decomposition', NMF(90)),\n",
        "    ('clf', KNeighborsClassifier(n_neighbors=7))\n",
        "])"
      ],
      "metadata": {
        "id": "KauCXvhZqV_c"
      },
      "id": "KauCXvhZqV_c",
      "execution_count": null,
      "outputs": []
    },
    {
      "cell_type": "code",
      "source": [
        "metrics_nmf_kn, errors_nmf_kn = eval_table(data['description_norm'], data['category_name'], pipeline_nmf_kn)"
      ],
      "metadata": {
        "id": "Q6_QcyO2iQn8"
      },
      "id": "Q6_QcyO2iQn8",
      "execution_count": null,
      "outputs": []
    },
    {
      "cell_type": "markdown",
      "source": [
        "ExtraTrees"
      ],
      "metadata": {
        "id": "xLR8sRPLi9J-"
      },
      "id": "xLR8sRPLi9J-"
    },
    {
      "cell_type": "code",
      "source": [
        "pipeline_svd_et = Pipeline([\n",
        "    ('bow', CountVectorizer(tokenizer=lambda x: x.split(), ngram_range=(1,2), min_df=5, max_df=0.4)),\n",
        "    ('svd', TruncatedSVD(500)),\n",
        "    ('clf', ExtraTreesClassifier(n_estimators=100, random_state=0))\n",
        "])"
      ],
      "metadata": {
        "id": "IAwKplM1iQlG"
      },
      "id": "IAwKplM1iQlG",
      "execution_count": null,
      "outputs": []
    },
    {
      "cell_type": "code",
      "source": [
        "metrics_svd_et, errors_svd_et = eval_table(data['description_norm'], data['category_name'], pipeline_svd_et)"
      ],
      "metadata": {
        "id": "Rik5qjeZiQid"
      },
      "id": "Rik5qjeZiQid",
      "execution_count": null,
      "outputs": []
    },
    {
      "cell_type": "code",
      "source": [
        "pipeline_nmf_et = Pipeline([\n",
        "    ('bow', CountVectorizer(tokenizer=lambda x: x.split(), min_df=3, max_df=0.3)),\n",
        "    ('tfidf', TfidfTransformer()),\n",
        "    ('decomposition', NMF(90)),\n",
        "    ('clf', ExtraTreesClassifier(n_estimators=100, random_state=0))\n",
        "])"
      ],
      "metadata": {
        "id": "1pLgKbTTiQfo"
      },
      "id": "1pLgKbTTiQfo",
      "execution_count": null,
      "outputs": []
    },
    {
      "cell_type": "code",
      "source": [
        "metrics_nmf_et, errors_nmf_et = eval_table(data['description_norm'], data['category_name'], pipeline_nmf_et)"
      ],
      "metadata": {
        "id": "bTSzOO4fiQaB"
      },
      "id": "bTSzOO4fiQaB",
      "execution_count": null,
      "outputs": []
    },
    {
      "cell_type": "markdown",
      "source": [
        "Метрики"
      ],
      "metadata": {
        "id": "6eezYgT8nXrk"
      },
      "id": "6eezYgT8nXrk"
    },
    {
      "cell_type": "markdown",
      "source": [
        "RandomForest"
      ],
      "metadata": {
        "id": "s64lP90Cnat5"
      },
      "id": "s64lP90Cnat5"
    },
    {
      "cell_type": "code",
      "source": [
        "metrics_svd_rf"
      ],
      "metadata": {
        "colab": {
          "base_uri": "https://localhost:8080/",
          "height": 394
        },
        "id": "_Xv13rI2iQUo",
        "outputId": "fb1249a4-ba33-4a11-c2b4-e2285429272d"
      },
      "id": "_Xv13rI2iQUo",
      "execution_count": null,
      "outputs": [
        {
          "output_type": "execute_result",
          "data": {
            "text/plain": [
              "                            precision  precision_std  recall  recall_std  \\\n",
              "Бытовая техника                  0.85           0.20    0.06        0.04   \n",
              "Товары для детей и игрушки       0.84           0.08    0.17        0.02   \n",
              "Ремонт и строительство           0.66           0.14    0.09        0.04   \n",
              "Мебель и интерьер                0.79           0.25    0.03        0.01   \n",
              "Квартиры                         0.87           0.03    0.89        0.02   \n",
              "Автомобили                       0.88           0.02    0.60        0.05   \n",
              "Предложение услуг                0.72           0.05    0.49        0.05   \n",
              "Одежда, обувь, аксессуары        0.47           0.02    0.76        0.03   \n",
              "Детская одежда и обувь           0.45           0.02    0.69        0.03   \n",
              "Телефоны                         0.95           0.04    0.37        0.04   \n",
              "mean                             0.75           0.08    0.42        0.03   \n",
              "\n",
              "                              f1  f1_std  \n",
              "Бытовая техника             0.10    0.07  \n",
              "Товары для детей и игрушки  0.28    0.03  \n",
              "Ремонт и строительство      0.15    0.06  \n",
              "Мебель и интерьер           0.05    0.02  \n",
              "Квартиры                    0.88    0.02  \n",
              "Автомобили                  0.71    0.03  \n",
              "Предложение услуг           0.58    0.02  \n",
              "Одежда, обувь, аксессуары   0.58    0.02  \n",
              "Детская одежда и обувь      0.54    0.02  \n",
              "Телефоны                    0.53    0.04  \n",
              "mean                        0.44    0.03  "
            ],
            "text/html": [
              "\n",
              "  <div id=\"df-170cc619-99d6-4834-a278-9adc493569b1\">\n",
              "    <div class=\"colab-df-container\">\n",
              "      <div>\n",
              "<style scoped>\n",
              "    .dataframe tbody tr th:only-of-type {\n",
              "        vertical-align: middle;\n",
              "    }\n",
              "\n",
              "    .dataframe tbody tr th {\n",
              "        vertical-align: top;\n",
              "    }\n",
              "\n",
              "    .dataframe thead th {\n",
              "        text-align: right;\n",
              "    }\n",
              "</style>\n",
              "<table border=\"1\" class=\"dataframe\">\n",
              "  <thead>\n",
              "    <tr style=\"text-align: right;\">\n",
              "      <th></th>\n",
              "      <th>precision</th>\n",
              "      <th>precision_std</th>\n",
              "      <th>recall</th>\n",
              "      <th>recall_std</th>\n",
              "      <th>f1</th>\n",
              "      <th>f1_std</th>\n",
              "    </tr>\n",
              "  </thead>\n",
              "  <tbody>\n",
              "    <tr>\n",
              "      <th>Бытовая техника</th>\n",
              "      <td>0.85</td>\n",
              "      <td>0.20</td>\n",
              "      <td>0.06</td>\n",
              "      <td>0.04</td>\n",
              "      <td>0.10</td>\n",
              "      <td>0.07</td>\n",
              "    </tr>\n",
              "    <tr>\n",
              "      <th>Товары для детей и игрушки</th>\n",
              "      <td>0.84</td>\n",
              "      <td>0.08</td>\n",
              "      <td>0.17</td>\n",
              "      <td>0.02</td>\n",
              "      <td>0.28</td>\n",
              "      <td>0.03</td>\n",
              "    </tr>\n",
              "    <tr>\n",
              "      <th>Ремонт и строительство</th>\n",
              "      <td>0.66</td>\n",
              "      <td>0.14</td>\n",
              "      <td>0.09</td>\n",
              "      <td>0.04</td>\n",
              "      <td>0.15</td>\n",
              "      <td>0.06</td>\n",
              "    </tr>\n",
              "    <tr>\n",
              "      <th>Мебель и интерьер</th>\n",
              "      <td>0.79</td>\n",
              "      <td>0.25</td>\n",
              "      <td>0.03</td>\n",
              "      <td>0.01</td>\n",
              "      <td>0.05</td>\n",
              "      <td>0.02</td>\n",
              "    </tr>\n",
              "    <tr>\n",
              "      <th>Квартиры</th>\n",
              "      <td>0.87</td>\n",
              "      <td>0.03</td>\n",
              "      <td>0.89</td>\n",
              "      <td>0.02</td>\n",
              "      <td>0.88</td>\n",
              "      <td>0.02</td>\n",
              "    </tr>\n",
              "    <tr>\n",
              "      <th>Автомобили</th>\n",
              "      <td>0.88</td>\n",
              "      <td>0.02</td>\n",
              "      <td>0.60</td>\n",
              "      <td>0.05</td>\n",
              "      <td>0.71</td>\n",
              "      <td>0.03</td>\n",
              "    </tr>\n",
              "    <tr>\n",
              "      <th>Предложение услуг</th>\n",
              "      <td>0.72</td>\n",
              "      <td>0.05</td>\n",
              "      <td>0.49</td>\n",
              "      <td>0.05</td>\n",
              "      <td>0.58</td>\n",
              "      <td>0.02</td>\n",
              "    </tr>\n",
              "    <tr>\n",
              "      <th>Одежда, обувь, аксессуары</th>\n",
              "      <td>0.47</td>\n",
              "      <td>0.02</td>\n",
              "      <td>0.76</td>\n",
              "      <td>0.03</td>\n",
              "      <td>0.58</td>\n",
              "      <td>0.02</td>\n",
              "    </tr>\n",
              "    <tr>\n",
              "      <th>Детская одежда и обувь</th>\n",
              "      <td>0.45</td>\n",
              "      <td>0.02</td>\n",
              "      <td>0.69</td>\n",
              "      <td>0.03</td>\n",
              "      <td>0.54</td>\n",
              "      <td>0.02</td>\n",
              "    </tr>\n",
              "    <tr>\n",
              "      <th>Телефоны</th>\n",
              "      <td>0.95</td>\n",
              "      <td>0.04</td>\n",
              "      <td>0.37</td>\n",
              "      <td>0.04</td>\n",
              "      <td>0.53</td>\n",
              "      <td>0.04</td>\n",
              "    </tr>\n",
              "    <tr>\n",
              "      <th>mean</th>\n",
              "      <td>0.75</td>\n",
              "      <td>0.08</td>\n",
              "      <td>0.42</td>\n",
              "      <td>0.03</td>\n",
              "      <td>0.44</td>\n",
              "      <td>0.03</td>\n",
              "    </tr>\n",
              "  </tbody>\n",
              "</table>\n",
              "</div>\n",
              "      <button class=\"colab-df-convert\" onclick=\"convertToInteractive('df-170cc619-99d6-4834-a278-9adc493569b1')\"\n",
              "              title=\"Convert this dataframe to an interactive table.\"\n",
              "              style=\"display:none;\">\n",
              "        \n",
              "  <svg xmlns=\"http://www.w3.org/2000/svg\" height=\"24px\"viewBox=\"0 0 24 24\"\n",
              "       width=\"24px\">\n",
              "    <path d=\"M0 0h24v24H0V0z\" fill=\"none\"/>\n",
              "    <path d=\"M18.56 5.44l.94 2.06.94-2.06 2.06-.94-2.06-.94-.94-2.06-.94 2.06-2.06.94zm-11 1L8.5 8.5l.94-2.06 2.06-.94-2.06-.94L8.5 2.5l-.94 2.06-2.06.94zm10 10l.94 2.06.94-2.06 2.06-.94-2.06-.94-.94-2.06-.94 2.06-2.06.94z\"/><path d=\"M17.41 7.96l-1.37-1.37c-.4-.4-.92-.59-1.43-.59-.52 0-1.04.2-1.43.59L10.3 9.45l-7.72 7.72c-.78.78-.78 2.05 0 2.83L4 21.41c.39.39.9.59 1.41.59.51 0 1.02-.2 1.41-.59l7.78-7.78 2.81-2.81c.8-.78.8-2.07 0-2.86zM5.41 20L4 18.59l7.72-7.72 1.47 1.35L5.41 20z\"/>\n",
              "  </svg>\n",
              "      </button>\n",
              "      \n",
              "  <style>\n",
              "    .colab-df-container {\n",
              "      display:flex;\n",
              "      flex-wrap:wrap;\n",
              "      gap: 12px;\n",
              "    }\n",
              "\n",
              "    .colab-df-convert {\n",
              "      background-color: #E8F0FE;\n",
              "      border: none;\n",
              "      border-radius: 50%;\n",
              "      cursor: pointer;\n",
              "      display: none;\n",
              "      fill: #1967D2;\n",
              "      height: 32px;\n",
              "      padding: 0 0 0 0;\n",
              "      width: 32px;\n",
              "    }\n",
              "\n",
              "    .colab-df-convert:hover {\n",
              "      background-color: #E2EBFA;\n",
              "      box-shadow: 0px 1px 2px rgba(60, 64, 67, 0.3), 0px 1px 3px 1px rgba(60, 64, 67, 0.15);\n",
              "      fill: #174EA6;\n",
              "    }\n",
              "\n",
              "    [theme=dark] .colab-df-convert {\n",
              "      background-color: #3B4455;\n",
              "      fill: #D2E3FC;\n",
              "    }\n",
              "\n",
              "    [theme=dark] .colab-df-convert:hover {\n",
              "      background-color: #434B5C;\n",
              "      box-shadow: 0px 1px 3px 1px rgba(0, 0, 0, 0.15);\n",
              "      filter: drop-shadow(0px 1px 2px rgba(0, 0, 0, 0.3));\n",
              "      fill: #FFFFFF;\n",
              "    }\n",
              "  </style>\n",
              "\n",
              "      <script>\n",
              "        const buttonEl =\n",
              "          document.querySelector('#df-170cc619-99d6-4834-a278-9adc493569b1 button.colab-df-convert');\n",
              "        buttonEl.style.display =\n",
              "          google.colab.kernel.accessAllowed ? 'block' : 'none';\n",
              "\n",
              "        async function convertToInteractive(key) {\n",
              "          const element = document.querySelector('#df-170cc619-99d6-4834-a278-9adc493569b1');\n",
              "          const dataTable =\n",
              "            await google.colab.kernel.invokeFunction('convertToInteractive',\n",
              "                                                     [key], {});\n",
              "          if (!dataTable) return;\n",
              "\n",
              "          const docLinkHtml = 'Like what you see? Visit the ' +\n",
              "            '<a target=\"_blank\" href=https://colab.research.google.com/notebooks/data_table.ipynb>data table notebook</a>'\n",
              "            + ' to learn more about interactive tables.';\n",
              "          element.innerHTML = '';\n",
              "          dataTable['output_type'] = 'display_data';\n",
              "          await google.colab.output.renderOutput(dataTable, element);\n",
              "          const docLink = document.createElement('div');\n",
              "          docLink.innerHTML = docLinkHtml;\n",
              "          element.appendChild(docLink);\n",
              "        }\n",
              "      </script>\n",
              "    </div>\n",
              "  </div>\n",
              "  "
            ]
          },
          "metadata": {},
          "execution_count": 31
        }
      ]
    },
    {
      "cell_type": "code",
      "source": [
        "metrics_nmf_rf"
      ],
      "metadata": {
        "colab": {
          "base_uri": "https://localhost:8080/",
          "height": 394
        },
        "id": "F5MHnHMaiQMR",
        "outputId": "1409b440-9239-463e-9256-1e9953b1c6fa"
      },
      "id": "F5MHnHMaiQMR",
      "execution_count": null,
      "outputs": [
        {
          "output_type": "execute_result",
          "data": {
            "text/plain": [
              "                            precision  precision_std  recall  recall_std  \\\n",
              "Бытовая техника                  1.00           0.00    0.03        0.02   \n",
              "Товары для детей и игрушки       0.87           0.06    0.35        0.05   \n",
              "Ремонт и строительство           0.73           0.22    0.05        0.03   \n",
              "Мебель и интерьер                0.78           0.11    0.18        0.05   \n",
              "Квартиры                         0.86           0.03    0.95        0.03   \n",
              "Автомобили                       0.90           0.05    0.77        0.04   \n",
              "Предложение услуг                0.70           0.05    0.50        0.06   \n",
              "Одежда, обувь, аксессуары        0.44           0.02    0.81        0.04   \n",
              "Детская одежда и обувь           0.62           0.04    0.70        0.04   \n",
              "Телефоны                         0.94           0.07    0.33        0.04   \n",
              "mean                             0.78           0.07    0.47        0.04   \n",
              "\n",
              "                              f1  f1_std  \n",
              "Бытовая техника             0.06    0.03  \n",
              "Товары для детей и игрушки  0.49    0.06  \n",
              "Ремонт и строительство      0.10    0.05  \n",
              "Мебель и интерьер           0.29    0.07  \n",
              "Квартиры                    0.90    0.02  \n",
              "Автомобили                  0.83    0.04  \n",
              "Предложение услуг           0.58    0.03  \n",
              "Одежда, обувь, аксессуары   0.57    0.02  \n",
              "Детская одежда и обувь      0.66    0.02  \n",
              "Телефоны                    0.49    0.05  \n",
              "mean                        0.50    0.04  "
            ],
            "text/html": [
              "\n",
              "  <div id=\"df-bea823ca-6fe3-4bcd-bcec-ece7584cd937\">\n",
              "    <div class=\"colab-df-container\">\n",
              "      <div>\n",
              "<style scoped>\n",
              "    .dataframe tbody tr th:only-of-type {\n",
              "        vertical-align: middle;\n",
              "    }\n",
              "\n",
              "    .dataframe tbody tr th {\n",
              "        vertical-align: top;\n",
              "    }\n",
              "\n",
              "    .dataframe thead th {\n",
              "        text-align: right;\n",
              "    }\n",
              "</style>\n",
              "<table border=\"1\" class=\"dataframe\">\n",
              "  <thead>\n",
              "    <tr style=\"text-align: right;\">\n",
              "      <th></th>\n",
              "      <th>precision</th>\n",
              "      <th>precision_std</th>\n",
              "      <th>recall</th>\n",
              "      <th>recall_std</th>\n",
              "      <th>f1</th>\n",
              "      <th>f1_std</th>\n",
              "    </tr>\n",
              "  </thead>\n",
              "  <tbody>\n",
              "    <tr>\n",
              "      <th>Бытовая техника</th>\n",
              "      <td>1.00</td>\n",
              "      <td>0.00</td>\n",
              "      <td>0.03</td>\n",
              "      <td>0.02</td>\n",
              "      <td>0.06</td>\n",
              "      <td>0.03</td>\n",
              "    </tr>\n",
              "    <tr>\n",
              "      <th>Товары для детей и игрушки</th>\n",
              "      <td>0.87</td>\n",
              "      <td>0.06</td>\n",
              "      <td>0.35</td>\n",
              "      <td>0.05</td>\n",
              "      <td>0.49</td>\n",
              "      <td>0.06</td>\n",
              "    </tr>\n",
              "    <tr>\n",
              "      <th>Ремонт и строительство</th>\n",
              "      <td>0.73</td>\n",
              "      <td>0.22</td>\n",
              "      <td>0.05</td>\n",
              "      <td>0.03</td>\n",
              "      <td>0.10</td>\n",
              "      <td>0.05</td>\n",
              "    </tr>\n",
              "    <tr>\n",
              "      <th>Мебель и интерьер</th>\n",
              "      <td>0.78</td>\n",
              "      <td>0.11</td>\n",
              "      <td>0.18</td>\n",
              "      <td>0.05</td>\n",
              "      <td>0.29</td>\n",
              "      <td>0.07</td>\n",
              "    </tr>\n",
              "    <tr>\n",
              "      <th>Квартиры</th>\n",
              "      <td>0.86</td>\n",
              "      <td>0.03</td>\n",
              "      <td>0.95</td>\n",
              "      <td>0.03</td>\n",
              "      <td>0.90</td>\n",
              "      <td>0.02</td>\n",
              "    </tr>\n",
              "    <tr>\n",
              "      <th>Автомобили</th>\n",
              "      <td>0.90</td>\n",
              "      <td>0.05</td>\n",
              "      <td>0.77</td>\n",
              "      <td>0.04</td>\n",
              "      <td>0.83</td>\n",
              "      <td>0.04</td>\n",
              "    </tr>\n",
              "    <tr>\n",
              "      <th>Предложение услуг</th>\n",
              "      <td>0.70</td>\n",
              "      <td>0.05</td>\n",
              "      <td>0.50</td>\n",
              "      <td>0.06</td>\n",
              "      <td>0.58</td>\n",
              "      <td>0.03</td>\n",
              "    </tr>\n",
              "    <tr>\n",
              "      <th>Одежда, обувь, аксессуары</th>\n",
              "      <td>0.44</td>\n",
              "      <td>0.02</td>\n",
              "      <td>0.81</td>\n",
              "      <td>0.04</td>\n",
              "      <td>0.57</td>\n",
              "      <td>0.02</td>\n",
              "    </tr>\n",
              "    <tr>\n",
              "      <th>Детская одежда и обувь</th>\n",
              "      <td>0.62</td>\n",
              "      <td>0.04</td>\n",
              "      <td>0.70</td>\n",
              "      <td>0.04</td>\n",
              "      <td>0.66</td>\n",
              "      <td>0.02</td>\n",
              "    </tr>\n",
              "    <tr>\n",
              "      <th>Телефоны</th>\n",
              "      <td>0.94</td>\n",
              "      <td>0.07</td>\n",
              "      <td>0.33</td>\n",
              "      <td>0.04</td>\n",
              "      <td>0.49</td>\n",
              "      <td>0.05</td>\n",
              "    </tr>\n",
              "    <tr>\n",
              "      <th>mean</th>\n",
              "      <td>0.78</td>\n",
              "      <td>0.07</td>\n",
              "      <td>0.47</td>\n",
              "      <td>0.04</td>\n",
              "      <td>0.50</td>\n",
              "      <td>0.04</td>\n",
              "    </tr>\n",
              "  </tbody>\n",
              "</table>\n",
              "</div>\n",
              "      <button class=\"colab-df-convert\" onclick=\"convertToInteractive('df-bea823ca-6fe3-4bcd-bcec-ece7584cd937')\"\n",
              "              title=\"Convert this dataframe to an interactive table.\"\n",
              "              style=\"display:none;\">\n",
              "        \n",
              "  <svg xmlns=\"http://www.w3.org/2000/svg\" height=\"24px\"viewBox=\"0 0 24 24\"\n",
              "       width=\"24px\">\n",
              "    <path d=\"M0 0h24v24H0V0z\" fill=\"none\"/>\n",
              "    <path d=\"M18.56 5.44l.94 2.06.94-2.06 2.06-.94-2.06-.94-.94-2.06-.94 2.06-2.06.94zm-11 1L8.5 8.5l.94-2.06 2.06-.94-2.06-.94L8.5 2.5l-.94 2.06-2.06.94zm10 10l.94 2.06.94-2.06 2.06-.94-2.06-.94-.94-2.06-.94 2.06-2.06.94z\"/><path d=\"M17.41 7.96l-1.37-1.37c-.4-.4-.92-.59-1.43-.59-.52 0-1.04.2-1.43.59L10.3 9.45l-7.72 7.72c-.78.78-.78 2.05 0 2.83L4 21.41c.39.39.9.59 1.41.59.51 0 1.02-.2 1.41-.59l7.78-7.78 2.81-2.81c.8-.78.8-2.07 0-2.86zM5.41 20L4 18.59l7.72-7.72 1.47 1.35L5.41 20z\"/>\n",
              "  </svg>\n",
              "      </button>\n",
              "      \n",
              "  <style>\n",
              "    .colab-df-container {\n",
              "      display:flex;\n",
              "      flex-wrap:wrap;\n",
              "      gap: 12px;\n",
              "    }\n",
              "\n",
              "    .colab-df-convert {\n",
              "      background-color: #E8F0FE;\n",
              "      border: none;\n",
              "      border-radius: 50%;\n",
              "      cursor: pointer;\n",
              "      display: none;\n",
              "      fill: #1967D2;\n",
              "      height: 32px;\n",
              "      padding: 0 0 0 0;\n",
              "      width: 32px;\n",
              "    }\n",
              "\n",
              "    .colab-df-convert:hover {\n",
              "      background-color: #E2EBFA;\n",
              "      box-shadow: 0px 1px 2px rgba(60, 64, 67, 0.3), 0px 1px 3px 1px rgba(60, 64, 67, 0.15);\n",
              "      fill: #174EA6;\n",
              "    }\n",
              "\n",
              "    [theme=dark] .colab-df-convert {\n",
              "      background-color: #3B4455;\n",
              "      fill: #D2E3FC;\n",
              "    }\n",
              "\n",
              "    [theme=dark] .colab-df-convert:hover {\n",
              "      background-color: #434B5C;\n",
              "      box-shadow: 0px 1px 3px 1px rgba(0, 0, 0, 0.15);\n",
              "      filter: drop-shadow(0px 1px 2px rgba(0, 0, 0, 0.3));\n",
              "      fill: #FFFFFF;\n",
              "    }\n",
              "  </style>\n",
              "\n",
              "      <script>\n",
              "        const buttonEl =\n",
              "          document.querySelector('#df-bea823ca-6fe3-4bcd-bcec-ece7584cd937 button.colab-df-convert');\n",
              "        buttonEl.style.display =\n",
              "          google.colab.kernel.accessAllowed ? 'block' : 'none';\n",
              "\n",
              "        async function convertToInteractive(key) {\n",
              "          const element = document.querySelector('#df-bea823ca-6fe3-4bcd-bcec-ece7584cd937');\n",
              "          const dataTable =\n",
              "            await google.colab.kernel.invokeFunction('convertToInteractive',\n",
              "                                                     [key], {});\n",
              "          if (!dataTable) return;\n",
              "\n",
              "          const docLinkHtml = 'Like what you see? Visit the ' +\n",
              "            '<a target=\"_blank\" href=https://colab.research.google.com/notebooks/data_table.ipynb>data table notebook</a>'\n",
              "            + ' to learn more about interactive tables.';\n",
              "          element.innerHTML = '';\n",
              "          dataTable['output_type'] = 'display_data';\n",
              "          await google.colab.output.renderOutput(dataTable, element);\n",
              "          const docLink = document.createElement('div');\n",
              "          docLink.innerHTML = docLinkHtml;\n",
              "          element.appendChild(docLink);\n",
              "        }\n",
              "      </script>\n",
              "    </div>\n",
              "  </div>\n",
              "  "
            ]
          },
          "metadata": {},
          "execution_count": 32
        }
      ]
    },
    {
      "cell_type": "markdown",
      "source": [
        "SGD"
      ],
      "metadata": {
        "id": "8dyIveERngSP"
      },
      "id": "8dyIveERngSP"
    },
    {
      "cell_type": "code",
      "source": [
        "metrics_svd_sgd"
      ],
      "metadata": {
        "colab": {
          "base_uri": "https://localhost:8080/",
          "height": 394
        },
        "id": "0eat_LwbndqL",
        "outputId": "f75aed2d-ca30-4c32-c0fc-5d20b7a96238"
      },
      "id": "0eat_LwbndqL",
      "execution_count": null,
      "outputs": [
        {
          "output_type": "execute_result",
          "data": {
            "text/plain": [
              "                            precision  precision_std  recall  recall_std  \\\n",
              "Бытовая техника                  0.65           0.09    0.51        0.06   \n",
              "Товары для детей и игрушки       0.78           0.05    0.63        0.04   \n",
              "Ремонт и строительство           0.61           0.12    0.46        0.07   \n",
              "Мебель и интерьер                0.69           0.08    0.63        0.07   \n",
              "Квартиры                         0.96           0.02    0.96        0.01   \n",
              "Автомобили                       0.88           0.02    0.91        0.03   \n",
              "Предложение услуг                0.79           0.04    0.75        0.09   \n",
              "Одежда, обувь, аксессуары        0.72           0.04    0.78        0.03   \n",
              "Детская одежда и обувь           0.73           0.03    0.79        0.04   \n",
              "Телефоны                         0.82           0.05    0.81        0.04   \n",
              "mean                             0.76           0.05    0.72        0.05   \n",
              "\n",
              "                              f1  f1_std  \n",
              "Бытовая техника             0.57    0.03  \n",
              "Товары для детей и игрушки  0.69    0.01  \n",
              "Ремонт и строительство      0.52    0.05  \n",
              "Мебель и интерьер           0.65    0.04  \n",
              "Квартиры                    0.96    0.01  \n",
              "Автомобили                  0.89    0.01  \n",
              "Предложение услуг           0.77    0.06  \n",
              "Одежда, обувь, аксессуары   0.74    0.02  \n",
              "Детская одежда и обувь      0.76    0.02  \n",
              "Телефоны                    0.81    0.03  \n",
              "mean                        0.74    0.03  "
            ],
            "text/html": [
              "\n",
              "  <div id=\"df-31403891-fa48-4205-8660-7151c9857802\">\n",
              "    <div class=\"colab-df-container\">\n",
              "      <div>\n",
              "<style scoped>\n",
              "    .dataframe tbody tr th:only-of-type {\n",
              "        vertical-align: middle;\n",
              "    }\n",
              "\n",
              "    .dataframe tbody tr th {\n",
              "        vertical-align: top;\n",
              "    }\n",
              "\n",
              "    .dataframe thead th {\n",
              "        text-align: right;\n",
              "    }\n",
              "</style>\n",
              "<table border=\"1\" class=\"dataframe\">\n",
              "  <thead>\n",
              "    <tr style=\"text-align: right;\">\n",
              "      <th></th>\n",
              "      <th>precision</th>\n",
              "      <th>precision_std</th>\n",
              "      <th>recall</th>\n",
              "      <th>recall_std</th>\n",
              "      <th>f1</th>\n",
              "      <th>f1_std</th>\n",
              "    </tr>\n",
              "  </thead>\n",
              "  <tbody>\n",
              "    <tr>\n",
              "      <th>Бытовая техника</th>\n",
              "      <td>0.65</td>\n",
              "      <td>0.09</td>\n",
              "      <td>0.51</td>\n",
              "      <td>0.06</td>\n",
              "      <td>0.57</td>\n",
              "      <td>0.03</td>\n",
              "    </tr>\n",
              "    <tr>\n",
              "      <th>Товары для детей и игрушки</th>\n",
              "      <td>0.78</td>\n",
              "      <td>0.05</td>\n",
              "      <td>0.63</td>\n",
              "      <td>0.04</td>\n",
              "      <td>0.69</td>\n",
              "      <td>0.01</td>\n",
              "    </tr>\n",
              "    <tr>\n",
              "      <th>Ремонт и строительство</th>\n",
              "      <td>0.61</td>\n",
              "      <td>0.12</td>\n",
              "      <td>0.46</td>\n",
              "      <td>0.07</td>\n",
              "      <td>0.52</td>\n",
              "      <td>0.05</td>\n",
              "    </tr>\n",
              "    <tr>\n",
              "      <th>Мебель и интерьер</th>\n",
              "      <td>0.69</td>\n",
              "      <td>0.08</td>\n",
              "      <td>0.63</td>\n",
              "      <td>0.07</td>\n",
              "      <td>0.65</td>\n",
              "      <td>0.04</td>\n",
              "    </tr>\n",
              "    <tr>\n",
              "      <th>Квартиры</th>\n",
              "      <td>0.96</td>\n",
              "      <td>0.02</td>\n",
              "      <td>0.96</td>\n",
              "      <td>0.01</td>\n",
              "      <td>0.96</td>\n",
              "      <td>0.01</td>\n",
              "    </tr>\n",
              "    <tr>\n",
              "      <th>Автомобили</th>\n",
              "      <td>0.88</td>\n",
              "      <td>0.02</td>\n",
              "      <td>0.91</td>\n",
              "      <td>0.03</td>\n",
              "      <td>0.89</td>\n",
              "      <td>0.01</td>\n",
              "    </tr>\n",
              "    <tr>\n",
              "      <th>Предложение услуг</th>\n",
              "      <td>0.79</td>\n",
              "      <td>0.04</td>\n",
              "      <td>0.75</td>\n",
              "      <td>0.09</td>\n",
              "      <td>0.77</td>\n",
              "      <td>0.06</td>\n",
              "    </tr>\n",
              "    <tr>\n",
              "      <th>Одежда, обувь, аксессуары</th>\n",
              "      <td>0.72</td>\n",
              "      <td>0.04</td>\n",
              "      <td>0.78</td>\n",
              "      <td>0.03</td>\n",
              "      <td>0.74</td>\n",
              "      <td>0.02</td>\n",
              "    </tr>\n",
              "    <tr>\n",
              "      <th>Детская одежда и обувь</th>\n",
              "      <td>0.73</td>\n",
              "      <td>0.03</td>\n",
              "      <td>0.79</td>\n",
              "      <td>0.04</td>\n",
              "      <td>0.76</td>\n",
              "      <td>0.02</td>\n",
              "    </tr>\n",
              "    <tr>\n",
              "      <th>Телефоны</th>\n",
              "      <td>0.82</td>\n",
              "      <td>0.05</td>\n",
              "      <td>0.81</td>\n",
              "      <td>0.04</td>\n",
              "      <td>0.81</td>\n",
              "      <td>0.03</td>\n",
              "    </tr>\n",
              "    <tr>\n",
              "      <th>mean</th>\n",
              "      <td>0.76</td>\n",
              "      <td>0.05</td>\n",
              "      <td>0.72</td>\n",
              "      <td>0.05</td>\n",
              "      <td>0.74</td>\n",
              "      <td>0.03</td>\n",
              "    </tr>\n",
              "  </tbody>\n",
              "</table>\n",
              "</div>\n",
              "      <button class=\"colab-df-convert\" onclick=\"convertToInteractive('df-31403891-fa48-4205-8660-7151c9857802')\"\n",
              "              title=\"Convert this dataframe to an interactive table.\"\n",
              "              style=\"display:none;\">\n",
              "        \n",
              "  <svg xmlns=\"http://www.w3.org/2000/svg\" height=\"24px\"viewBox=\"0 0 24 24\"\n",
              "       width=\"24px\">\n",
              "    <path d=\"M0 0h24v24H0V0z\" fill=\"none\"/>\n",
              "    <path d=\"M18.56 5.44l.94 2.06.94-2.06 2.06-.94-2.06-.94-.94-2.06-.94 2.06-2.06.94zm-11 1L8.5 8.5l.94-2.06 2.06-.94-2.06-.94L8.5 2.5l-.94 2.06-2.06.94zm10 10l.94 2.06.94-2.06 2.06-.94-2.06-.94-.94-2.06-.94 2.06-2.06.94z\"/><path d=\"M17.41 7.96l-1.37-1.37c-.4-.4-.92-.59-1.43-.59-.52 0-1.04.2-1.43.59L10.3 9.45l-7.72 7.72c-.78.78-.78 2.05 0 2.83L4 21.41c.39.39.9.59 1.41.59.51 0 1.02-.2 1.41-.59l7.78-7.78 2.81-2.81c.8-.78.8-2.07 0-2.86zM5.41 20L4 18.59l7.72-7.72 1.47 1.35L5.41 20z\"/>\n",
              "  </svg>\n",
              "      </button>\n",
              "      \n",
              "  <style>\n",
              "    .colab-df-container {\n",
              "      display:flex;\n",
              "      flex-wrap:wrap;\n",
              "      gap: 12px;\n",
              "    }\n",
              "\n",
              "    .colab-df-convert {\n",
              "      background-color: #E8F0FE;\n",
              "      border: none;\n",
              "      border-radius: 50%;\n",
              "      cursor: pointer;\n",
              "      display: none;\n",
              "      fill: #1967D2;\n",
              "      height: 32px;\n",
              "      padding: 0 0 0 0;\n",
              "      width: 32px;\n",
              "    }\n",
              "\n",
              "    .colab-df-convert:hover {\n",
              "      background-color: #E2EBFA;\n",
              "      box-shadow: 0px 1px 2px rgba(60, 64, 67, 0.3), 0px 1px 3px 1px rgba(60, 64, 67, 0.15);\n",
              "      fill: #174EA6;\n",
              "    }\n",
              "\n",
              "    [theme=dark] .colab-df-convert {\n",
              "      background-color: #3B4455;\n",
              "      fill: #D2E3FC;\n",
              "    }\n",
              "\n",
              "    [theme=dark] .colab-df-convert:hover {\n",
              "      background-color: #434B5C;\n",
              "      box-shadow: 0px 1px 3px 1px rgba(0, 0, 0, 0.15);\n",
              "      filter: drop-shadow(0px 1px 2px rgba(0, 0, 0, 0.3));\n",
              "      fill: #FFFFFF;\n",
              "    }\n",
              "  </style>\n",
              "\n",
              "      <script>\n",
              "        const buttonEl =\n",
              "          document.querySelector('#df-31403891-fa48-4205-8660-7151c9857802 button.colab-df-convert');\n",
              "        buttonEl.style.display =\n",
              "          google.colab.kernel.accessAllowed ? 'block' : 'none';\n",
              "\n",
              "        async function convertToInteractive(key) {\n",
              "          const element = document.querySelector('#df-31403891-fa48-4205-8660-7151c9857802');\n",
              "          const dataTable =\n",
              "            await google.colab.kernel.invokeFunction('convertToInteractive',\n",
              "                                                     [key], {});\n",
              "          if (!dataTable) return;\n",
              "\n",
              "          const docLinkHtml = 'Like what you see? Visit the ' +\n",
              "            '<a target=\"_blank\" href=https://colab.research.google.com/notebooks/data_table.ipynb>data table notebook</a>'\n",
              "            + ' to learn more about interactive tables.';\n",
              "          element.innerHTML = '';\n",
              "          dataTable['output_type'] = 'display_data';\n",
              "          await google.colab.output.renderOutput(dataTable, element);\n",
              "          const docLink = document.createElement('div');\n",
              "          docLink.innerHTML = docLinkHtml;\n",
              "          element.appendChild(docLink);\n",
              "        }\n",
              "      </script>\n",
              "    </div>\n",
              "  </div>\n",
              "  "
            ]
          },
          "metadata": {},
          "execution_count": 33
        }
      ]
    },
    {
      "cell_type": "code",
      "source": [
        "metrics_nmf_sgd"
      ],
      "metadata": {
        "colab": {
          "base_uri": "https://localhost:8080/",
          "height": 394
        },
        "id": "conQKBxvnddX",
        "outputId": "45fa3e1f-09f9-446f-da78-f9ad4225a921"
      },
      "id": "conQKBxvnddX",
      "execution_count": null,
      "outputs": [
        {
          "output_type": "execute_result",
          "data": {
            "text/plain": [
              "                            precision  precision_std  recall  recall_std  \\\n",
              "Бытовая техника                  0.45           0.36    0.11        0.09   \n",
              "Товары для детей и игрушки       0.69           0.25    0.44        0.17   \n",
              "Ремонт и строительство           0.17           0.16    0.07        0.16   \n",
              "Мебель и интерьер                0.62           0.12    0.27        0.19   \n",
              "Квартиры                         0.74           0.23    0.94        0.06   \n",
              "Автомобили                       0.74           0.11    0.73        0.18   \n",
              "Предложение услуг                0.68           0.18    0.32        0.22   \n",
              "Одежда, обувь, аксессуары        0.64           0.06    0.68        0.05   \n",
              "Детская одежда и обувь           0.57           0.12    0.74        0.10   \n",
              "Телефоны                         0.68           0.08    0.53        0.14   \n",
              "mean                             0.60           0.17    0.48        0.14   \n",
              "\n",
              "                              f1  f1_std  \n",
              "Бытовая техника             0.14    0.10  \n",
              "Товары для детей и игрушки  0.48    0.08  \n",
              "Ремонт и строительство      0.08    0.16  \n",
              "Мебель и интерьер           0.33    0.20  \n",
              "Квартиры                    0.81    0.15  \n",
              "Автомобили                  0.72    0.09  \n",
              "Предложение услуг           0.37    0.09  \n",
              "Одежда, обувь, аксессуары   0.66    0.03  \n",
              "Детская одежда и обувь      0.63    0.04  \n",
              "Телефоны                    0.58    0.08  \n",
              "mean                        0.48    0.10  "
            ],
            "text/html": [
              "\n",
              "  <div id=\"df-d32b07bb-ac72-41af-a31d-80586611cf81\">\n",
              "    <div class=\"colab-df-container\">\n",
              "      <div>\n",
              "<style scoped>\n",
              "    .dataframe tbody tr th:only-of-type {\n",
              "        vertical-align: middle;\n",
              "    }\n",
              "\n",
              "    .dataframe tbody tr th {\n",
              "        vertical-align: top;\n",
              "    }\n",
              "\n",
              "    .dataframe thead th {\n",
              "        text-align: right;\n",
              "    }\n",
              "</style>\n",
              "<table border=\"1\" class=\"dataframe\">\n",
              "  <thead>\n",
              "    <tr style=\"text-align: right;\">\n",
              "      <th></th>\n",
              "      <th>precision</th>\n",
              "      <th>precision_std</th>\n",
              "      <th>recall</th>\n",
              "      <th>recall_std</th>\n",
              "      <th>f1</th>\n",
              "      <th>f1_std</th>\n",
              "    </tr>\n",
              "  </thead>\n",
              "  <tbody>\n",
              "    <tr>\n",
              "      <th>Бытовая техника</th>\n",
              "      <td>0.45</td>\n",
              "      <td>0.36</td>\n",
              "      <td>0.11</td>\n",
              "      <td>0.09</td>\n",
              "      <td>0.14</td>\n",
              "      <td>0.10</td>\n",
              "    </tr>\n",
              "    <tr>\n",
              "      <th>Товары для детей и игрушки</th>\n",
              "      <td>0.69</td>\n",
              "      <td>0.25</td>\n",
              "      <td>0.44</td>\n",
              "      <td>0.17</td>\n",
              "      <td>0.48</td>\n",
              "      <td>0.08</td>\n",
              "    </tr>\n",
              "    <tr>\n",
              "      <th>Ремонт и строительство</th>\n",
              "      <td>0.17</td>\n",
              "      <td>0.16</td>\n",
              "      <td>0.07</td>\n",
              "      <td>0.16</td>\n",
              "      <td>0.08</td>\n",
              "      <td>0.16</td>\n",
              "    </tr>\n",
              "    <tr>\n",
              "      <th>Мебель и интерьер</th>\n",
              "      <td>0.62</td>\n",
              "      <td>0.12</td>\n",
              "      <td>0.27</td>\n",
              "      <td>0.19</td>\n",
              "      <td>0.33</td>\n",
              "      <td>0.20</td>\n",
              "    </tr>\n",
              "    <tr>\n",
              "      <th>Квартиры</th>\n",
              "      <td>0.74</td>\n",
              "      <td>0.23</td>\n",
              "      <td>0.94</td>\n",
              "      <td>0.06</td>\n",
              "      <td>0.81</td>\n",
              "      <td>0.15</td>\n",
              "    </tr>\n",
              "    <tr>\n",
              "      <th>Автомобили</th>\n",
              "      <td>0.74</td>\n",
              "      <td>0.11</td>\n",
              "      <td>0.73</td>\n",
              "      <td>0.18</td>\n",
              "      <td>0.72</td>\n",
              "      <td>0.09</td>\n",
              "    </tr>\n",
              "    <tr>\n",
              "      <th>Предложение услуг</th>\n",
              "      <td>0.68</td>\n",
              "      <td>0.18</td>\n",
              "      <td>0.32</td>\n",
              "      <td>0.22</td>\n",
              "      <td>0.37</td>\n",
              "      <td>0.09</td>\n",
              "    </tr>\n",
              "    <tr>\n",
              "      <th>Одежда, обувь, аксессуары</th>\n",
              "      <td>0.64</td>\n",
              "      <td>0.06</td>\n",
              "      <td>0.68</td>\n",
              "      <td>0.05</td>\n",
              "      <td>0.66</td>\n",
              "      <td>0.03</td>\n",
              "    </tr>\n",
              "    <tr>\n",
              "      <th>Детская одежда и обувь</th>\n",
              "      <td>0.57</td>\n",
              "      <td>0.12</td>\n",
              "      <td>0.74</td>\n",
              "      <td>0.10</td>\n",
              "      <td>0.63</td>\n",
              "      <td>0.04</td>\n",
              "    </tr>\n",
              "    <tr>\n",
              "      <th>Телефоны</th>\n",
              "      <td>0.68</td>\n",
              "      <td>0.08</td>\n",
              "      <td>0.53</td>\n",
              "      <td>0.14</td>\n",
              "      <td>0.58</td>\n",
              "      <td>0.08</td>\n",
              "    </tr>\n",
              "    <tr>\n",
              "      <th>mean</th>\n",
              "      <td>0.60</td>\n",
              "      <td>0.17</td>\n",
              "      <td>0.48</td>\n",
              "      <td>0.14</td>\n",
              "      <td>0.48</td>\n",
              "      <td>0.10</td>\n",
              "    </tr>\n",
              "  </tbody>\n",
              "</table>\n",
              "</div>\n",
              "      <button class=\"colab-df-convert\" onclick=\"convertToInteractive('df-d32b07bb-ac72-41af-a31d-80586611cf81')\"\n",
              "              title=\"Convert this dataframe to an interactive table.\"\n",
              "              style=\"display:none;\">\n",
              "        \n",
              "  <svg xmlns=\"http://www.w3.org/2000/svg\" height=\"24px\"viewBox=\"0 0 24 24\"\n",
              "       width=\"24px\">\n",
              "    <path d=\"M0 0h24v24H0V0z\" fill=\"none\"/>\n",
              "    <path d=\"M18.56 5.44l.94 2.06.94-2.06 2.06-.94-2.06-.94-.94-2.06-.94 2.06-2.06.94zm-11 1L8.5 8.5l.94-2.06 2.06-.94-2.06-.94L8.5 2.5l-.94 2.06-2.06.94zm10 10l.94 2.06.94-2.06 2.06-.94-2.06-.94-.94-2.06-.94 2.06-2.06.94z\"/><path d=\"M17.41 7.96l-1.37-1.37c-.4-.4-.92-.59-1.43-.59-.52 0-1.04.2-1.43.59L10.3 9.45l-7.72 7.72c-.78.78-.78 2.05 0 2.83L4 21.41c.39.39.9.59 1.41.59.51 0 1.02-.2 1.41-.59l7.78-7.78 2.81-2.81c.8-.78.8-2.07 0-2.86zM5.41 20L4 18.59l7.72-7.72 1.47 1.35L5.41 20z\"/>\n",
              "  </svg>\n",
              "      </button>\n",
              "      \n",
              "  <style>\n",
              "    .colab-df-container {\n",
              "      display:flex;\n",
              "      flex-wrap:wrap;\n",
              "      gap: 12px;\n",
              "    }\n",
              "\n",
              "    .colab-df-convert {\n",
              "      background-color: #E8F0FE;\n",
              "      border: none;\n",
              "      border-radius: 50%;\n",
              "      cursor: pointer;\n",
              "      display: none;\n",
              "      fill: #1967D2;\n",
              "      height: 32px;\n",
              "      padding: 0 0 0 0;\n",
              "      width: 32px;\n",
              "    }\n",
              "\n",
              "    .colab-df-convert:hover {\n",
              "      background-color: #E2EBFA;\n",
              "      box-shadow: 0px 1px 2px rgba(60, 64, 67, 0.3), 0px 1px 3px 1px rgba(60, 64, 67, 0.15);\n",
              "      fill: #174EA6;\n",
              "    }\n",
              "\n",
              "    [theme=dark] .colab-df-convert {\n",
              "      background-color: #3B4455;\n",
              "      fill: #D2E3FC;\n",
              "    }\n",
              "\n",
              "    [theme=dark] .colab-df-convert:hover {\n",
              "      background-color: #434B5C;\n",
              "      box-shadow: 0px 1px 3px 1px rgba(0, 0, 0, 0.15);\n",
              "      filter: drop-shadow(0px 1px 2px rgba(0, 0, 0, 0.3));\n",
              "      fill: #FFFFFF;\n",
              "    }\n",
              "  </style>\n",
              "\n",
              "      <script>\n",
              "        const buttonEl =\n",
              "          document.querySelector('#df-d32b07bb-ac72-41af-a31d-80586611cf81 button.colab-df-convert');\n",
              "        buttonEl.style.display =\n",
              "          google.colab.kernel.accessAllowed ? 'block' : 'none';\n",
              "\n",
              "        async function convertToInteractive(key) {\n",
              "          const element = document.querySelector('#df-d32b07bb-ac72-41af-a31d-80586611cf81');\n",
              "          const dataTable =\n",
              "            await google.colab.kernel.invokeFunction('convertToInteractive',\n",
              "                                                     [key], {});\n",
              "          if (!dataTable) return;\n",
              "\n",
              "          const docLinkHtml = 'Like what you see? Visit the ' +\n",
              "            '<a target=\"_blank\" href=https://colab.research.google.com/notebooks/data_table.ipynb>data table notebook</a>'\n",
              "            + ' to learn more about interactive tables.';\n",
              "          element.innerHTML = '';\n",
              "          dataTable['output_type'] = 'display_data';\n",
              "          await google.colab.output.renderOutput(dataTable, element);\n",
              "          const docLink = document.createElement('div');\n",
              "          docLink.innerHTML = docLinkHtml;\n",
              "          element.appendChild(docLink);\n",
              "        }\n",
              "      </script>\n",
              "    </div>\n",
              "  </div>\n",
              "  "
            ]
          },
          "metadata": {},
          "execution_count": 34
        }
      ]
    },
    {
      "cell_type": "markdown",
      "source": [
        "KNeighbors"
      ],
      "metadata": {
        "id": "M8pUB9MPnhjR"
      },
      "id": "M8pUB9MPnhjR"
    },
    {
      "cell_type": "code",
      "source": [
        "metrics_svd_kn"
      ],
      "metadata": {
        "colab": {
          "base_uri": "https://localhost:8080/",
          "height": 394
        },
        "id": "905hp7SGndaz",
        "outputId": "308ae902-0d46-4485-f384-81e9218239ad"
      },
      "id": "905hp7SGndaz",
      "execution_count": null,
      "outputs": [
        {
          "output_type": "execute_result",
          "data": {
            "text/plain": [
              "                            precision  precision_std  recall  recall_std  \\\n",
              "Бытовая техника                  0.32           0.07    0.25        0.07   \n",
              "Товары для детей и игрушки       0.57           0.09    0.25        0.03   \n",
              "Ремонт и строительство           0.30           0.02    0.16        0.04   \n",
              "Мебель и интерьер                0.37           0.06    0.26        0.06   \n",
              "Квартиры                         0.94           0.03    0.72        0.05   \n",
              "Автомобили                       0.56           0.05    0.58        0.06   \n",
              "Предложение услуг                0.58           0.06    0.58        0.08   \n",
              "Одежда, обувь, аксессуары        0.47           0.02    0.59        0.04   \n",
              "Детская одежда и обувь           0.46           0.01    0.63        0.02   \n",
              "Телефоны                         0.79           0.02    0.30        0.04   \n",
              "mean                             0.54           0.04    0.43        0.05   \n",
              "\n",
              "                              f1  f1_std  \n",
              "Бытовая техника             0.28    0.06  \n",
              "Товары для детей и игрушки  0.35    0.04  \n",
              "Ремонт и строительство      0.21    0.04  \n",
              "Мебель и интерьер           0.31    0.05  \n",
              "Квартиры                    0.82    0.03  \n",
              "Автомобили                  0.57    0.05  \n",
              "Предложение услуг           0.58    0.07  \n",
              "Одежда, обувь, аксессуары   0.52    0.03  \n",
              "Детская одежда и обувь      0.53    0.01  \n",
              "Телефоны                    0.43    0.05  \n",
              "mean                        0.46    0.04  "
            ],
            "text/html": [
              "\n",
              "  <div id=\"df-d431bf72-e76a-4acf-8402-9195e30fc26d\">\n",
              "    <div class=\"colab-df-container\">\n",
              "      <div>\n",
              "<style scoped>\n",
              "    .dataframe tbody tr th:only-of-type {\n",
              "        vertical-align: middle;\n",
              "    }\n",
              "\n",
              "    .dataframe tbody tr th {\n",
              "        vertical-align: top;\n",
              "    }\n",
              "\n",
              "    .dataframe thead th {\n",
              "        text-align: right;\n",
              "    }\n",
              "</style>\n",
              "<table border=\"1\" class=\"dataframe\">\n",
              "  <thead>\n",
              "    <tr style=\"text-align: right;\">\n",
              "      <th></th>\n",
              "      <th>precision</th>\n",
              "      <th>precision_std</th>\n",
              "      <th>recall</th>\n",
              "      <th>recall_std</th>\n",
              "      <th>f1</th>\n",
              "      <th>f1_std</th>\n",
              "    </tr>\n",
              "  </thead>\n",
              "  <tbody>\n",
              "    <tr>\n",
              "      <th>Бытовая техника</th>\n",
              "      <td>0.32</td>\n",
              "      <td>0.07</td>\n",
              "      <td>0.25</td>\n",
              "      <td>0.07</td>\n",
              "      <td>0.28</td>\n",
              "      <td>0.06</td>\n",
              "    </tr>\n",
              "    <tr>\n",
              "      <th>Товары для детей и игрушки</th>\n",
              "      <td>0.57</td>\n",
              "      <td>0.09</td>\n",
              "      <td>0.25</td>\n",
              "      <td>0.03</td>\n",
              "      <td>0.35</td>\n",
              "      <td>0.04</td>\n",
              "    </tr>\n",
              "    <tr>\n",
              "      <th>Ремонт и строительство</th>\n",
              "      <td>0.30</td>\n",
              "      <td>0.02</td>\n",
              "      <td>0.16</td>\n",
              "      <td>0.04</td>\n",
              "      <td>0.21</td>\n",
              "      <td>0.04</td>\n",
              "    </tr>\n",
              "    <tr>\n",
              "      <th>Мебель и интерьер</th>\n",
              "      <td>0.37</td>\n",
              "      <td>0.06</td>\n",
              "      <td>0.26</td>\n",
              "      <td>0.06</td>\n",
              "      <td>0.31</td>\n",
              "      <td>0.05</td>\n",
              "    </tr>\n",
              "    <tr>\n",
              "      <th>Квартиры</th>\n",
              "      <td>0.94</td>\n",
              "      <td>0.03</td>\n",
              "      <td>0.72</td>\n",
              "      <td>0.05</td>\n",
              "      <td>0.82</td>\n",
              "      <td>0.03</td>\n",
              "    </tr>\n",
              "    <tr>\n",
              "      <th>Автомобили</th>\n",
              "      <td>0.56</td>\n",
              "      <td>0.05</td>\n",
              "      <td>0.58</td>\n",
              "      <td>0.06</td>\n",
              "      <td>0.57</td>\n",
              "      <td>0.05</td>\n",
              "    </tr>\n",
              "    <tr>\n",
              "      <th>Предложение услуг</th>\n",
              "      <td>0.58</td>\n",
              "      <td>0.06</td>\n",
              "      <td>0.58</td>\n",
              "      <td>0.08</td>\n",
              "      <td>0.58</td>\n",
              "      <td>0.07</td>\n",
              "    </tr>\n",
              "    <tr>\n",
              "      <th>Одежда, обувь, аксессуары</th>\n",
              "      <td>0.47</td>\n",
              "      <td>0.02</td>\n",
              "      <td>0.59</td>\n",
              "      <td>0.04</td>\n",
              "      <td>0.52</td>\n",
              "      <td>0.03</td>\n",
              "    </tr>\n",
              "    <tr>\n",
              "      <th>Детская одежда и обувь</th>\n",
              "      <td>0.46</td>\n",
              "      <td>0.01</td>\n",
              "      <td>0.63</td>\n",
              "      <td>0.02</td>\n",
              "      <td>0.53</td>\n",
              "      <td>0.01</td>\n",
              "    </tr>\n",
              "    <tr>\n",
              "      <th>Телефоны</th>\n",
              "      <td>0.79</td>\n",
              "      <td>0.02</td>\n",
              "      <td>0.30</td>\n",
              "      <td>0.04</td>\n",
              "      <td>0.43</td>\n",
              "      <td>0.05</td>\n",
              "    </tr>\n",
              "    <tr>\n",
              "      <th>mean</th>\n",
              "      <td>0.54</td>\n",
              "      <td>0.04</td>\n",
              "      <td>0.43</td>\n",
              "      <td>0.05</td>\n",
              "      <td>0.46</td>\n",
              "      <td>0.04</td>\n",
              "    </tr>\n",
              "  </tbody>\n",
              "</table>\n",
              "</div>\n",
              "      <button class=\"colab-df-convert\" onclick=\"convertToInteractive('df-d431bf72-e76a-4acf-8402-9195e30fc26d')\"\n",
              "              title=\"Convert this dataframe to an interactive table.\"\n",
              "              style=\"display:none;\">\n",
              "        \n",
              "  <svg xmlns=\"http://www.w3.org/2000/svg\" height=\"24px\"viewBox=\"0 0 24 24\"\n",
              "       width=\"24px\">\n",
              "    <path d=\"M0 0h24v24H0V0z\" fill=\"none\"/>\n",
              "    <path d=\"M18.56 5.44l.94 2.06.94-2.06 2.06-.94-2.06-.94-.94-2.06-.94 2.06-2.06.94zm-11 1L8.5 8.5l.94-2.06 2.06-.94-2.06-.94L8.5 2.5l-.94 2.06-2.06.94zm10 10l.94 2.06.94-2.06 2.06-.94-2.06-.94-.94-2.06-.94 2.06-2.06.94z\"/><path d=\"M17.41 7.96l-1.37-1.37c-.4-.4-.92-.59-1.43-.59-.52 0-1.04.2-1.43.59L10.3 9.45l-7.72 7.72c-.78.78-.78 2.05 0 2.83L4 21.41c.39.39.9.59 1.41.59.51 0 1.02-.2 1.41-.59l7.78-7.78 2.81-2.81c.8-.78.8-2.07 0-2.86zM5.41 20L4 18.59l7.72-7.72 1.47 1.35L5.41 20z\"/>\n",
              "  </svg>\n",
              "      </button>\n",
              "      \n",
              "  <style>\n",
              "    .colab-df-container {\n",
              "      display:flex;\n",
              "      flex-wrap:wrap;\n",
              "      gap: 12px;\n",
              "    }\n",
              "\n",
              "    .colab-df-convert {\n",
              "      background-color: #E8F0FE;\n",
              "      border: none;\n",
              "      border-radius: 50%;\n",
              "      cursor: pointer;\n",
              "      display: none;\n",
              "      fill: #1967D2;\n",
              "      height: 32px;\n",
              "      padding: 0 0 0 0;\n",
              "      width: 32px;\n",
              "    }\n",
              "\n",
              "    .colab-df-convert:hover {\n",
              "      background-color: #E2EBFA;\n",
              "      box-shadow: 0px 1px 2px rgba(60, 64, 67, 0.3), 0px 1px 3px 1px rgba(60, 64, 67, 0.15);\n",
              "      fill: #174EA6;\n",
              "    }\n",
              "\n",
              "    [theme=dark] .colab-df-convert {\n",
              "      background-color: #3B4455;\n",
              "      fill: #D2E3FC;\n",
              "    }\n",
              "\n",
              "    [theme=dark] .colab-df-convert:hover {\n",
              "      background-color: #434B5C;\n",
              "      box-shadow: 0px 1px 3px 1px rgba(0, 0, 0, 0.15);\n",
              "      filter: drop-shadow(0px 1px 2px rgba(0, 0, 0, 0.3));\n",
              "      fill: #FFFFFF;\n",
              "    }\n",
              "  </style>\n",
              "\n",
              "      <script>\n",
              "        const buttonEl =\n",
              "          document.querySelector('#df-d431bf72-e76a-4acf-8402-9195e30fc26d button.colab-df-convert');\n",
              "        buttonEl.style.display =\n",
              "          google.colab.kernel.accessAllowed ? 'block' : 'none';\n",
              "\n",
              "        async function convertToInteractive(key) {\n",
              "          const element = document.querySelector('#df-d431bf72-e76a-4acf-8402-9195e30fc26d');\n",
              "          const dataTable =\n",
              "            await google.colab.kernel.invokeFunction('convertToInteractive',\n",
              "                                                     [key], {});\n",
              "          if (!dataTable) return;\n",
              "\n",
              "          const docLinkHtml = 'Like what you see? Visit the ' +\n",
              "            '<a target=\"_blank\" href=https://colab.research.google.com/notebooks/data_table.ipynb>data table notebook</a>'\n",
              "            + ' to learn more about interactive tables.';\n",
              "          element.innerHTML = '';\n",
              "          dataTable['output_type'] = 'display_data';\n",
              "          await google.colab.output.renderOutput(dataTable, element);\n",
              "          const docLink = document.createElement('div');\n",
              "          docLink.innerHTML = docLinkHtml;\n",
              "          element.appendChild(docLink);\n",
              "        }\n",
              "      </script>\n",
              "    </div>\n",
              "  </div>\n",
              "  "
            ]
          },
          "metadata": {},
          "execution_count": 54
        }
      ]
    },
    {
      "cell_type": "code",
      "source": [
        "metrics_nmf_kn"
      ],
      "metadata": {
        "colab": {
          "base_uri": "https://localhost:8080/",
          "height": 394
        },
        "id": "ocG_-paandYQ",
        "outputId": "309c1386-22b7-44c9-ba1c-af9e2cd568b9"
      },
      "id": "ocG_-paandYQ",
      "execution_count": null,
      "outputs": [
        {
          "output_type": "execute_result",
          "data": {
            "text/plain": [
              "                            precision  precision_std  recall  recall_std  \\\n",
              "Бытовая техника                  0.21           0.02    0.23        0.05   \n",
              "Товары для детей и игрушки       0.52           0.06    0.33        0.04   \n",
              "Ремонт и строительство           0.27           0.03    0.27        0.06   \n",
              "Мебель и интерьер                0.36           0.04    0.27        0.05   \n",
              "Квартиры                         0.85           0.07    0.84        0.05   \n",
              "Автомобили                       0.58           0.09    0.70        0.07   \n",
              "Предложение услуг                0.43           0.04    0.69        0.04   \n",
              "Одежда, обувь, аксессуары        0.54           0.01    0.58        0.03   \n",
              "Детская одежда и обувь           0.55           0.03    0.54        0.03   \n",
              "Телефоны                         0.68           0.04    0.44        0.03   \n",
              "mean                             0.50           0.04    0.49        0.05   \n",
              "\n",
              "                              f1  f1_std  \n",
              "Бытовая техника             0.22    0.03  \n",
              "Товары для детей и игрушки  0.40    0.04  \n",
              "Ремонт и строительство      0.27    0.04  \n",
              "Мебель и интерьер           0.30    0.04  \n",
              "Квартиры                    0.85    0.06  \n",
              "Автомобили                  0.63    0.08  \n",
              "Предложение услуг           0.53    0.04  \n",
              "Одежда, обувь, аксессуары   0.56    0.01  \n",
              "Детская одежда и обувь      0.55    0.02  \n",
              "Телефоны                    0.53    0.03  \n",
              "mean                        0.48    0.04  "
            ],
            "text/html": [
              "\n",
              "  <div id=\"df-adaf177c-6cfc-4be4-9d5d-96835d080a54\">\n",
              "    <div class=\"colab-df-container\">\n",
              "      <div>\n",
              "<style scoped>\n",
              "    .dataframe tbody tr th:only-of-type {\n",
              "        vertical-align: middle;\n",
              "    }\n",
              "\n",
              "    .dataframe tbody tr th {\n",
              "        vertical-align: top;\n",
              "    }\n",
              "\n",
              "    .dataframe thead th {\n",
              "        text-align: right;\n",
              "    }\n",
              "</style>\n",
              "<table border=\"1\" class=\"dataframe\">\n",
              "  <thead>\n",
              "    <tr style=\"text-align: right;\">\n",
              "      <th></th>\n",
              "      <th>precision</th>\n",
              "      <th>precision_std</th>\n",
              "      <th>recall</th>\n",
              "      <th>recall_std</th>\n",
              "      <th>f1</th>\n",
              "      <th>f1_std</th>\n",
              "    </tr>\n",
              "  </thead>\n",
              "  <tbody>\n",
              "    <tr>\n",
              "      <th>Бытовая техника</th>\n",
              "      <td>0.21</td>\n",
              "      <td>0.02</td>\n",
              "      <td>0.23</td>\n",
              "      <td>0.05</td>\n",
              "      <td>0.22</td>\n",
              "      <td>0.03</td>\n",
              "    </tr>\n",
              "    <tr>\n",
              "      <th>Товары для детей и игрушки</th>\n",
              "      <td>0.52</td>\n",
              "      <td>0.06</td>\n",
              "      <td>0.33</td>\n",
              "      <td>0.04</td>\n",
              "      <td>0.40</td>\n",
              "      <td>0.04</td>\n",
              "    </tr>\n",
              "    <tr>\n",
              "      <th>Ремонт и строительство</th>\n",
              "      <td>0.27</td>\n",
              "      <td>0.03</td>\n",
              "      <td>0.27</td>\n",
              "      <td>0.06</td>\n",
              "      <td>0.27</td>\n",
              "      <td>0.04</td>\n",
              "    </tr>\n",
              "    <tr>\n",
              "      <th>Мебель и интерьер</th>\n",
              "      <td>0.36</td>\n",
              "      <td>0.04</td>\n",
              "      <td>0.27</td>\n",
              "      <td>0.05</td>\n",
              "      <td>0.30</td>\n",
              "      <td>0.04</td>\n",
              "    </tr>\n",
              "    <tr>\n",
              "      <th>Квартиры</th>\n",
              "      <td>0.85</td>\n",
              "      <td>0.07</td>\n",
              "      <td>0.84</td>\n",
              "      <td>0.05</td>\n",
              "      <td>0.85</td>\n",
              "      <td>0.06</td>\n",
              "    </tr>\n",
              "    <tr>\n",
              "      <th>Автомобили</th>\n",
              "      <td>0.58</td>\n",
              "      <td>0.09</td>\n",
              "      <td>0.70</td>\n",
              "      <td>0.07</td>\n",
              "      <td>0.63</td>\n",
              "      <td>0.08</td>\n",
              "    </tr>\n",
              "    <tr>\n",
              "      <th>Предложение услуг</th>\n",
              "      <td>0.43</td>\n",
              "      <td>0.04</td>\n",
              "      <td>0.69</td>\n",
              "      <td>0.04</td>\n",
              "      <td>0.53</td>\n",
              "      <td>0.04</td>\n",
              "    </tr>\n",
              "    <tr>\n",
              "      <th>Одежда, обувь, аксессуары</th>\n",
              "      <td>0.54</td>\n",
              "      <td>0.01</td>\n",
              "      <td>0.58</td>\n",
              "      <td>0.03</td>\n",
              "      <td>0.56</td>\n",
              "      <td>0.01</td>\n",
              "    </tr>\n",
              "    <tr>\n",
              "      <th>Детская одежда и обувь</th>\n",
              "      <td>0.55</td>\n",
              "      <td>0.03</td>\n",
              "      <td>0.54</td>\n",
              "      <td>0.03</td>\n",
              "      <td>0.55</td>\n",
              "      <td>0.02</td>\n",
              "    </tr>\n",
              "    <tr>\n",
              "      <th>Телефоны</th>\n",
              "      <td>0.68</td>\n",
              "      <td>0.04</td>\n",
              "      <td>0.44</td>\n",
              "      <td>0.03</td>\n",
              "      <td>0.53</td>\n",
              "      <td>0.03</td>\n",
              "    </tr>\n",
              "    <tr>\n",
              "      <th>mean</th>\n",
              "      <td>0.50</td>\n",
              "      <td>0.04</td>\n",
              "      <td>0.49</td>\n",
              "      <td>0.05</td>\n",
              "      <td>0.48</td>\n",
              "      <td>0.04</td>\n",
              "    </tr>\n",
              "  </tbody>\n",
              "</table>\n",
              "</div>\n",
              "      <button class=\"colab-df-convert\" onclick=\"convertToInteractive('df-adaf177c-6cfc-4be4-9d5d-96835d080a54')\"\n",
              "              title=\"Convert this dataframe to an interactive table.\"\n",
              "              style=\"display:none;\">\n",
              "        \n",
              "  <svg xmlns=\"http://www.w3.org/2000/svg\" height=\"24px\"viewBox=\"0 0 24 24\"\n",
              "       width=\"24px\">\n",
              "    <path d=\"M0 0h24v24H0V0z\" fill=\"none\"/>\n",
              "    <path d=\"M18.56 5.44l.94 2.06.94-2.06 2.06-.94-2.06-.94-.94-2.06-.94 2.06-2.06.94zm-11 1L8.5 8.5l.94-2.06 2.06-.94-2.06-.94L8.5 2.5l-.94 2.06-2.06.94zm10 10l.94 2.06.94-2.06 2.06-.94-2.06-.94-.94-2.06-.94 2.06-2.06.94z\"/><path d=\"M17.41 7.96l-1.37-1.37c-.4-.4-.92-.59-1.43-.59-.52 0-1.04.2-1.43.59L10.3 9.45l-7.72 7.72c-.78.78-.78 2.05 0 2.83L4 21.41c.39.39.9.59 1.41.59.51 0 1.02-.2 1.41-.59l7.78-7.78 2.81-2.81c.8-.78.8-2.07 0-2.86zM5.41 20L4 18.59l7.72-7.72 1.47 1.35L5.41 20z\"/>\n",
              "  </svg>\n",
              "      </button>\n",
              "      \n",
              "  <style>\n",
              "    .colab-df-container {\n",
              "      display:flex;\n",
              "      flex-wrap:wrap;\n",
              "      gap: 12px;\n",
              "    }\n",
              "\n",
              "    .colab-df-convert {\n",
              "      background-color: #E8F0FE;\n",
              "      border: none;\n",
              "      border-radius: 50%;\n",
              "      cursor: pointer;\n",
              "      display: none;\n",
              "      fill: #1967D2;\n",
              "      height: 32px;\n",
              "      padding: 0 0 0 0;\n",
              "      width: 32px;\n",
              "    }\n",
              "\n",
              "    .colab-df-convert:hover {\n",
              "      background-color: #E2EBFA;\n",
              "      box-shadow: 0px 1px 2px rgba(60, 64, 67, 0.3), 0px 1px 3px 1px rgba(60, 64, 67, 0.15);\n",
              "      fill: #174EA6;\n",
              "    }\n",
              "\n",
              "    [theme=dark] .colab-df-convert {\n",
              "      background-color: #3B4455;\n",
              "      fill: #D2E3FC;\n",
              "    }\n",
              "\n",
              "    [theme=dark] .colab-df-convert:hover {\n",
              "      background-color: #434B5C;\n",
              "      box-shadow: 0px 1px 3px 1px rgba(0, 0, 0, 0.15);\n",
              "      filter: drop-shadow(0px 1px 2px rgba(0, 0, 0, 0.3));\n",
              "      fill: #FFFFFF;\n",
              "    }\n",
              "  </style>\n",
              "\n",
              "      <script>\n",
              "        const buttonEl =\n",
              "          document.querySelector('#df-adaf177c-6cfc-4be4-9d5d-96835d080a54 button.colab-df-convert');\n",
              "        buttonEl.style.display =\n",
              "          google.colab.kernel.accessAllowed ? 'block' : 'none';\n",
              "\n",
              "        async function convertToInteractive(key) {\n",
              "          const element = document.querySelector('#df-adaf177c-6cfc-4be4-9d5d-96835d080a54');\n",
              "          const dataTable =\n",
              "            await google.colab.kernel.invokeFunction('convertToInteractive',\n",
              "                                                     [key], {});\n",
              "          if (!dataTable) return;\n",
              "\n",
              "          const docLinkHtml = 'Like what you see? Visit the ' +\n",
              "            '<a target=\"_blank\" href=https://colab.research.google.com/notebooks/data_table.ipynb>data table notebook</a>'\n",
              "            + ' to learn more about interactive tables.';\n",
              "          element.innerHTML = '';\n",
              "          dataTable['output_type'] = 'display_data';\n",
              "          await google.colab.output.renderOutput(dataTable, element);\n",
              "          const docLink = document.createElement('div');\n",
              "          docLink.innerHTML = docLinkHtml;\n",
              "          element.appendChild(docLink);\n",
              "        }\n",
              "      </script>\n",
              "    </div>\n",
              "  </div>\n",
              "  "
            ]
          },
          "metadata": {},
          "execution_count": 55
        }
      ]
    },
    {
      "cell_type": "markdown",
      "source": [
        "ExtraTrees"
      ],
      "metadata": {
        "id": "a7UyLORsnkZo"
      },
      "id": "a7UyLORsnkZo"
    },
    {
      "cell_type": "code",
      "source": [
        "metrics_svd_et"
      ],
      "metadata": {
        "colab": {
          "base_uri": "https://localhost:8080/",
          "height": 394
        },
        "id": "WE5n1rtKndV0",
        "outputId": "42cb32df-adc1-4abe-a677-1d93127a0897"
      },
      "id": "WE5n1rtKndV0",
      "execution_count": null,
      "outputs": [
        {
          "output_type": "execute_result",
          "data": {
            "text/plain": [
              "                            precision  precision_std  recall  recall_std  \\\n",
              "Бытовая техника                  0.53           0.05    0.13        0.03   \n",
              "Товары для детей и игрушки       0.66           0.08    0.15        0.04   \n",
              "Ремонт и строительство           0.58           0.14    0.09        0.03   \n",
              "Мебель и интерьер                0.83           0.13    0.12        0.02   \n",
              "Квартиры                         0.74           0.02    0.81        0.02   \n",
              "Автомобили                       0.79           0.07    0.46        0.05   \n",
              "Предложение услуг                0.89           0.01    0.27        0.04   \n",
              "Одежда, обувь, аксессуары        0.46           0.01    0.72        0.02   \n",
              "Детская одежда и обувь           0.44           0.02    0.72        0.02   \n",
              "Телефоны                         0.87           0.05    0.30        0.07   \n",
              "mean                             0.68           0.06    0.38        0.03   \n",
              "\n",
              "                              f1  f1_std  \n",
              "Бытовая техника             0.21    0.05  \n",
              "Товары для детей и игрушки  0.25    0.05  \n",
              "Ремонт и строительство      0.15    0.05  \n",
              "Мебель и интерьер           0.21    0.03  \n",
              "Квартиры                    0.77    0.01  \n",
              "Автомобили                  0.58    0.04  \n",
              "Предложение услуг           0.42    0.04  \n",
              "Одежда, обувь, аксессуары   0.56    0.01  \n",
              "Детская одежда и обувь      0.54    0.02  \n",
              "Телефоны                    0.44    0.07  \n",
              "mean                        0.41    0.04  "
            ],
            "text/html": [
              "\n",
              "  <div id=\"df-b901da5e-559a-43cc-a4bf-56602f22cd15\">\n",
              "    <div class=\"colab-df-container\">\n",
              "      <div>\n",
              "<style scoped>\n",
              "    .dataframe tbody tr th:only-of-type {\n",
              "        vertical-align: middle;\n",
              "    }\n",
              "\n",
              "    .dataframe tbody tr th {\n",
              "        vertical-align: top;\n",
              "    }\n",
              "\n",
              "    .dataframe thead th {\n",
              "        text-align: right;\n",
              "    }\n",
              "</style>\n",
              "<table border=\"1\" class=\"dataframe\">\n",
              "  <thead>\n",
              "    <tr style=\"text-align: right;\">\n",
              "      <th></th>\n",
              "      <th>precision</th>\n",
              "      <th>precision_std</th>\n",
              "      <th>recall</th>\n",
              "      <th>recall_std</th>\n",
              "      <th>f1</th>\n",
              "      <th>f1_std</th>\n",
              "    </tr>\n",
              "  </thead>\n",
              "  <tbody>\n",
              "    <tr>\n",
              "      <th>Бытовая техника</th>\n",
              "      <td>0.53</td>\n",
              "      <td>0.05</td>\n",
              "      <td>0.13</td>\n",
              "      <td>0.03</td>\n",
              "      <td>0.21</td>\n",
              "      <td>0.05</td>\n",
              "    </tr>\n",
              "    <tr>\n",
              "      <th>Товары для детей и игрушки</th>\n",
              "      <td>0.66</td>\n",
              "      <td>0.08</td>\n",
              "      <td>0.15</td>\n",
              "      <td>0.04</td>\n",
              "      <td>0.25</td>\n",
              "      <td>0.05</td>\n",
              "    </tr>\n",
              "    <tr>\n",
              "      <th>Ремонт и строительство</th>\n",
              "      <td>0.58</td>\n",
              "      <td>0.14</td>\n",
              "      <td>0.09</td>\n",
              "      <td>0.03</td>\n",
              "      <td>0.15</td>\n",
              "      <td>0.05</td>\n",
              "    </tr>\n",
              "    <tr>\n",
              "      <th>Мебель и интерьер</th>\n",
              "      <td>0.83</td>\n",
              "      <td>0.13</td>\n",
              "      <td>0.12</td>\n",
              "      <td>0.02</td>\n",
              "      <td>0.21</td>\n",
              "      <td>0.03</td>\n",
              "    </tr>\n",
              "    <tr>\n",
              "      <th>Квартиры</th>\n",
              "      <td>0.74</td>\n",
              "      <td>0.02</td>\n",
              "      <td>0.81</td>\n",
              "      <td>0.02</td>\n",
              "      <td>0.77</td>\n",
              "      <td>0.01</td>\n",
              "    </tr>\n",
              "    <tr>\n",
              "      <th>Автомобили</th>\n",
              "      <td>0.79</td>\n",
              "      <td>0.07</td>\n",
              "      <td>0.46</td>\n",
              "      <td>0.05</td>\n",
              "      <td>0.58</td>\n",
              "      <td>0.04</td>\n",
              "    </tr>\n",
              "    <tr>\n",
              "      <th>Предложение услуг</th>\n",
              "      <td>0.89</td>\n",
              "      <td>0.01</td>\n",
              "      <td>0.27</td>\n",
              "      <td>0.04</td>\n",
              "      <td>0.42</td>\n",
              "      <td>0.04</td>\n",
              "    </tr>\n",
              "    <tr>\n",
              "      <th>Одежда, обувь, аксессуары</th>\n",
              "      <td>0.46</td>\n",
              "      <td>0.01</td>\n",
              "      <td>0.72</td>\n",
              "      <td>0.02</td>\n",
              "      <td>0.56</td>\n",
              "      <td>0.01</td>\n",
              "    </tr>\n",
              "    <tr>\n",
              "      <th>Детская одежда и обувь</th>\n",
              "      <td>0.44</td>\n",
              "      <td>0.02</td>\n",
              "      <td>0.72</td>\n",
              "      <td>0.02</td>\n",
              "      <td>0.54</td>\n",
              "      <td>0.02</td>\n",
              "    </tr>\n",
              "    <tr>\n",
              "      <th>Телефоны</th>\n",
              "      <td>0.87</td>\n",
              "      <td>0.05</td>\n",
              "      <td>0.30</td>\n",
              "      <td>0.07</td>\n",
              "      <td>0.44</td>\n",
              "      <td>0.07</td>\n",
              "    </tr>\n",
              "    <tr>\n",
              "      <th>mean</th>\n",
              "      <td>0.68</td>\n",
              "      <td>0.06</td>\n",
              "      <td>0.38</td>\n",
              "      <td>0.03</td>\n",
              "      <td>0.41</td>\n",
              "      <td>0.04</td>\n",
              "    </tr>\n",
              "  </tbody>\n",
              "</table>\n",
              "</div>\n",
              "      <button class=\"colab-df-convert\" onclick=\"convertToInteractive('df-b901da5e-559a-43cc-a4bf-56602f22cd15')\"\n",
              "              title=\"Convert this dataframe to an interactive table.\"\n",
              "              style=\"display:none;\">\n",
              "        \n",
              "  <svg xmlns=\"http://www.w3.org/2000/svg\" height=\"24px\"viewBox=\"0 0 24 24\"\n",
              "       width=\"24px\">\n",
              "    <path d=\"M0 0h24v24H0V0z\" fill=\"none\"/>\n",
              "    <path d=\"M18.56 5.44l.94 2.06.94-2.06 2.06-.94-2.06-.94-.94-2.06-.94 2.06-2.06.94zm-11 1L8.5 8.5l.94-2.06 2.06-.94-2.06-.94L8.5 2.5l-.94 2.06-2.06.94zm10 10l.94 2.06.94-2.06 2.06-.94-2.06-.94-.94-2.06-.94 2.06-2.06.94z\"/><path d=\"M17.41 7.96l-1.37-1.37c-.4-.4-.92-.59-1.43-.59-.52 0-1.04.2-1.43.59L10.3 9.45l-7.72 7.72c-.78.78-.78 2.05 0 2.83L4 21.41c.39.39.9.59 1.41.59.51 0 1.02-.2 1.41-.59l7.78-7.78 2.81-2.81c.8-.78.8-2.07 0-2.86zM5.41 20L4 18.59l7.72-7.72 1.47 1.35L5.41 20z\"/>\n",
              "  </svg>\n",
              "      </button>\n",
              "      \n",
              "  <style>\n",
              "    .colab-df-container {\n",
              "      display:flex;\n",
              "      flex-wrap:wrap;\n",
              "      gap: 12px;\n",
              "    }\n",
              "\n",
              "    .colab-df-convert {\n",
              "      background-color: #E8F0FE;\n",
              "      border: none;\n",
              "      border-radius: 50%;\n",
              "      cursor: pointer;\n",
              "      display: none;\n",
              "      fill: #1967D2;\n",
              "      height: 32px;\n",
              "      padding: 0 0 0 0;\n",
              "      width: 32px;\n",
              "    }\n",
              "\n",
              "    .colab-df-convert:hover {\n",
              "      background-color: #E2EBFA;\n",
              "      box-shadow: 0px 1px 2px rgba(60, 64, 67, 0.3), 0px 1px 3px 1px rgba(60, 64, 67, 0.15);\n",
              "      fill: #174EA6;\n",
              "    }\n",
              "\n",
              "    [theme=dark] .colab-df-convert {\n",
              "      background-color: #3B4455;\n",
              "      fill: #D2E3FC;\n",
              "    }\n",
              "\n",
              "    [theme=dark] .colab-df-convert:hover {\n",
              "      background-color: #434B5C;\n",
              "      box-shadow: 0px 1px 3px 1px rgba(0, 0, 0, 0.15);\n",
              "      filter: drop-shadow(0px 1px 2px rgba(0, 0, 0, 0.3));\n",
              "      fill: #FFFFFF;\n",
              "    }\n",
              "  </style>\n",
              "\n",
              "      <script>\n",
              "        const buttonEl =\n",
              "          document.querySelector('#df-b901da5e-559a-43cc-a4bf-56602f22cd15 button.colab-df-convert');\n",
              "        buttonEl.style.display =\n",
              "          google.colab.kernel.accessAllowed ? 'block' : 'none';\n",
              "\n",
              "        async function convertToInteractive(key) {\n",
              "          const element = document.querySelector('#df-b901da5e-559a-43cc-a4bf-56602f22cd15');\n",
              "          const dataTable =\n",
              "            await google.colab.kernel.invokeFunction('convertToInteractive',\n",
              "                                                     [key], {});\n",
              "          if (!dataTable) return;\n",
              "\n",
              "          const docLinkHtml = 'Like what you see? Visit the ' +\n",
              "            '<a target=\"_blank\" href=https://colab.research.google.com/notebooks/data_table.ipynb>data table notebook</a>'\n",
              "            + ' to learn more about interactive tables.';\n",
              "          element.innerHTML = '';\n",
              "          dataTable['output_type'] = 'display_data';\n",
              "          await google.colab.output.renderOutput(dataTable, element);\n",
              "          const docLink = document.createElement('div');\n",
              "          docLink.innerHTML = docLinkHtml;\n",
              "          element.appendChild(docLink);\n",
              "        }\n",
              "      </script>\n",
              "    </div>\n",
              "  </div>\n",
              "  "
            ]
          },
          "metadata": {},
          "execution_count": 56
        }
      ]
    },
    {
      "cell_type": "code",
      "source": [
        "metrics_nmf_et"
      ],
      "metadata": {
        "colab": {
          "base_uri": "https://localhost:8080/",
          "height": 394
        },
        "id": "NRiJEeVEndTN",
        "outputId": "153c372c-f43c-463c-8c9f-2917f9b3fe10"
      },
      "id": "NRiJEeVEndTN",
      "execution_count": null,
      "outputs": [
        {
          "output_type": "execute_result",
          "data": {
            "text/plain": [
              "                            precision  precision_std  recall  recall_std  \\\n",
              "Бытовая техника                  0.67           0.12    0.30        0.10   \n",
              "Товары для детей и игрушки       0.76           0.03    0.61        0.04   \n",
              "Ремонт и строительство           0.57           0.06    0.44        0.05   \n",
              "Мебель и интерьер                0.69           0.05    0.52        0.03   \n",
              "Квартиры                         0.92           0.04    0.96        0.02   \n",
              "Автомобили                       0.85           0.03    0.91        0.02   \n",
              "Предложение услуг                0.69           0.04    0.75        0.03   \n",
              "Одежда, обувь, аксессуары        0.69           0.02    0.80        0.03   \n",
              "Детская одежда и обувь           0.74           0.02    0.77        0.03   \n",
              "Телефоны                         0.79           0.03    0.78        0.06   \n",
              "mean                             0.74           0.04    0.68        0.04   \n",
              "\n",
              "                              f1  f1_std  \n",
              "Бытовая техника             0.41    0.11  \n",
              "Товары для детей и игрушки  0.68    0.04  \n",
              "Ремонт и строительство      0.50    0.05  \n",
              "Мебель и интерьер           0.59    0.04  \n",
              "Квартиры                    0.94    0.02  \n",
              "Автомобили                  0.88    0.02  \n",
              "Предложение услуг           0.72    0.03  \n",
              "Одежда, обувь, аксессуары   0.74    0.02  \n",
              "Детская одежда и обувь      0.76    0.02  \n",
              "Телефоны                    0.78    0.04  \n",
              "mean                        0.70    0.04  "
            ],
            "text/html": [
              "\n",
              "  <div id=\"df-edec4df9-6506-4bdf-a1a5-2456c09da077\">\n",
              "    <div class=\"colab-df-container\">\n",
              "      <div>\n",
              "<style scoped>\n",
              "    .dataframe tbody tr th:only-of-type {\n",
              "        vertical-align: middle;\n",
              "    }\n",
              "\n",
              "    .dataframe tbody tr th {\n",
              "        vertical-align: top;\n",
              "    }\n",
              "\n",
              "    .dataframe thead th {\n",
              "        text-align: right;\n",
              "    }\n",
              "</style>\n",
              "<table border=\"1\" class=\"dataframe\">\n",
              "  <thead>\n",
              "    <tr style=\"text-align: right;\">\n",
              "      <th></th>\n",
              "      <th>precision</th>\n",
              "      <th>precision_std</th>\n",
              "      <th>recall</th>\n",
              "      <th>recall_std</th>\n",
              "      <th>f1</th>\n",
              "      <th>f1_std</th>\n",
              "    </tr>\n",
              "  </thead>\n",
              "  <tbody>\n",
              "    <tr>\n",
              "      <th>Бытовая техника</th>\n",
              "      <td>0.67</td>\n",
              "      <td>0.12</td>\n",
              "      <td>0.30</td>\n",
              "      <td>0.10</td>\n",
              "      <td>0.41</td>\n",
              "      <td>0.11</td>\n",
              "    </tr>\n",
              "    <tr>\n",
              "      <th>Товары для детей и игрушки</th>\n",
              "      <td>0.76</td>\n",
              "      <td>0.03</td>\n",
              "      <td>0.61</td>\n",
              "      <td>0.04</td>\n",
              "      <td>0.68</td>\n",
              "      <td>0.04</td>\n",
              "    </tr>\n",
              "    <tr>\n",
              "      <th>Ремонт и строительство</th>\n",
              "      <td>0.57</td>\n",
              "      <td>0.06</td>\n",
              "      <td>0.44</td>\n",
              "      <td>0.05</td>\n",
              "      <td>0.50</td>\n",
              "      <td>0.05</td>\n",
              "    </tr>\n",
              "    <tr>\n",
              "      <th>Мебель и интерьер</th>\n",
              "      <td>0.69</td>\n",
              "      <td>0.05</td>\n",
              "      <td>0.52</td>\n",
              "      <td>0.03</td>\n",
              "      <td>0.59</td>\n",
              "      <td>0.04</td>\n",
              "    </tr>\n",
              "    <tr>\n",
              "      <th>Квартиры</th>\n",
              "      <td>0.92</td>\n",
              "      <td>0.04</td>\n",
              "      <td>0.96</td>\n",
              "      <td>0.02</td>\n",
              "      <td>0.94</td>\n",
              "      <td>0.02</td>\n",
              "    </tr>\n",
              "    <tr>\n",
              "      <th>Автомобили</th>\n",
              "      <td>0.85</td>\n",
              "      <td>0.03</td>\n",
              "      <td>0.91</td>\n",
              "      <td>0.02</td>\n",
              "      <td>0.88</td>\n",
              "      <td>0.02</td>\n",
              "    </tr>\n",
              "    <tr>\n",
              "      <th>Предложение услуг</th>\n",
              "      <td>0.69</td>\n",
              "      <td>0.04</td>\n",
              "      <td>0.75</td>\n",
              "      <td>0.03</td>\n",
              "      <td>0.72</td>\n",
              "      <td>0.03</td>\n",
              "    </tr>\n",
              "    <tr>\n",
              "      <th>Одежда, обувь, аксессуары</th>\n",
              "      <td>0.69</td>\n",
              "      <td>0.02</td>\n",
              "      <td>0.80</td>\n",
              "      <td>0.03</td>\n",
              "      <td>0.74</td>\n",
              "      <td>0.02</td>\n",
              "    </tr>\n",
              "    <tr>\n",
              "      <th>Детская одежда и обувь</th>\n",
              "      <td>0.74</td>\n",
              "      <td>0.02</td>\n",
              "      <td>0.77</td>\n",
              "      <td>0.03</td>\n",
              "      <td>0.76</td>\n",
              "      <td>0.02</td>\n",
              "    </tr>\n",
              "    <tr>\n",
              "      <th>Телефоны</th>\n",
              "      <td>0.79</td>\n",
              "      <td>0.03</td>\n",
              "      <td>0.78</td>\n",
              "      <td>0.06</td>\n",
              "      <td>0.78</td>\n",
              "      <td>0.04</td>\n",
              "    </tr>\n",
              "    <tr>\n",
              "      <th>mean</th>\n",
              "      <td>0.74</td>\n",
              "      <td>0.04</td>\n",
              "      <td>0.68</td>\n",
              "      <td>0.04</td>\n",
              "      <td>0.70</td>\n",
              "      <td>0.04</td>\n",
              "    </tr>\n",
              "  </tbody>\n",
              "</table>\n",
              "</div>\n",
              "      <button class=\"colab-df-convert\" onclick=\"convertToInteractive('df-edec4df9-6506-4bdf-a1a5-2456c09da077')\"\n",
              "              title=\"Convert this dataframe to an interactive table.\"\n",
              "              style=\"display:none;\">\n",
              "        \n",
              "  <svg xmlns=\"http://www.w3.org/2000/svg\" height=\"24px\"viewBox=\"0 0 24 24\"\n",
              "       width=\"24px\">\n",
              "    <path d=\"M0 0h24v24H0V0z\" fill=\"none\"/>\n",
              "    <path d=\"M18.56 5.44l.94 2.06.94-2.06 2.06-.94-2.06-.94-.94-2.06-.94 2.06-2.06.94zm-11 1L8.5 8.5l.94-2.06 2.06-.94-2.06-.94L8.5 2.5l-.94 2.06-2.06.94zm10 10l.94 2.06.94-2.06 2.06-.94-2.06-.94-.94-2.06-.94 2.06-2.06.94z\"/><path d=\"M17.41 7.96l-1.37-1.37c-.4-.4-.92-.59-1.43-.59-.52 0-1.04.2-1.43.59L10.3 9.45l-7.72 7.72c-.78.78-.78 2.05 0 2.83L4 21.41c.39.39.9.59 1.41.59.51 0 1.02-.2 1.41-.59l7.78-7.78 2.81-2.81c.8-.78.8-2.07 0-2.86zM5.41 20L4 18.59l7.72-7.72 1.47 1.35L5.41 20z\"/>\n",
              "  </svg>\n",
              "      </button>\n",
              "      \n",
              "  <style>\n",
              "    .colab-df-container {\n",
              "      display:flex;\n",
              "      flex-wrap:wrap;\n",
              "      gap: 12px;\n",
              "    }\n",
              "\n",
              "    .colab-df-convert {\n",
              "      background-color: #E8F0FE;\n",
              "      border: none;\n",
              "      border-radius: 50%;\n",
              "      cursor: pointer;\n",
              "      display: none;\n",
              "      fill: #1967D2;\n",
              "      height: 32px;\n",
              "      padding: 0 0 0 0;\n",
              "      width: 32px;\n",
              "    }\n",
              "\n",
              "    .colab-df-convert:hover {\n",
              "      background-color: #E2EBFA;\n",
              "      box-shadow: 0px 1px 2px rgba(60, 64, 67, 0.3), 0px 1px 3px 1px rgba(60, 64, 67, 0.15);\n",
              "      fill: #174EA6;\n",
              "    }\n",
              "\n",
              "    [theme=dark] .colab-df-convert {\n",
              "      background-color: #3B4455;\n",
              "      fill: #D2E3FC;\n",
              "    }\n",
              "\n",
              "    [theme=dark] .colab-df-convert:hover {\n",
              "      background-color: #434B5C;\n",
              "      box-shadow: 0px 1px 3px 1px rgba(0, 0, 0, 0.15);\n",
              "      filter: drop-shadow(0px 1px 2px rgba(0, 0, 0, 0.3));\n",
              "      fill: #FFFFFF;\n",
              "    }\n",
              "  </style>\n",
              "\n",
              "      <script>\n",
              "        const buttonEl =\n",
              "          document.querySelector('#df-edec4df9-6506-4bdf-a1a5-2456c09da077 button.colab-df-convert');\n",
              "        buttonEl.style.display =\n",
              "          google.colab.kernel.accessAllowed ? 'block' : 'none';\n",
              "\n",
              "        async function convertToInteractive(key) {\n",
              "          const element = document.querySelector('#df-edec4df9-6506-4bdf-a1a5-2456c09da077');\n",
              "          const dataTable =\n",
              "            await google.colab.kernel.invokeFunction('convertToInteractive',\n",
              "                                                     [key], {});\n",
              "          if (!dataTable) return;\n",
              "\n",
              "          const docLinkHtml = 'Like what you see? Visit the ' +\n",
              "            '<a target=\"_blank\" href=https://colab.research.google.com/notebooks/data_table.ipynb>data table notebook</a>'\n",
              "            + ' to learn more about interactive tables.';\n",
              "          element.innerHTML = '';\n",
              "          dataTable['output_type'] = 'display_data';\n",
              "          await google.colab.output.renderOutput(dataTable, element);\n",
              "          const docLink = document.createElement('div');\n",
              "          docLink.innerHTML = docLinkHtml;\n",
              "          element.appendChild(docLink);\n",
              "        }\n",
              "      </script>\n",
              "    </div>\n",
              "  </div>\n",
              "  "
            ]
          },
          "metadata": {},
          "execution_count": 57
        }
      ]
    },
    {
      "cell_type": "markdown",
      "source": [
        "Выводы:\n",
        "\n",
        "(перед собственно итогами надо отметить, что пришлось поэкспериментировать с KNeighborsClassifier, поскольку дефолтный n_neighbors=3 дал плохие показатели по метрикам. С увеличением параметра результаты улучшились, хотя разница между n_neighbors=5 и n_neighbors=7 получилась невелика).\n",
        "\n",
        "Если смотреть метрики по отдельным тематическим категориям, то результаты сильно разнятся от комбинации к комбинации и не всегда коррелируют с показателями, относящимися к среднему. А вот в графе mean можно выделить лидеров.\n",
        "\n",
        "В комбинации с svd-разложением лучший результат показал SGDClassifier с результатами (mean) precision 0.76, recall 0.72, F1 0.74\n",
        "\n",
        "В комбинации с nmf-разложением лучший результат показал ExtraTreesClassifier с результатами (mean) precision 0.74, recall 0.68, F1 0.70"
      ],
      "metadata": {
        "id": "Pm5NL3hotEkH"
      },
      "id": "Pm5NL3hotEkH"
    },
    {
      "cell_type": "markdown",
      "id": "8436142a",
      "metadata": {
        "id": "8436142a"
      },
      "source": [
        "### Задание № 2 (6 баллов)"
      ]
    },
    {
      "cell_type": "markdown",
      "id": "6cb61f26",
      "metadata": {
        "id": "6cb61f26"
      },
      "source": [
        "В Gensim тоже можно добавить нграммы и tfidf. Постройте 1 модель без них (как в семинаре) и еще 3 модели (1 с нграммами, 1 с tfidf и 1 с нграммами и с tfidf). Сранивте качество с помощью метрик (перплексия, когерентность) и на глаз. Определите лучшую модель. Для каждой модели выберите 1 самую красивую на ваш взгляд тему.\n",
        "\n",
        "Используйте данные википедии из семинара. Можете взять поменьше данных, если все обучается долго.\n",
        "\n",
        "Важное требование - получившиеся модели не должны быть совсем плохими. Если хороших тем не получается, попробуйте настроить гиперпараметры, отфильтровать словарь по-другому. "
      ]
    },
    {
      "cell_type": "markdown",
      "id": "078f483a",
      "metadata": {
        "id": "078f483a"
      },
      "source": [
        "Нграммы добавляются вот так (перед созданиеv словаря)"
      ]
    },
    {
      "cell_type": "code",
      "execution_count": null,
      "id": "063bc5f6",
      "metadata": {
        "id": "063bc5f6"
      },
      "outputs": [],
      "source": [
        "texts = [text.split() for text in texts]\n",
        "ph = gensim.models.Phrases(texts, scoring='npmi', threshold=0.4) # threshold можно подбирать\n",
        "p = gensim.models.phrases.Phraser(ph)\n",
        "ngrammed_texts = p[texts] \n",
        "\n",
        "# ! не забудьте, что далее вам нужно будет использовать ngrammed_texts"
      ]
    },
    {
      "cell_type": "markdown",
      "id": "18bd49ff",
      "metadata": {
        "id": "18bd49ff"
      },
      "source": [
        "!! В модели с нграммами вначале посмотрите, что получается после преобразования\n",
        "Если вы выведите несколько первых текстов в ngrammed_texts, то там должно быть что-то такое:"
      ]
    },
    {
      "cell_type": "code",
      "execution_count": null,
      "id": "a82d1d14",
      "metadata": {
        "id": "a82d1d14"
      },
      "outputs": [],
      "source": [
        "[text for text in ngrammed_texts[:3]]\n",
        ">> [['новостройка',\n",
        "  'нижегородский_область', # нграм\n",
        "  'новостро́йка',\n",
        "  '—',\n",
        "  'сельский',\n",
        "  'посёлок',\n",
        "  'в',\n",
        "  'дивеевский_район', # нграм\n",
        "  'нижегородский_область', #нграмм\n",
        "  'входить',\n",
        "  'в',\n",
        "  'состав_сатисский', #нграмм\n",
        "  'сельсовет',\n",
        "  'посёлок',\n",
        "  'расположить',\n",
        "  'в',\n",
        "  '12,5',\n",
        "  'километр',\n",
        "...."
      ]
    },
    {
      "cell_type": "markdown",
      "id": "c0b38964",
      "metadata": {
        "id": "c0b38964"
      },
      "source": [
        "Если вы не видите нграммов, то попробуйте изменить параметр threshold"
      ]
    },
    {
      "cell_type": "markdown",
      "id": "6dccad9a",
      "metadata": {
        "id": "6dccad9a"
      },
      "source": [
        "Tfidf добавляется вот так (после векторизации и перед обучением lda)"
      ]
    },
    {
      "cell_type": "code",
      "execution_count": null,
      "id": "e6121148",
      "metadata": {
        "id": "e6121148"
      },
      "outputs": [],
      "source": [
        "tfidf = gensim.models.TfidfModel(corpus, id2word=dictionary, )\n",
        "corpus = tfidf[corpus]"
      ]
    },
    {
      "cell_type": "markdown",
      "source": [
        "Gensim без ngram и TfIdf"
      ],
      "metadata": {
        "id": "Qf93J1lt2Ul8"
      },
      "id": "Qf93J1lt2Ul8"
    },
    {
      "cell_type": "code",
      "source": [
        "texts = open('wiki_data.txt').read().splitlines()[:5000]\n",
        "texts = ([normalize(text) for text in texts])"
      ],
      "metadata": {
        "id": "IyIRw6xa9V-O"
      },
      "id": "IyIRw6xa9V-O",
      "execution_count": null,
      "outputs": []
    },
    {
      "cell_type": "code",
      "execution_count": null,
      "id": "69bcd282",
      "metadata": {
        "id": "69bcd282"
      },
      "outputs": [],
      "source": [
        "dictinary = gensim.corpora.Dictionary((text.split() for text in texts))"
      ]
    },
    {
      "cell_type": "code",
      "execution_count": null,
      "id": "97cfe39e",
      "metadata": {
        "id": "97cfe39e"
      },
      "outputs": [],
      "source": [
        "dictinary.filter_extremes(no_above=0.5, no_below=10)\n",
        "dictinary.compactify()"
      ]
    },
    {
      "cell_type": "code",
      "execution_count": null,
      "id": "75e7af07",
      "metadata": {
        "id": "75e7af07"
      },
      "outputs": [],
      "source": [
        "corpus = [dictinary.doc2bow(text.split()) for text in texts]"
      ]
    },
    {
      "cell_type": "code",
      "source": [
        "lda = gensim.models.LdaModel(corpus, 200, id2word=dictinary, passes=5)"
      ],
      "metadata": {
        "id": "JmeadEKFAaeC"
      },
      "id": "JmeadEKFAaeC",
      "execution_count": null,
      "outputs": []
    },
    {
      "cell_type": "code",
      "source": [
        "lda.print_topics()"
      ],
      "metadata": {
        "colab": {
          "base_uri": "https://localhost:8080/"
        },
        "id": "oeavZ31DBIs0",
        "outputId": "6fa08cec-2c9b-4cac-b079-a6417f96f272"
      },
      "id": "oeavZ31DBIs0",
      "execution_count": null,
      "outputs": [
        {
          "output_type": "execute_result",
          "data": {
            "text/plain": [
              "[(86,\n",
              "  '0.008*\"общество\" + 0.008*\"развитие\" + 0.008*\"организация\" + 0.007*\"уровень\" + 0.007*\"цель\" + 0.006*\"состояться\" + 0.006*\"провести\" + 0.006*\"решение\" + 0.006*\"дальнейший\" + 0.006*\"результат\"'),\n",
              " (12,\n",
              "  '0.046*\"бой\" + 0.039*\"сражение\" + 0.036*\"флотилия\" + 0.025*\"удар\" + 0.023*\"английский\" + 0.022*\"флот\" + 0.017*\"нога\" + 0.017*\"боец\" + 0.014*\"развивать\" + 0.014*\"фрегат\"'),\n",
              " (199,\n",
              "  '0.021*\"император\" + 0.019*\"король\" + 0.011*\"фон\" + 0.011*\"против\" + 0.009*\"правление\" + 0.008*\"iii\" + 0.008*\"смерть\" + 0.008*\"власть\" + 0.008*\"франция\" + 0.008*\"сын\"'),\n",
              " (35,\n",
              "  '0.088*\"карта\" + 0.076*\"нил\" + 0.057*\"процесс\" + 0.030*\"параметр\" + 0.027*\"грязь\" + 0.024*\"обработка\" + 0.023*\"вследствие\" + 0.022*\"классификация\" + 0.019*\"сочетание\" + 0.017*\"график\"'),\n",
              " (13,\n",
              "  '0.020*\"брат\" + 0.017*\"маргарита\" + 0.015*\"мать\" + 0.013*\"павел\" + 0.011*\"дядя\" + 0.011*\"римский\" + 0.010*\"внук\" + 0.010*\"дед\" + 0.010*\"хабаровский\" + 0.010*\"краевой\"'),\n",
              " (135,\n",
              "  '0.114*\"мир\" + 0.078*\"чемпионат\" + 0.062*\"чемпион\" + 0.060*\"европа\" + 0.056*\"метр\" + 0.046*\"дистанция\" + 0.043*\"серебряный\" + 0.041*\"спорт\" + 0.031*\"бронзовый\" + 0.030*\"россия\"'),\n",
              " (61,\n",
              "  '0.042*\"герб\" + 0.021*\"щит\" + 0.019*\"печать\" + 0.018*\"золотой\" + 0.016*\"изобразить\" + 0.013*\"знак\" + 0.013*\"зелёный\" + 0.013*\"поле\" + 0.013*\"описание\" + 0.013*\"утвердить\"'),\n",
              " (129,\n",
              "  '0.098*\"гора\" + 0.045*\"северный\" + 0.045*\"южный\" + 0.044*\"горный\" + 0.039*\"полюс\" + 0.033*\"восточный\" + 0.024*\"долгота\" + 0.024*\"меридиан\" + 0.021*\"западный\" + 0.020*\"антарктический\"'),\n",
              " (156,\n",
              "  '0.052*\"орден\" + 0.048*\"св\" + 0.043*\"произвести\" + 0.037*\"степень\" + 0.033*\"назначить\" + 0.026*\"наградить\" + 0.025*\"1-й\" + 0.022*\"чин\" + 0.022*\"анна\" + 0.019*\"отличие\"'),\n",
              " (85,\n",
              "  '0.176*\"уезд\" + 0.085*\"губерния\" + 0.080*\"волость\" + 0.043*\"нижегородский\" + 0.026*\"постановление\" + 0.025*\"уездный\" + 0.022*\"латвийский\" + 0.020*\"латвия\" + 0.016*\"чел\" + 0.016*\"войти\"'),\n",
              " (90,\n",
              "  '0.101*\"км\" + 0.068*\"река\" + 0.067*\"совет\" + 0.065*\"берег\" + 0.055*\"расстояние\" + 0.053*\"харьковский\" + 0.043*\"сельский\" + 0.039*\"течение\" + 0.035*\"ж\" + 0.032*\"левый\"'),\n",
              " (117,\n",
              "  '0.172*\"нижний\" + 0.148*\"микрорайон\" + 0.090*\"топоним\" + 0.081*\"наместник\" + 0.061*\"новгород\" + 0.061*\"безымянный\" + 0.053*\"мухаммад\" + 0.033*\"ибн\" + 0.032*\"юбилейный\" + 0.029*\"абу\"'),\n",
              " (77,\n",
              "  '0.039*\"французский\" + 0.026*\"поэт\" + 0.019*\"де\" + 0.019*\"королева\" + 0.017*\"стих\" + 0.016*\"франция\" + 0.015*\"жан\" + 0.014*\"супруг\" + 0.012*\"написать\" + 0.011*\"принцесса\"'),\n",
              " (154,\n",
              "  '0.052*\"земельный\" + 0.030*\"земский\" + 0.029*\"византийский\" + 0.021*\"молоко\" + 0.020*\"жёлтый\" + 0.018*\"индийский\" + 0.018*\"средний\" + 0.015*\"сосновый\" + 0.014*\"www\" + 0.014*\"пасть\"'),\n",
              " (182,\n",
              "  '0.063*\"разработка\" + 0.039*\"электронный\" + 0.035*\"оборудование\" + 0.032*\"робот\" + 0.029*\"основа\" + 0.021*\"обозначение\" + 0.020*\"мастерская\" + 0.020*\"расширить\" + 0.020*\"частота\" + 0.019*\"компьютер\"'),\n",
              " (25,\n",
              "  '0.050*\"суд\" + 0.021*\"дело\" + 0.019*\"председатель\" + 0.018*\"должность\" + 0.015*\"военный\" + 0.015*\"судья\" + 0.015*\"республика\" + 0.015*\"заместитель\" + 0.014*\"верховный\" + 0.012*\"судебный\"'),\n",
              " (146,\n",
              "  '0.022*\"тюрьма\" + 0.019*\"военный\" + 0.018*\"прокуратура\" + 0.017*\"нидерланды\" + 0.014*\"вторжение\" + 0.012*\"боевик\" + 0.012*\"израиль\" + 0.011*\"мирный\" + 0.011*\"конфликт\" + 0.010*\"арестовать\"'),\n",
              " (5,\n",
              "  '0.099*\"турнир\" + 0.044*\"финал\" + 0.044*\"чемпионат\" + 0.036*\"открытый\" + 0.034*\"мир\" + 0.027*\"рейтинг\" + 0.026*\"четвертьфинал\" + 0.025*\"выйти\" + 0.025*\"парный\" + 0.022*\"пара\"'),\n",
              " (193,\n",
              "  '0.150*\"квалификация\" + 0.092*\"дисциплина\" + 0.062*\"церемония\" + 0.048*\"премия\" + 0.045*\"вручаться\" + 0.043*\"четырнадцатый\" + 0.042*\"награда\" + 0.039*\"звено\" + 0.038*\"девятый\" + 0.031*\"набрать\"'),\n",
              " (59,\n",
              "  '0.025*\"тринидад\" + 0.018*\"транспортный\" + 0.017*\"транспорт\" + 0.014*\"литва\" + 0.014*\"патрон\" + 0.012*\"банда\" + 0.012*\"металлический\" + 0.011*\"миллион\" + 0.011*\"сеть\" + 0.010*\"канал\"')]"
            ]
          },
          "metadata": {},
          "execution_count": 34
        }
      ]
    },
    {
      "cell_type": "markdown",
      "source": [
        "Gensim с ngram"
      ],
      "metadata": {
        "id": "i8gPYaQ9IMUP"
      },
      "id": "i8gPYaQ9IMUP"
    },
    {
      "cell_type": "code",
      "source": [
        "texts = [text.split() for text in texts]"
      ],
      "metadata": {
        "id": "jFFKFgyLIQxt"
      },
      "id": "jFFKFgyLIQxt",
      "execution_count": null,
      "outputs": []
    },
    {
      "cell_type": "code",
      "source": [
        "ph = gensim.models.Phrases(texts, scoring='npmi', threshold=0.4) # threshold можно подбирать\n",
        "p = gensim.models.phrases.Phraser(ph)"
      ],
      "metadata": {
        "id": "vj8cMViyTAOO"
      },
      "id": "vj8cMViyTAOO",
      "execution_count": null,
      "outputs": []
    },
    {
      "cell_type": "code",
      "source": [
        "def make_phrases(texts):\n",
        "    return [p[text] for text in texts]"
      ],
      "metadata": {
        "id": "vp7UeYlNCrRM"
      },
      "id": "vp7UeYlNCrRM",
      "execution_count": null,
      "outputs": []
    },
    {
      "cell_type": "code",
      "source": [
        "ngrammed_texts = make_phrases(texts)"
      ],
      "metadata": {
        "id": "Wji3eltJCrHe"
      },
      "id": "Wji3eltJCrHe",
      "execution_count": null,
      "outputs": []
    },
    {
      "cell_type": "code",
      "source": [
        "dictinary_ng = gensim.corpora.Dictionary(ngrammed_texts)"
      ],
      "metadata": {
        "id": "gKek8BZQIQuV"
      },
      "id": "gKek8BZQIQuV",
      "execution_count": null,
      "outputs": []
    },
    {
      "cell_type": "code",
      "source": [
        "dictinary_ng.filter_extremes(no_above=0.1, no_below=10)\n",
        "dictinary_ng.compactify()"
      ],
      "metadata": {
        "id": "dNDZfjGiIQr0"
      },
      "id": "dNDZfjGiIQr0",
      "execution_count": null,
      "outputs": []
    },
    {
      "cell_type": "code",
      "source": [
        "texts_ng = ngrammed_texts"
      ],
      "metadata": {
        "id": "Cik0nlHgC8KD"
      },
      "id": "Cik0nlHgC8KD",
      "execution_count": null,
      "outputs": []
    },
    {
      "cell_type": "code",
      "source": [
        "corpus_ng = [dictinary_ng.doc2bow(text) for text in texts_ng]  "
      ],
      "metadata": {
        "id": "IQzJHoq9IQpH"
      },
      "id": "IQzJHoq9IQpH",
      "execution_count": null,
      "outputs": []
    },
    {
      "cell_type": "code",
      "source": [
        "lda_ng = gensim.models.LdaModel(corpus_ng, 200, id2word=dictinary_ng, passes=5)"
      ],
      "metadata": {
        "id": "F0_l-mIQIQlI"
      },
      "id": "F0_l-mIQIQlI",
      "execution_count": null,
      "outputs": []
    },
    {
      "cell_type": "code",
      "source": [
        "lda_ng.print_topics()"
      ],
      "metadata": {
        "colab": {
          "base_uri": "https://localhost:8080/"
        },
        "id": "uNo8JLVjDNnC",
        "outputId": "9424b7d0-1842-4aad-d5cd-8905ea5207ed"
      },
      "id": "uNo8JLVjDNnC",
      "execution_count": null,
      "outputs": [
        {
          "output_type": "execute_result",
          "data": {
            "text/plain": [
              "[(22,\n",
              "  '0.116*\"экспедиция\" + 0.027*\"виктория\" + 0.027*\"полярный\" + 0.026*\"южный_полюс\" + 0.023*\"судно\" + 0.020*\"1910\" + 0.019*\"поход\" + 0.018*\"1911\" + 0.018*\"скотт\" + 0.018*\"плавание\"'),\n",
              " (78,\n",
              "  '0.137*\"строительный\" + 0.105*\"боливия\" + 0.068*\"всеобщий\" + 0.061*\"аргентинский\" + 0.049*\"аргентина\" + 0.040*\"голосование\" + 0.037*\"тайный\" + 0.035*\"местечко\" + 0.034*\"де\" + 0.028*\"акт\"'),\n",
              " (177,\n",
              "  '0.090*\"профессор\" + 0.088*\"институт\" + 0.055*\"университет\" + 0.027*\"лаборатория\" + 0.024*\"академия_наука\" + 0.023*\"учёный\" + 0.021*\"избрать\" + 0.020*\"окончить\" + 0.019*\"сибирский\" + 0.019*\"кафедра\"'),\n",
              " (20,\n",
              "  '0.063*\"команда\" + 0.038*\"капитан\" + 0.036*\"штат\" + 0.026*\"нью-йорк\" + 0.026*\"американский\" + 0.019*\"сша\" + 0.014*\"рейс\" + 0.013*\"джеймс\" + 0.011*\"судно\" + 0.011*\"лето\"'),\n",
              " (0,\n",
              "  '0.060*\"бог\" + 0.028*\"герой\" + 0.026*\"мир\" + 0.012*\"богиня\" + 0.012*\"глаз\" + 0.011*\"душа\" + 0.009*\"враг\" + 0.008*\"книга\" + 0.008*\"человеческий\" + 0.008*\"медведь\"'),\n",
              " (76,\n",
              "  '0.202*\"открытый_чемпионат\" + 0.115*\"пара\" + 0.065*\"спорт\" + 0.036*\"2010\" + 0.031*\"2001\" + 0.028*\"переиграть\" + 0.025*\"командный\" + 0.023*\"спартак\" + 0.018*\"партнёр\" + 0.017*\"восемь\"'),\n",
              " (155,\n",
              "  '0.035*\"лист\" + 0.031*\"растение\" + 0.030*\"мм\" + 0.028*\"встречаться\" + 0.020*\"багамский_остров\" + 0.018*\"жёлтый\" + 0.017*\"тонкий\" + 0.015*\"личинка\" + 0.015*\"цветок\" + 0.015*\"длина\"'),\n",
              " (117,\n",
              "  '0.025*\"территория\" + 0.017*\"на_территория\" + 0.015*\"зона\" + 0.013*\"договор\" + 0.012*\"оформление\" + 0.012*\"власть\" + 0.011*\"бюджет\" + 0.011*\"налог\" + 0.011*\"башня\" + 0.011*\"указ\"'),\n",
              " (93,\n",
              "  '0.056*\"флаг\" + 0.053*\"россия\" + 0.034*\"чемпионат_европа\" + 0.028*\"чемпионка\" + 0.023*\"германия\" + 0.023*\"чемпионат_мир\" + 0.020*\"бронзовый_призёр\" + 0.019*\"двукратный\" + 0.018*\"спорт\" + 0.018*\"2008\"'),\n",
              " (36,\n",
              "  '0.225*\"университет\" + 0.063*\"студент\" + 0.036*\"образование\" + 0.035*\"факультет\" + 0.028*\"платформа\" + 0.027*\"семь\" + 0.023*\"садовый\" + 0.019*\"студенческий\" + 0.019*\"колледж\" + 0.016*\"высокий\"'),\n",
              " (164,\n",
              "  '0.029*\"маргарита\" + 0.024*\"павел\" + 0.022*\"подруга\" + 0.020*\"артур\" + 0.016*\"тим\" + 0.014*\"криминальный\" + 0.014*\"зрение\" + 0.014*\"надежда\" + 0.012*\"сара\" + 0.012*\"соглашаться\"'),\n",
              " (146,\n",
              "  '0.080*\"чудновский_район\" + 0.074*\"мемориал\" + 0.074*\"илья\" + 0.060*\"чудновский_р-н\" + 0.054*\"эстония\" + 0.046*\"ул_центральный\" + 0.044*\"кладбище\" + 0.036*\"плита\" + 0.033*\"память\" + 0.031*\"братский_могила\"'),\n",
              " (189,\n",
              "  '0.044*\"право\" + 0.029*\"социальный\" + 0.022*\"статья\" + 0.013*\"теория\" + 0.012*\"концепция\" + 0.010*\"врач\" + 0.009*\"термин\" + 0.008*\"переходный\" + 0.008*\"декларация\" + 0.008*\"жизнь\"'),\n",
              " (144,\n",
              "  '0.087*\"философия\" + 0.081*\"купец\" + 0.069*\"флоренция\" + 0.064*\"описать\" + 0.053*\"городище\" + 0.047*\"формироваться\" + 0.032*\"прямоугольный\" + 0.028*\"сцена\" + 0.027*\"увлекаться\" + 0.026*\"сан\"'),\n",
              " (122,\n",
              "  '0.051*\"армия\" + 0.027*\"войско\" + 0.021*\"фронт\" + 0.019*\"дивизия\" + 0.015*\"бой\" + 0.012*\"противник\" + 0.012*\"бригада\" + 0.011*\"операция\" + 0.010*\"наступление\" + 0.009*\"январь\"'),\n",
              " (190,\n",
              "  '0.109*\"вино\" + 0.078*\"регион\" + 0.066*\"белый\" + 0.042*\"сорт\" + 0.036*\"область\" + 0.033*\"красный\" + 0.030*\"страна\" + 0.026*\"крымский\" + 0.026*\"крым\" + 0.023*\"белые\"'),\n",
              " (39,\n",
              "  '0.033*\"бой\" + 0.028*\"девушка\" + 0.027*\"против\" + 0.023*\"шоу\" + 0.019*\"принять_участие\" + 0.019*\"проиграть\" + 0.018*\"поединок\" + 0.018*\"победить\" + 0.016*\"одержать_победа\" + 0.016*\"над\"'),\n",
              " (106,\n",
              "  '0.048*\"опера\" + 0.032*\"милан\" + 0.031*\"партия\" + 0.028*\"петь\" + 0.026*\"м\" + 0.022*\"венеция\" + 0.019*\"исполнять\" + 0.019*\"певец\" + 0.016*\"театр\" + 0.015*\"четвёрка\"'),\n",
              " (134,\n",
              "  '0.012*\"век\" + 0.007*\"древний\" + 0.006*\"замок\" + 0.005*\"найти\" + 0.005*\"земля\" + 0.005*\"ещё\" + 0.005*\"согласно\" + 0.005*\"же\" + 0.005*\"здесь\" + 0.005*\"сохраниться\"'),\n",
              " (31,\n",
              "  '0.152*\"красный\" + 0.082*\"микрорайон\" + 0.074*\"s\" + 0.043*\"росс\" + 0.037*\"митрополия\" + 0.033*\"узбекистан\" + 0.029*\"указание\" + 0.027*\"георгий\" + 0.020*\"23_март\" + 0.019*\"консультант\"')]"
            ]
          },
          "metadata": {},
          "execution_count": 126
        }
      ]
    },
    {
      "cell_type": "markdown",
      "source": [
        "Gensim с TfIdf"
      ],
      "metadata": {
        "id": "Ug_N7weILQjy"
      },
      "id": "Ug_N7weILQjy"
    },
    {
      "cell_type": "code",
      "source": [
        "dictinary_tfidf = gensim.corpora.Dictionary((text.split() for text in texts))"
      ],
      "metadata": {
        "id": "FvE_QX3ULm2R"
      },
      "id": "FvE_QX3ULm2R",
      "execution_count": null,
      "outputs": []
    },
    {
      "cell_type": "code",
      "source": [
        "dictinary_tfidf.filter_extremes(no_above=0.1, no_below=10)\n",
        "dictinary_tfidf.compactify()"
      ],
      "metadata": {
        "id": "KTMZEUAzLmzb"
      },
      "id": "KTMZEUAzLmzb",
      "execution_count": null,
      "outputs": []
    },
    {
      "cell_type": "code",
      "source": [
        "corpus = [dictinary.doc2bow(text.split()) for text in texts]"
      ],
      "metadata": {
        "id": "q_lkvsySQjZh"
      },
      "id": "q_lkvsySQjZh",
      "execution_count": null,
      "outputs": []
    },
    {
      "cell_type": "code",
      "source": [
        "tfidf = gensim.models.TfidfModel(corpus, id2word=dictinary_tfidf, )\n",
        "corpus_tfidf = tfidf[corpus]"
      ],
      "metadata": {
        "id": "19ZnN7HfLmtd"
      },
      "id": "19ZnN7HfLmtd",
      "execution_count": null,
      "outputs": []
    },
    {
      "cell_type": "code",
      "source": [
        "lda_tfidf = gensim.models.LdaModel(corpus, 200, id2word=dictinary_tfidf, passes=5)"
      ],
      "metadata": {
        "id": "pcHv9kp3Lmwg"
      },
      "id": "pcHv9kp3Lmwg",
      "execution_count": null,
      "outputs": []
    },
    {
      "cell_type": "code",
      "source": [
        "lda_tfidf.print_topics()"
      ],
      "metadata": {
        "colab": {
          "base_uri": "https://localhost:8080/"
        },
        "id": "zOR4mBIKLmlT",
        "outputId": "af6b44f0-179f-4055-9dfc-ebbfe567d30d"
      },
      "id": "zOR4mBIKLmlT",
      "execution_count": null,
      "outputs": [
        {
          "output_type": "execute_result",
          "data": {
            "text/plain": [
              "[(54,\n",
              "  '0.161*\"университет\" + 0.055*\"наука\" + 0.046*\"факультет\" + 0.041*\"профессор\" + 0.027*\"образование\" + 0.027*\"учебный\" + 0.026*\"кафедра\" + 0.023*\"институт\" + 0.021*\"студент\" + 0.019*\"преподаватель\"'),\n",
              " (167,\n",
              "  '0.086*\"формула\" + 0.076*\"напряжение\" + 0.055*\"сопротивление\" + 0.048*\"ток\" + 0.046*\"таджикистан\" + 0.037*\"потеря\" + 0.036*\"узбекский\" + 0.034*\"коэффициент\" + 0.024*\"параметр\" + 0.022*\"комикс\"'),\n",
              " (114,\n",
              "  '0.118*\"партия\" + 0.037*\"выборы\" + 0.030*\"политический\" + 0.021*\"движение\" + 0.019*\"депутат\" + 0.017*\"хвост\" + 0.017*\"власть\" + 0.016*\"коммунист\" + 0.016*\"член\" + 0.016*\"правительство\"'),\n",
              " (176,\n",
              "  '0.052*\"европейский\" + 0.052*\"александрович\" + 0.046*\"мюнхен\" + 0.044*\"леонид\" + 0.041*\"европа\" + 0.035*\"конгресс\" + 0.035*\"ницца\" + 0.035*\"союз\" + 0.033*\"уродить\" + 0.030*\"архив\"'),\n",
              " (79,\n",
              "  '0.043*\"итальянский\" + 0.030*\"“\" + 0.029*\"„\" + 0.021*\"исполнитель\" + 0.017*\"руб\" + 0.017*\"музыкант\" + 0.011*\"тираж\" + 0.011*\"участник\" + 0.011*\"экземпляр\" + 0.009*\"рим\"'),\n",
              " (164,\n",
              "  '0.077*\"фестиваль\" + 0.043*\"проект\" + 0.030*\"украинский\" + 0.026*\"1990\" + 0.026*\"кинг\" + 0.025*\"участник\" + 0.022*\"международный\" + 0.018*\"киев\" + 0.018*\"кристиан\" + 0.017*\"1995\"'),\n",
              " (81,\n",
              "  '0.278*\"святой\" + 0.151*\"день\" + 0.050*\"праздник\" + 0.031*\"католический\" + 0.023*\"отмечаться\" + 0.021*\"память\" + 0.018*\"ежегодно\" + 0.016*\"артистка\" + 0.015*\"христианский\" + 0.015*\"дева\"'),\n",
              " (80,\n",
              "  '0.070*\"герб\" + 0.058*\"флаг\" + 0.054*\"зелёный\" + 0.042*\"символ\" + 0.042*\"левый\" + 0.036*\"оао\" + 0.033*\"полотно\" + 0.027*\"строитель\" + 0.025*\"слева\" + 0.021*\"образование\"'),\n",
              " (122,\n",
              "  '0.091*\"сергей\" + 0.069*\"просвещение\" + 0.040*\"i\" + 0.030*\"евгений\" + 0.027*\"вольный\" + 0.027*\"женатый\" + 0.026*\"категория\" + 0.023*\"анатолий\" + 0.023*\"николаевич\" + 0.021*\"александр\"'),\n",
              " (78,\n",
              "  '0.027*\"птица\" + 0.020*\"животное\" + 0.018*\"обитать\" + 0.015*\"около\" + 0.014*\"яйцо\" + 0.012*\"земля\" + 0.012*\"крупный\" + 0.012*\"питаться\" + 0.011*\"распространить\" + 0.011*\"вода\"'),\n",
              " (148,\n",
              "  '0.160*\"семейство\" + 0.104*\"род\" + 0.095*\"подсемейство\" + 0.070*\"r\" + 0.046*\"тёмный\" + 0.044*\"рыба\" + 0.029*\"кожа\" + 0.025*\"фаза\" + 0.021*\"редкий\" + 0.020*\"развитой\"'),\n",
              " (197,\n",
              "  '0.077*\"100\" + 0.074*\"серия\" + 0.050*\"печать\" + 0.036*\"карельский\" + 0.024*\"фрэнк\" + 0.022*\"тверской\" + 0.018*\"1877\" + 0.018*\"выпускаться\" + 0.018*\"1878\" + 0.017*\"денежный\"'),\n",
              " (74,\n",
              "  '0.353*\"ален\" + 0.320*\"роберт\" + 0.057*\"старший\" + 0.031*\"скончаться\" + 0.024*\"обладатель\" + 0.021*\"поздний\" + 0.015*\"младший\" + 0.014*\"пожертвование\" + 0.013*\"пять\" + 0.006*\"виконт\"'),\n",
              " (140,\n",
              "  '0.037*\"герой\" + 0.030*\"союз\" + 0.022*\"окончить\" + 0.021*\"школа\" + 0.020*\"отечественный\" + 0.019*\"советский\" + 0.018*\"звание\" + 0.018*\"авиационный\" + 0.017*\"орден\" + 0.016*\"боевой\"'),\n",
              " (17,\n",
              "  '0.029*\"русский\" + 0.029*\"н\" + 0.024*\"писатель\" + 0.022*\"литературный\" + 0.019*\"п\" + 0.017*\"литература\" + 0.017*\"поэт\" + 0.017*\"москва\" + 0.016*\"билет\" + 0.013*\"произведение\"'),\n",
              " (63,\n",
              "  '0.037*\"университет\" + 0.027*\"академия\" + 0.026*\"смит\" + 0.018*\"колледж\" + 0.017*\"преподавать\" + 0.016*\"степень\" + 0.015*\"школа\" + 0.012*\"исследование\" + 0.011*\"магистр\" + 0.011*\"поступить\"'),\n",
              " (95,\n",
              "  '0.041*\"культура\" + 0.033*\"древний\" + 0.024*\"парк\" + 0.022*\"памятник\" + 0.021*\"журнал\" + 0.019*\"археологический\" + 0.019*\"найти\" + 0.017*\"обнаружить\" + 0.014*\"эпоха\" + 0.013*\"период\"'),\n",
              " (160,\n",
              "  '0.037*\"институт\" + 0.024*\"научный\" + 0.020*\"течение\" + 0.019*\"ран\" + 0.019*\"совет\" + 0.017*\"физика\" + 0.014*\"исследование\" + 0.012*\"процесс\" + 0.012*\"ан\" + 0.011*\"лаборатория\"'),\n",
              " (168,\n",
              "  '0.199*\"фильм\" + 0.036*\"снятой\" + 0.034*\"кольцо\" + 0.028*\"энди\" + 0.028*\"документальный\" + 0.026*\"мак\" + 0.022*\"лента\" + 0.019*\"молния\" + 0.018*\"снять\" + 0.015*\"встречать\"'),\n",
              " (32,\n",
              "  '0.144*\"аэропорт\" + 0.090*\"якутский\" + 0.062*\"тип\" + 0.058*\"якутия\" + 0.057*\"региональный\" + 0.032*\"обеспечивать\" + 0.028*\"вс\" + 0.026*\"вертолёт\" + 0.026*\"симон\" + 0.024*\"ген\"')]"
            ]
          },
          "metadata": {},
          "execution_count": 49
        }
      ]
    },
    {
      "cell_type": "markdown",
      "source": [
        "Gensim с ngrams и TfIdf"
      ],
      "metadata": {
        "id": "UXxmA714Og3l"
      },
      "id": "UXxmA714Og3l"
    },
    {
      "cell_type": "code",
      "source": [
        "ph = gensim.models.Phrases(texts, scoring='npmi', threshold=0.4) # threshold можно подбирать\n",
        "p = gensim.models.phrases.Phraser(ph)"
      ],
      "metadata": {
        "id": "JmgOY_aFODqQ"
      },
      "id": "JmgOY_aFODqQ",
      "execution_count": null,
      "outputs": []
    },
    {
      "cell_type": "code",
      "source": [
        "def make_phrases(texts):\n",
        "    return [p[text] for text in texts]"
      ],
      "metadata": {
        "id": "S9vXe_kfRB6a"
      },
      "id": "S9vXe_kfRB6a",
      "execution_count": null,
      "outputs": []
    },
    {
      "cell_type": "code",
      "source": [
        "ngrammed_texts_2 = make_phrases(texts)"
      ],
      "metadata": {
        "id": "CkdwqSugOEVf"
      },
      "id": "CkdwqSugOEVf",
      "execution_count": null,
      "outputs": []
    },
    {
      "cell_type": "code",
      "source": [
        "dictinary_ngtfidf = gensim.corpora.Dictionary(ngrammed_texts_2)"
      ],
      "metadata": {
        "id": "OFhDGIk0OERn"
      },
      "id": "OFhDGIk0OERn",
      "execution_count": null,
      "outputs": []
    },
    {
      "cell_type": "code",
      "source": [
        "dictinary_ngtfidf.filter_extremes(no_above=0.1, no_below=10)\n",
        "dictinary_ngtfidf.compactify()"
      ],
      "metadata": {
        "id": "6qwrT1MfOEOh"
      },
      "id": "6qwrT1MfOEOh",
      "execution_count": null,
      "outputs": []
    },
    {
      "cell_type": "code",
      "source": [
        "texts_ng = ngrammed_texts_2"
      ],
      "metadata": {
        "id": "MmH7PO2WOEI-"
      },
      "id": "MmH7PO2WOEI-",
      "execution_count": null,
      "outputs": []
    },
    {
      "cell_type": "code",
      "source": [
        "corpus_pre = [dictinary_ngtfidf.doc2bow(text) for text in texts_ng]  "
      ],
      "metadata": {
        "id": "8kqMDkT-PbQk"
      },
      "id": "8kqMDkT-PbQk",
      "execution_count": null,
      "outputs": []
    },
    {
      "cell_type": "code",
      "source": [
        "tfidf = gensim.models.TfidfModel(corpus_pre, id2word=dictinary_ngtfidf, )\n",
        "corpus_ngtfidf = tfidf[corpus_pre]"
      ],
      "metadata": {
        "id": "y-yAkOjjOEA9"
      },
      "id": "y-yAkOjjOEA9",
      "execution_count": null,
      "outputs": []
    },
    {
      "cell_type": "code",
      "source": [
        "lda_ngtfidf = gensim.models.LdaModel(corpus_ngtfidf, 500, id2word=dictinary_ngtfidf, passes=5)"
      ],
      "metadata": {
        "id": "CaD7J9yGSct2"
      },
      "id": "CaD7J9yGSct2",
      "execution_count": null,
      "outputs": []
    },
    {
      "cell_type": "code",
      "source": [
        "lda_ngtfidf.print_topics()"
      ],
      "metadata": {
        "colab": {
          "base_uri": "https://localhost:8080/"
        },
        "id": "4e9pfS3DTJbm",
        "outputId": "878fd5d6-304a-4054-d0c6-417c1e9e3410"
      },
      "id": "4e9pfS3DTJbm",
      "execution_count": null,
      "outputs": [
        {
          "output_type": "execute_result",
          "data": {
            "text/plain": [
              "[(445,\n",
              "  '0.081*\"академик\" + 0.049*\"1843\" + 0.040*\"помешать\" + 0.019*\"петербург\" + 0.008*\"портрет\" + 0.008*\"серебряный_медаль\" + 0.000*\"внешний\" + 0.000*\"николай\" + 0.000*\"живопись\" + 0.000*\"академия\"'),\n",
              " (82,\n",
              "  '0.220*\"игра_1994\" + 0.126*\"зимний_олимпийский\" + 0.111*\"лиллехамера_норвегия\" + 0.036*\"свидетельствовать\" + 0.035*\"пруссия\" + 0.031*\"офицерский\" + 0.027*\"базироваться\" + 0.023*\"датский\" + 0.022*\"долина\" + 0.021*\"исторически\"'),\n",
              " (209,\n",
              "  '0.240*\"песня\" + 0.086*\"любовь\" + 0.081*\"певица\" + 0.076*\"записать\" + 0.059*\"релиз\" + 0.042*\"выпустить\" + 0.039*\"студия\" + 0.037*\"издать\" + 0.024*\"включить\" + 0.023*\"первоначальный\"'),\n",
              " (117,\n",
              "  '0.075*\"фильм\" + 0.034*\"режиссёр\" + 0.024*\"сериал\" + 0.020*\"актёр\" + 0.015*\"деньга\" + 0.014*\"родитель\" + 0.014*\"пьеса\" + 0.014*\"нью-йорк\" + 0.014*\"роль\" + 0.013*\"я\"'),\n",
              " (36,\n",
              "  '0.108*\"княжество\" + 0.090*\"преступление\" + 0.070*\"преступник\" + 0.053*\"раб\" + 0.049*\"лишение_свобода\" + 0.035*\"ночью\" + 0.032*\"серийный\" + 0.027*\"известно_что\" + 0.027*\"убийство\" + 0.025*\"найти\"'),\n",
              " (170,\n",
              "  '0.237*\"доктор\" + 0.127*\"44\" + 0.047*\"повторно\" + 0.001*\"1959\" + 0.000*\"окончание\" + 0.000*\"съёмка\" + 0.000*\"тот_факт\" + 0.000*\"индекс\" + 0.000*\"исключить_из\" + 0.000*\"8\"'),\n",
              " (25,\n",
              "  '0.139*\"домашний_матч\" + 0.097*\"проводить\" + 0.080*\"клод\" + 0.051*\"по-прежнему\" + 0.041*\"достижение\" + 0.037*\"xvi\" + 0.030*\"чемпионат\" + 0.026*\"уступать\" + 0.020*\"провести\" + 0.018*\"главный\"'),\n",
              " (93,\n",
              "  '0.074*\"председатель\" + 0.059*\"заместитель_председатель\" + 0.048*\"отдел\" + 0.046*\"казахстан\" + 0.045*\"созыв\" + 0.043*\"область\" + 0.036*\"государственный_деятель\" + 0.034*\"тест\" + 0.033*\"верховный_совет\" + 0.031*\"1938\"'),\n",
              " (421,\n",
              "  '0.185*\"игра_1956\" + 0.163*\"1956\" + 0.144*\"мельбурн_австралия\" + 0.084*\"’\" + 0.078*\"кг\" + 0.038*\"третий_раз\" + 0.033*\"85\" + 0.028*\"заготовка\" + 0.004*\"обычно\" + 0.002*\"20\"'),\n",
              " (81,\n",
              "  '0.035*\"алексеевич\" + 0.035*\"обстоятельство\" + 0.035*\"объяснять\" + 0.032*\"60\" + 0.031*\"компьютерный\" + 0.031*\"схема\" + 0.029*\"экспериментальный\" + 0.028*\"сайт\" + 0.024*\"загадочный\" + 0.021*\"призывать\"'),\n",
              " (165,\n",
              "  '0.218*\"нью-йорк\" + 0.078*\"рельеф\" + 0.049*\"полгода\" + 0.023*\"учёба\" + 0.021*\"возрождение\" + 0.006*\"метрополитен\" + 0.005*\"искусство\" + 0.000*\"создавать\" + 0.000*\"скульптор\" + 0.000*\"музей\"'),\n",
              " (407,\n",
              "  '0.147*\"форма\" + 0.092*\"напротив\" + 0.092*\"жидкость\" + 0.063*\"приём\" + 0.054*\"оболочка\" + 0.034*\"по_сравнение\" + 0.030*\"плохо\" + 0.013*\"основный\" + 0.008*\"необходимо\" + 0.004*\"применение\"'),\n",
              " (459,\n",
              "  '0.176*\"карта\" + 0.078*\"сочетание\" + 0.050*\"белоруссия\" + 0.040*\"рабочий\" + 0.037*\"сосуд\" + 0.026*\"поляк\" + 0.024*\"устанавливаться\" + 0.023*\"элемент\" + 0.021*\"самостоятельный\" + 0.010*\"определённый\"'),\n",
              " (105,\n",
              "  '0.204*\"борис\" + 0.068*\"елизавета\" + 0.053*\"директор_институт\" + 0.000*\"эвакуировать\" + 0.000*\"департамент\" + 0.000*\"институт\" + 0.000*\"инженер\" + 0.000*\"издаваться\" + 0.000*\"учёный\" + 0.000*\"политехнический_институт\"'),\n",
              " (7,\n",
              "  '0.102*\"черниговский\" + 0.087*\"размер\" + 0.087*\"1879\" + 0.070*\"мыс\" + 0.039*\"сказка\" + 0.034*\"фашист\" + 0.027*\"относиться_к\" + 0.025*\"крайне\" + 0.020*\"глубина\" + 0.018*\"грамота\"'),\n",
              " (41,\n",
              "  '0.086*\"восстание\" + 0.053*\"космос\" + 0.052*\"указывать\" + 0.047*\"упоминание\" + 0.041*\"историк\" + 0.038*\"рассказывать\" + 0.034*\"лечь\" + 0.034*\"некий\" + 0.028*\"мятеж\" + 0.026*\"атомный\"'),\n",
              " (120,\n",
              "  '0.065*\"дальневосточный\" + 0.063*\"краевой\" + 0.058*\"1894\" + 0.055*\"разведка\" + 0.053*\"большевик\" + 0.049*\"окружный\" + 0.039*\"дальний_восток\" + 0.036*\"гражданский_война\" + 0.025*\"республика\" + 0.020*\"1917_год\"'),\n",
              " (178,\n",
              "  '0.064*\"жук\" + 0.048*\"строй\" + 0.041*\"эдвард\" + 0.033*\"вывести_из\" + 0.031*\"переклассифицировать\" + 0.027*\"стоянка\" + 0.026*\"металл\" + 0.025*\"вывести\" + 0.025*\"резерв\" + 0.023*\"останки\"'),\n",
              " (491,\n",
              "  '0.344*\"корабль\" + 0.114*\"тихий_океан\" + 0.041*\"доставить\" + 0.040*\"борт\" + 0.036*\"десантный\" + 0.036*\"посадка\" + 0.027*\"плавание\" + 0.007*\"170\" + 0.005*\"пассажир\" + 0.003*\"осуществить\"'),\n",
              " (298,\n",
              "  '0.016*\"учиться\" + 0.015*\"сезон\" + 0.015*\"контракт\" + 0.014*\"октябрь\" + 0.013*\"июнь\" + 0.013*\"1925\" + 0.012*\"школа\" + 0.011*\"забить\" + 0.011*\"2008_год\" + 0.011*\"ссср\"')]"
            ]
          },
          "metadata": {},
          "execution_count": 194
        }
      ]
    },
    {
      "cell_type": "markdown",
      "source": [
        "Примечание: эти темы мне, конечно, нравятся меньше, чем предыдущие. Но я меняла все возможные параметры, и это сам адекватный вариант из всего, что я увидела среди топиков. Здесь хотя бы немалая часть тем выглядит адекватной."
      ],
      "metadata": {
        "id": "JCyRUN0cQvzl"
      },
      "id": "JCyRUN0cQvzl"
    }
  ],
  "metadata": {
    "kernelspec": {
      "display_name": "Python 3",
      "language": "python",
      "name": "python3"
    },
    "language_info": {
      "codemirror_mode": {
        "name": "ipython",
        "version": 3
      },
      "file_extension": ".py",
      "mimetype": "text/x-python",
      "name": "python",
      "nbconvert_exporter": "python",
      "pygments_lexer": "ipython3",
      "version": "3.7.2"
    },
    "colab": {
      "provenance": [],
      "include_colab_link": true
    }
  },
  "nbformat": 4,
  "nbformat_minor": 5
}